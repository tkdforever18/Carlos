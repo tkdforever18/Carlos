{
  "nbformat": 4,
  "nbformat_minor": 0,
  "metadata": {
    "colab": {
      "provenance": [],
      "authorship_tag": "ABX9TyMnoC17F66k02RHAiu8cjTG",
      "include_colab_link": true
    },
    "kernelspec": {
      "name": "python3",
      "display_name": "Python 3"
    },
    "language_info": {
      "name": "python"
    }
  },
  "cells": [
    {
      "cell_type": "markdown",
      "metadata": {
        "id": "view-in-github",
        "colab_type": "text"
      },
      "source": [
        "<a href=\"https://colab.research.google.com/github/tkdforever18/Carlos/blob/main/Clase_8.ipynb\" target=\"_parent\"><img src=\"https://colab.research.google.com/assets/colab-badge.svg\" alt=\"Open In Colab\"/></a>"
      ]
    },
    {
      "cell_type": "markdown",
      "source": [
        "Regression\n",
        "Salary = b0 + b1*Age\n",
        "y = mx + c\n",
        "\n",
        "b1 = impacto\n",
        "\n",
        "si b1 = 0, entonces age no tiene impacto\n",
        "\n",
        "b0 = punto inicial, salario inicial\n",
        "\n",
        "\n",
        "Salary = b0 + b1*Age + b2*cme (empresa)\n",
        "y = mx + c\n",
        "\n",
        "si b1 y b2 es 0, significa que ni la edad, ni la empresa impactan en el salario\n",
        "\n",
        "b1 y b2 son variables, hay que encontrar qué variables provocan que el salario se modifique, un b=0, significa que esa variable no tiene relación con el salario\n",
        "\n",
        "***\n",
        "Quiero saber el impacto del salario debido a \"Edad\", \"Empresa\" y \"Educación\".***\n",
        "\n"
      ],
      "metadata": {
        "id": "j1w11puWzQWF"
      }
    },
    {
      "cell_type": "code",
      "source": [
        "import matplotlib.pyplot as plt\n",
        "import seaborn as sns\n",
        "import pandas as pd\n",
        "import statsmodels.api as sm\n",
        "import numpy as np\n",
        "from sklearn import linear_model"
      ],
      "metadata": {
        "id": "8OF22svw0lFb"
      },
      "execution_count": 113,
      "outputs": []
    },
    {
      "cell_type": "code",
      "source": [
        "path = 'https://raw.githubusercontent.com/tec03/Datasets/main/datasets/reg_data.csv'\n",
        "df = pd.read_csv(path)\n",
        "df"
      ],
      "metadata": {
        "colab": {
          "base_uri": "https://localhost:8080/",
          "height": 645
        },
        "id": "bl-HPaP22WVe",
        "outputId": "324eb917-5128-4931-da72-4b1d13643290"
      },
      "execution_count": 114,
      "outputs": [
        {
          "output_type": "execute_result",
          "data": {
            "text/plain": [
              "    Gender  Salary   Age       Place  Weight Company   Education  JoinYear\n",
              "0   Female  1300.0  35.0     Chicago    80.0     BMW    Bachelor      2008\n",
              "1   Female  1250.0  33.0     Chicago    82.5    Ford  HighSchool      2010\n",
              "2     Male  2200.0  34.0    New York   100.8     BMW    Bachelor      2004\n",
              "3     Male  2100.0  42.0    New York    90.0     BMW      Master      2000\n",
              "4   Female  1500.0  29.0     Chicago    67.0    Ford      Master      2010\n",
              "5   Female  1700.0  42.0  Washington    60.0    Ford      Master      2000\n",
              "6     Male  3000.0  50.0  Washington    77.0    Ford  HighSchool      2010\n",
              "7     Male  3000.0  55.0  Washington    77.0    Ford    Bachelor      2010\n",
              "8   Female  2800.0  31.0    New York    87.0    Ford    Bachelor      2004\n",
              "9     Male  2900.0  46.0    New York    70.0      GM      Master      2008\n",
              "10  Female  2780.0  36.0  Washington    57.0     BMW  HighSchool      2009\n",
              "11    Male  2550.0  48.0    New York    64.0      GM      Master      2004\n",
              "12  Female     NaN  31.0    New York    87.0    Ford    Bachelor      2009\n",
              "13    Male  2900.0   NaN    New York    70.0      GM      Master      2010\n",
              "14  Female  2780.0  36.0         NaN    57.0     BMW  HighSchool      2010\n",
              "15    Male  2550.0  48.0    New York     NaN      GM      Master      2000\n",
              "16    Male  2550.0  48.0    New York    64.0     NaN      Master      2000\n",
              "17    Male  2550.0  48.0    New York    64.0      GM         NaN      2000\n",
              "18     NaN  2550.0  48.0    New York    64.0      GM      Master      2009"
            ],
            "text/html": [
              "\n",
              "  <div id=\"df-1aa43609-df92-4882-b667-cdd90e0d2311\">\n",
              "    <div class=\"colab-df-container\">\n",
              "      <div>\n",
              "<style scoped>\n",
              "    .dataframe tbody tr th:only-of-type {\n",
              "        vertical-align: middle;\n",
              "    }\n",
              "\n",
              "    .dataframe tbody tr th {\n",
              "        vertical-align: top;\n",
              "    }\n",
              "\n",
              "    .dataframe thead th {\n",
              "        text-align: right;\n",
              "    }\n",
              "</style>\n",
              "<table border=\"1\" class=\"dataframe\">\n",
              "  <thead>\n",
              "    <tr style=\"text-align: right;\">\n",
              "      <th></th>\n",
              "      <th>Gender</th>\n",
              "      <th>Salary</th>\n",
              "      <th>Age</th>\n",
              "      <th>Place</th>\n",
              "      <th>Weight</th>\n",
              "      <th>Company</th>\n",
              "      <th>Education</th>\n",
              "      <th>JoinYear</th>\n",
              "    </tr>\n",
              "  </thead>\n",
              "  <tbody>\n",
              "    <tr>\n",
              "      <th>0</th>\n",
              "      <td>Female</td>\n",
              "      <td>1300.0</td>\n",
              "      <td>35.0</td>\n",
              "      <td>Chicago</td>\n",
              "      <td>80.0</td>\n",
              "      <td>BMW</td>\n",
              "      <td>Bachelor</td>\n",
              "      <td>2008</td>\n",
              "    </tr>\n",
              "    <tr>\n",
              "      <th>1</th>\n",
              "      <td>Female</td>\n",
              "      <td>1250.0</td>\n",
              "      <td>33.0</td>\n",
              "      <td>Chicago</td>\n",
              "      <td>82.5</td>\n",
              "      <td>Ford</td>\n",
              "      <td>HighSchool</td>\n",
              "      <td>2010</td>\n",
              "    </tr>\n",
              "    <tr>\n",
              "      <th>2</th>\n",
              "      <td>Male</td>\n",
              "      <td>2200.0</td>\n",
              "      <td>34.0</td>\n",
              "      <td>New York</td>\n",
              "      <td>100.8</td>\n",
              "      <td>BMW</td>\n",
              "      <td>Bachelor</td>\n",
              "      <td>2004</td>\n",
              "    </tr>\n",
              "    <tr>\n",
              "      <th>3</th>\n",
              "      <td>Male</td>\n",
              "      <td>2100.0</td>\n",
              "      <td>42.0</td>\n",
              "      <td>New York</td>\n",
              "      <td>90.0</td>\n",
              "      <td>BMW</td>\n",
              "      <td>Master</td>\n",
              "      <td>2000</td>\n",
              "    </tr>\n",
              "    <tr>\n",
              "      <th>4</th>\n",
              "      <td>Female</td>\n",
              "      <td>1500.0</td>\n",
              "      <td>29.0</td>\n",
              "      <td>Chicago</td>\n",
              "      <td>67.0</td>\n",
              "      <td>Ford</td>\n",
              "      <td>Master</td>\n",
              "      <td>2010</td>\n",
              "    </tr>\n",
              "    <tr>\n",
              "      <th>5</th>\n",
              "      <td>Female</td>\n",
              "      <td>1700.0</td>\n",
              "      <td>42.0</td>\n",
              "      <td>Washington</td>\n",
              "      <td>60.0</td>\n",
              "      <td>Ford</td>\n",
              "      <td>Master</td>\n",
              "      <td>2000</td>\n",
              "    </tr>\n",
              "    <tr>\n",
              "      <th>6</th>\n",
              "      <td>Male</td>\n",
              "      <td>3000.0</td>\n",
              "      <td>50.0</td>\n",
              "      <td>Washington</td>\n",
              "      <td>77.0</td>\n",
              "      <td>Ford</td>\n",
              "      <td>HighSchool</td>\n",
              "      <td>2010</td>\n",
              "    </tr>\n",
              "    <tr>\n",
              "      <th>7</th>\n",
              "      <td>Male</td>\n",
              "      <td>3000.0</td>\n",
              "      <td>55.0</td>\n",
              "      <td>Washington</td>\n",
              "      <td>77.0</td>\n",
              "      <td>Ford</td>\n",
              "      <td>Bachelor</td>\n",
              "      <td>2010</td>\n",
              "    </tr>\n",
              "    <tr>\n",
              "      <th>8</th>\n",
              "      <td>Female</td>\n",
              "      <td>2800.0</td>\n",
              "      <td>31.0</td>\n",
              "      <td>New York</td>\n",
              "      <td>87.0</td>\n",
              "      <td>Ford</td>\n",
              "      <td>Bachelor</td>\n",
              "      <td>2004</td>\n",
              "    </tr>\n",
              "    <tr>\n",
              "      <th>9</th>\n",
              "      <td>Male</td>\n",
              "      <td>2900.0</td>\n",
              "      <td>46.0</td>\n",
              "      <td>New York</td>\n",
              "      <td>70.0</td>\n",
              "      <td>GM</td>\n",
              "      <td>Master</td>\n",
              "      <td>2008</td>\n",
              "    </tr>\n",
              "    <tr>\n",
              "      <th>10</th>\n",
              "      <td>Female</td>\n",
              "      <td>2780.0</td>\n",
              "      <td>36.0</td>\n",
              "      <td>Washington</td>\n",
              "      <td>57.0</td>\n",
              "      <td>BMW</td>\n",
              "      <td>HighSchool</td>\n",
              "      <td>2009</td>\n",
              "    </tr>\n",
              "    <tr>\n",
              "      <th>11</th>\n",
              "      <td>Male</td>\n",
              "      <td>2550.0</td>\n",
              "      <td>48.0</td>\n",
              "      <td>New York</td>\n",
              "      <td>64.0</td>\n",
              "      <td>GM</td>\n",
              "      <td>Master</td>\n",
              "      <td>2004</td>\n",
              "    </tr>\n",
              "    <tr>\n",
              "      <th>12</th>\n",
              "      <td>Female</td>\n",
              "      <td>NaN</td>\n",
              "      <td>31.0</td>\n",
              "      <td>New York</td>\n",
              "      <td>87.0</td>\n",
              "      <td>Ford</td>\n",
              "      <td>Bachelor</td>\n",
              "      <td>2009</td>\n",
              "    </tr>\n",
              "    <tr>\n",
              "      <th>13</th>\n",
              "      <td>Male</td>\n",
              "      <td>2900.0</td>\n",
              "      <td>NaN</td>\n",
              "      <td>New York</td>\n",
              "      <td>70.0</td>\n",
              "      <td>GM</td>\n",
              "      <td>Master</td>\n",
              "      <td>2010</td>\n",
              "    </tr>\n",
              "    <tr>\n",
              "      <th>14</th>\n",
              "      <td>Female</td>\n",
              "      <td>2780.0</td>\n",
              "      <td>36.0</td>\n",
              "      <td>NaN</td>\n",
              "      <td>57.0</td>\n",
              "      <td>BMW</td>\n",
              "      <td>HighSchool</td>\n",
              "      <td>2010</td>\n",
              "    </tr>\n",
              "    <tr>\n",
              "      <th>15</th>\n",
              "      <td>Male</td>\n",
              "      <td>2550.0</td>\n",
              "      <td>48.0</td>\n",
              "      <td>New York</td>\n",
              "      <td>NaN</td>\n",
              "      <td>GM</td>\n",
              "      <td>Master</td>\n",
              "      <td>2000</td>\n",
              "    </tr>\n",
              "    <tr>\n",
              "      <th>16</th>\n",
              "      <td>Male</td>\n",
              "      <td>2550.0</td>\n",
              "      <td>48.0</td>\n",
              "      <td>New York</td>\n",
              "      <td>64.0</td>\n",
              "      <td>NaN</td>\n",
              "      <td>Master</td>\n",
              "      <td>2000</td>\n",
              "    </tr>\n",
              "    <tr>\n",
              "      <th>17</th>\n",
              "      <td>Male</td>\n",
              "      <td>2550.0</td>\n",
              "      <td>48.0</td>\n",
              "      <td>New York</td>\n",
              "      <td>64.0</td>\n",
              "      <td>GM</td>\n",
              "      <td>NaN</td>\n",
              "      <td>2000</td>\n",
              "    </tr>\n",
              "    <tr>\n",
              "      <th>18</th>\n",
              "      <td>NaN</td>\n",
              "      <td>2550.0</td>\n",
              "      <td>48.0</td>\n",
              "      <td>New York</td>\n",
              "      <td>64.0</td>\n",
              "      <td>GM</td>\n",
              "      <td>Master</td>\n",
              "      <td>2009</td>\n",
              "    </tr>\n",
              "  </tbody>\n",
              "</table>\n",
              "</div>\n",
              "      <button class=\"colab-df-convert\" onclick=\"convertToInteractive('df-1aa43609-df92-4882-b667-cdd90e0d2311')\"\n",
              "              title=\"Convert this dataframe to an interactive table.\"\n",
              "              style=\"display:none;\">\n",
              "        \n",
              "  <svg xmlns=\"http://www.w3.org/2000/svg\" height=\"24px\"viewBox=\"0 0 24 24\"\n",
              "       width=\"24px\">\n",
              "    <path d=\"M0 0h24v24H0V0z\" fill=\"none\"/>\n",
              "    <path d=\"M18.56 5.44l.94 2.06.94-2.06 2.06-.94-2.06-.94-.94-2.06-.94 2.06-2.06.94zm-11 1L8.5 8.5l.94-2.06 2.06-.94-2.06-.94L8.5 2.5l-.94 2.06-2.06.94zm10 10l.94 2.06.94-2.06 2.06-.94-2.06-.94-.94-2.06-.94 2.06-2.06.94z\"/><path d=\"M17.41 7.96l-1.37-1.37c-.4-.4-.92-.59-1.43-.59-.52 0-1.04.2-1.43.59L10.3 9.45l-7.72 7.72c-.78.78-.78 2.05 0 2.83L4 21.41c.39.39.9.59 1.41.59.51 0 1.02-.2 1.41-.59l7.78-7.78 2.81-2.81c.8-.78.8-2.07 0-2.86zM5.41 20L4 18.59l7.72-7.72 1.47 1.35L5.41 20z\"/>\n",
              "  </svg>\n",
              "      </button>\n",
              "      \n",
              "  <style>\n",
              "    .colab-df-container {\n",
              "      display:flex;\n",
              "      flex-wrap:wrap;\n",
              "      gap: 12px;\n",
              "    }\n",
              "\n",
              "    .colab-df-convert {\n",
              "      background-color: #E8F0FE;\n",
              "      border: none;\n",
              "      border-radius: 50%;\n",
              "      cursor: pointer;\n",
              "      display: none;\n",
              "      fill: #1967D2;\n",
              "      height: 32px;\n",
              "      padding: 0 0 0 0;\n",
              "      width: 32px;\n",
              "    }\n",
              "\n",
              "    .colab-df-convert:hover {\n",
              "      background-color: #E2EBFA;\n",
              "      box-shadow: 0px 1px 2px rgba(60, 64, 67, 0.3), 0px 1px 3px 1px rgba(60, 64, 67, 0.15);\n",
              "      fill: #174EA6;\n",
              "    }\n",
              "\n",
              "    [theme=dark] .colab-df-convert {\n",
              "      background-color: #3B4455;\n",
              "      fill: #D2E3FC;\n",
              "    }\n",
              "\n",
              "    [theme=dark] .colab-df-convert:hover {\n",
              "      background-color: #434B5C;\n",
              "      box-shadow: 0px 1px 3px 1px rgba(0, 0, 0, 0.15);\n",
              "      filter: drop-shadow(0px 1px 2px rgba(0, 0, 0, 0.3));\n",
              "      fill: #FFFFFF;\n",
              "    }\n",
              "  </style>\n",
              "\n",
              "      <script>\n",
              "        const buttonEl =\n",
              "          document.querySelector('#df-1aa43609-df92-4882-b667-cdd90e0d2311 button.colab-df-convert');\n",
              "        buttonEl.style.display =\n",
              "          google.colab.kernel.accessAllowed ? 'block' : 'none';\n",
              "\n",
              "        async function convertToInteractive(key) {\n",
              "          const element = document.querySelector('#df-1aa43609-df92-4882-b667-cdd90e0d2311');\n",
              "          const dataTable =\n",
              "            await google.colab.kernel.invokeFunction('convertToInteractive',\n",
              "                                                     [key], {});\n",
              "          if (!dataTable) return;\n",
              "\n",
              "          const docLinkHtml = 'Like what you see? Visit the ' +\n",
              "            '<a target=\"_blank\" href=https://colab.research.google.com/notebooks/data_table.ipynb>data table notebook</a>'\n",
              "            + ' to learn more about interactive tables.';\n",
              "          element.innerHTML = '';\n",
              "          dataTable['output_type'] = 'display_data';\n",
              "          await google.colab.output.renderOutput(dataTable, element);\n",
              "          const docLink = document.createElement('div');\n",
              "          docLink.innerHTML = docLinkHtml;\n",
              "          element.appendChild(docLink);\n",
              "        }\n",
              "      </script>\n",
              "    </div>\n",
              "  </div>\n",
              "  "
            ]
          },
          "metadata": {},
          "execution_count": 114
        }
      ]
    },
    {
      "cell_type": "code",
      "source": [
        "df.shape"
      ],
      "metadata": {
        "colab": {
          "base_uri": "https://localhost:8080/"
        },
        "id": "gzPfkDLT3a7R",
        "outputId": "2afbca96-6a8d-4f2d-eb17-c1eb0aa5ae32"
      },
      "execution_count": 115,
      "outputs": [
        {
          "output_type": "execute_result",
          "data": {
            "text/plain": [
              "(19, 8)"
            ]
          },
          "metadata": {},
          "execution_count": 115
        }
      ]
    },
    {
      "cell_type": "markdown",
      "source": [
        "Aquí vemos que todas las columnas tienen NAN, por lo que no conviene hacer la limpieza completa , para lo qeu vamos a ir a limpiar solo de las variables que nos interesan, en éste caso, solo Salary y Age"
      ],
      "metadata": {
        "id": "hniXZgv73lTj"
      }
    },
    {
      "cell_type": "markdown",
      "source": [
        "# Simple regression (Only one regressor)\n",
        "\n",
        "# What is the salary of a person with age 33?\n",
        "\n",
        "Vamos a responder en base a ésto:\n",
        "Salary = b0 + b1*Age\n",
        "y = c + mx1 + m2x2..."
      ],
      "metadata": {
        "id": "Xg0CcTKy2jI0"
      }
    },
    {
      "cell_type": "code",
      "source": [
        "df.isnull().any()  #Todos tienen Nulls, por lo que vamos a limpoar solo Salary y Age"
      ],
      "metadata": {
        "colab": {
          "base_uri": "https://localhost:8080/"
        },
        "id": "MAJAEqdV2Ytj",
        "outputId": "671c8b24-d22a-4ad5-cf53-f8d82e7717d0"
      },
      "execution_count": 116,
      "outputs": [
        {
          "output_type": "execute_result",
          "data": {
            "text/plain": [
              "Gender        True\n",
              "Salary        True\n",
              "Age           True\n",
              "Place         True\n",
              "Weight        True\n",
              "Company       True\n",
              "Education     True\n",
              "JoinYear     False\n",
              "dtype: bool"
            ]
          },
          "metadata": {},
          "execution_count": 116
        }
      ]
    },
    {
      "cell_type": "code",
      "source": [
        "favs=['Salary','Age']   # Solo hay que limpiar estas dos variables\n",
        "ndf = df[favs]\n",
        "ndf = ndf.dropna()\n",
        "ndf.shape"
      ],
      "metadata": {
        "colab": {
          "base_uri": "https://localhost:8080/"
        },
        "id": "Q3cX0fLi20nK",
        "outputId": "e14f2324-3ee3-4db3-9d9f-d7d3f3a34a39"
      },
      "execution_count": 117,
      "outputs": [
        {
          "output_type": "execute_result",
          "data": {
            "text/plain": [
              "(17, 2)"
            ]
          },
          "metadata": {},
          "execution_count": 117
        }
      ]
    },
    {
      "cell_type": "code",
      "source": [
        "ndf"
      ],
      "metadata": {
        "colab": {
          "base_uri": "https://localhost:8080/",
          "height": 582
        },
        "id": "TnRBNLLR3TkZ",
        "outputId": "df0f9989-a120-47d6-ae28-28f05e20db57"
      },
      "execution_count": 118,
      "outputs": [
        {
          "output_type": "execute_result",
          "data": {
            "text/plain": [
              "    Salary   Age\n",
              "0   1300.0  35.0\n",
              "1   1250.0  33.0\n",
              "2   2200.0  34.0\n",
              "3   2100.0  42.0\n",
              "4   1500.0  29.0\n",
              "5   1700.0  42.0\n",
              "6   3000.0  50.0\n",
              "7   3000.0  55.0\n",
              "8   2800.0  31.0\n",
              "9   2900.0  46.0\n",
              "10  2780.0  36.0\n",
              "11  2550.0  48.0\n",
              "14  2780.0  36.0\n",
              "15  2550.0  48.0\n",
              "16  2550.0  48.0\n",
              "17  2550.0  48.0\n",
              "18  2550.0  48.0"
            ],
            "text/html": [
              "\n",
              "  <div id=\"df-d77306e9-a798-436c-9971-989735218305\">\n",
              "    <div class=\"colab-df-container\">\n",
              "      <div>\n",
              "<style scoped>\n",
              "    .dataframe tbody tr th:only-of-type {\n",
              "        vertical-align: middle;\n",
              "    }\n",
              "\n",
              "    .dataframe tbody tr th {\n",
              "        vertical-align: top;\n",
              "    }\n",
              "\n",
              "    .dataframe thead th {\n",
              "        text-align: right;\n",
              "    }\n",
              "</style>\n",
              "<table border=\"1\" class=\"dataframe\">\n",
              "  <thead>\n",
              "    <tr style=\"text-align: right;\">\n",
              "      <th></th>\n",
              "      <th>Salary</th>\n",
              "      <th>Age</th>\n",
              "    </tr>\n",
              "  </thead>\n",
              "  <tbody>\n",
              "    <tr>\n",
              "      <th>0</th>\n",
              "      <td>1300.0</td>\n",
              "      <td>35.0</td>\n",
              "    </tr>\n",
              "    <tr>\n",
              "      <th>1</th>\n",
              "      <td>1250.0</td>\n",
              "      <td>33.0</td>\n",
              "    </tr>\n",
              "    <tr>\n",
              "      <th>2</th>\n",
              "      <td>2200.0</td>\n",
              "      <td>34.0</td>\n",
              "    </tr>\n",
              "    <tr>\n",
              "      <th>3</th>\n",
              "      <td>2100.0</td>\n",
              "      <td>42.0</td>\n",
              "    </tr>\n",
              "    <tr>\n",
              "      <th>4</th>\n",
              "      <td>1500.0</td>\n",
              "      <td>29.0</td>\n",
              "    </tr>\n",
              "    <tr>\n",
              "      <th>5</th>\n",
              "      <td>1700.0</td>\n",
              "      <td>42.0</td>\n",
              "    </tr>\n",
              "    <tr>\n",
              "      <th>6</th>\n",
              "      <td>3000.0</td>\n",
              "      <td>50.0</td>\n",
              "    </tr>\n",
              "    <tr>\n",
              "      <th>7</th>\n",
              "      <td>3000.0</td>\n",
              "      <td>55.0</td>\n",
              "    </tr>\n",
              "    <tr>\n",
              "      <th>8</th>\n",
              "      <td>2800.0</td>\n",
              "      <td>31.0</td>\n",
              "    </tr>\n",
              "    <tr>\n",
              "      <th>9</th>\n",
              "      <td>2900.0</td>\n",
              "      <td>46.0</td>\n",
              "    </tr>\n",
              "    <tr>\n",
              "      <th>10</th>\n",
              "      <td>2780.0</td>\n",
              "      <td>36.0</td>\n",
              "    </tr>\n",
              "    <tr>\n",
              "      <th>11</th>\n",
              "      <td>2550.0</td>\n",
              "      <td>48.0</td>\n",
              "    </tr>\n",
              "    <tr>\n",
              "      <th>14</th>\n",
              "      <td>2780.0</td>\n",
              "      <td>36.0</td>\n",
              "    </tr>\n",
              "    <tr>\n",
              "      <th>15</th>\n",
              "      <td>2550.0</td>\n",
              "      <td>48.0</td>\n",
              "    </tr>\n",
              "    <tr>\n",
              "      <th>16</th>\n",
              "      <td>2550.0</td>\n",
              "      <td>48.0</td>\n",
              "    </tr>\n",
              "    <tr>\n",
              "      <th>17</th>\n",
              "      <td>2550.0</td>\n",
              "      <td>48.0</td>\n",
              "    </tr>\n",
              "    <tr>\n",
              "      <th>18</th>\n",
              "      <td>2550.0</td>\n",
              "      <td>48.0</td>\n",
              "    </tr>\n",
              "  </tbody>\n",
              "</table>\n",
              "</div>\n",
              "      <button class=\"colab-df-convert\" onclick=\"convertToInteractive('df-d77306e9-a798-436c-9971-989735218305')\"\n",
              "              title=\"Convert this dataframe to an interactive table.\"\n",
              "              style=\"display:none;\">\n",
              "        \n",
              "  <svg xmlns=\"http://www.w3.org/2000/svg\" height=\"24px\"viewBox=\"0 0 24 24\"\n",
              "       width=\"24px\">\n",
              "    <path d=\"M0 0h24v24H0V0z\" fill=\"none\"/>\n",
              "    <path d=\"M18.56 5.44l.94 2.06.94-2.06 2.06-.94-2.06-.94-.94-2.06-.94 2.06-2.06.94zm-11 1L8.5 8.5l.94-2.06 2.06-.94-2.06-.94L8.5 2.5l-.94 2.06-2.06.94zm10 10l.94 2.06.94-2.06 2.06-.94-2.06-.94-.94-2.06-.94 2.06-2.06.94z\"/><path d=\"M17.41 7.96l-1.37-1.37c-.4-.4-.92-.59-1.43-.59-.52 0-1.04.2-1.43.59L10.3 9.45l-7.72 7.72c-.78.78-.78 2.05 0 2.83L4 21.41c.39.39.9.59 1.41.59.51 0 1.02-.2 1.41-.59l7.78-7.78 2.81-2.81c.8-.78.8-2.07 0-2.86zM5.41 20L4 18.59l7.72-7.72 1.47 1.35L5.41 20z\"/>\n",
              "  </svg>\n",
              "      </button>\n",
              "      \n",
              "  <style>\n",
              "    .colab-df-container {\n",
              "      display:flex;\n",
              "      flex-wrap:wrap;\n",
              "      gap: 12px;\n",
              "    }\n",
              "\n",
              "    .colab-df-convert {\n",
              "      background-color: #E8F0FE;\n",
              "      border: none;\n",
              "      border-radius: 50%;\n",
              "      cursor: pointer;\n",
              "      display: none;\n",
              "      fill: #1967D2;\n",
              "      height: 32px;\n",
              "      padding: 0 0 0 0;\n",
              "      width: 32px;\n",
              "    }\n",
              "\n",
              "    .colab-df-convert:hover {\n",
              "      background-color: #E2EBFA;\n",
              "      box-shadow: 0px 1px 2px rgba(60, 64, 67, 0.3), 0px 1px 3px 1px rgba(60, 64, 67, 0.15);\n",
              "      fill: #174EA6;\n",
              "    }\n",
              "\n",
              "    [theme=dark] .colab-df-convert {\n",
              "      background-color: #3B4455;\n",
              "      fill: #D2E3FC;\n",
              "    }\n",
              "\n",
              "    [theme=dark] .colab-df-convert:hover {\n",
              "      background-color: #434B5C;\n",
              "      box-shadow: 0px 1px 3px 1px rgba(0, 0, 0, 0.15);\n",
              "      filter: drop-shadow(0px 1px 2px rgba(0, 0, 0, 0.3));\n",
              "      fill: #FFFFFF;\n",
              "    }\n",
              "  </style>\n",
              "\n",
              "      <script>\n",
              "        const buttonEl =\n",
              "          document.querySelector('#df-d77306e9-a798-436c-9971-989735218305 button.colab-df-convert');\n",
              "        buttonEl.style.display =\n",
              "          google.colab.kernel.accessAllowed ? 'block' : 'none';\n",
              "\n",
              "        async function convertToInteractive(key) {\n",
              "          const element = document.querySelector('#df-d77306e9-a798-436c-9971-989735218305');\n",
              "          const dataTable =\n",
              "            await google.colab.kernel.invokeFunction('convertToInteractive',\n",
              "                                                     [key], {});\n",
              "          if (!dataTable) return;\n",
              "\n",
              "          const docLinkHtml = 'Like what you see? Visit the ' +\n",
              "            '<a target=\"_blank\" href=https://colab.research.google.com/notebooks/data_table.ipynb>data table notebook</a>'\n",
              "            + ' to learn more about interactive tables.';\n",
              "          element.innerHTML = '';\n",
              "          dataTable['output_type'] = 'display_data';\n",
              "          await google.colab.output.renderOutput(dataTable, element);\n",
              "          const docLink = document.createElement('div');\n",
              "          docLink.innerHTML = docLinkHtml;\n",
              "          element.appendChild(docLink);\n",
              "        }\n",
              "      </script>\n",
              "    </div>\n",
              "  </div>\n",
              "  "
            ]
          },
          "metadata": {},
          "execution_count": 118
        }
      ]
    },
    {
      "cell_type": "code",
      "source": [
        "XX = ndf[['Age']]  #Doble corchete es DataFrame\n",
        "y = ndf['Salary'] "
      ],
      "metadata": {
        "id": "ksHjIuWE33SG"
      },
      "execution_count": 119,
      "outputs": []
    },
    {
      "cell_type": "code",
      "source": [
        "type(XX)  #Series = 1 dimensión 1D y necesita 2D que es dataframe"
      ],
      "metadata": {
        "colab": {
          "base_uri": "https://localhost:8080/"
        },
        "id": "L5DAT7Qw5ab0",
        "outputId": "03c3030e-b40d-47a7-d910-4ee43da022b3"
      },
      "execution_count": 120,
      "outputs": [
        {
          "output_type": "execute_result",
          "data": {
            "text/plain": [
              "pandas.core.frame.DataFrame"
            ]
          },
          "metadata": {},
          "execution_count": 120
        }
      ]
    },
    {
      "cell_type": "code",
      "source": [
        "from sklearn import linear_model"
      ],
      "metadata": {
        "id": "tcetR1aV4n1e"
      },
      "execution_count": 121,
      "outputs": []
    },
    {
      "cell_type": "code",
      "source": [
        "lm = linear_model.LinearRegression()"
      ],
      "metadata": {
        "id": "g6fpMSCe5DoF"
      },
      "execution_count": 122,
      "outputs": []
    },
    {
      "cell_type": "code",
      "source": [
        "model_lm = lm.fit(XX,y)"
      ],
      "metadata": {
        "id": "lD_AhR-75Lf2"
      },
      "execution_count": 123,
      "outputs": []
    },
    {
      "cell_type": "code",
      "source": [
        "print('The intercept is \\t',model_lm.intercept_)\n",
        "print('The coefficient is \\t', model_lm.coef_)\n",
        "print('The r2 value is \\t', model_lm.score(XX,y))"
      ],
      "metadata": {
        "colab": {
          "base_uri": "https://localhost:8080/"
        },
        "id": "yXAM8YLG7skF",
        "outputId": "bafa6af4-e437-4bf8-8fe0-a7eb895119ec"
      },
      "execution_count": 124,
      "outputs": [
        {
          "output_type": "stream",
          "name": "stdout",
          "text": [
            "The intercept is \t 606.3450956937793\n",
            "The coefficient is \t [41.96351675]\n",
            "The r2 value is \t 0.31711161647425\n"
          ]
        }
      ]
    },
    {
      "cell_type": "code",
      "source": [
        "edad = int(input('Enter the age of the person to find the Salary'))\n",
        "edad"
      ],
      "metadata": {
        "colab": {
          "base_uri": "https://localhost:8080/"
        },
        "id": "b5tarV197-dl",
        "outputId": "2b622995-e79c-4b46-c1bd-81225bcc1cf6"
      },
      "execution_count": 125,
      "outputs": [
        {
          "name": "stdout",
          "output_type": "stream",
          "text": [
            "Enter the age of the person to find the Salary33\n"
          ]
        },
        {
          "output_type": "execute_result",
          "data": {
            "text/plain": [
              "33"
            ]
          },
          "metadata": {},
          "execution_count": 125
        }
      ]
    },
    {
      "cell_type": "code",
      "source": [
        "print('Salary of a person with age ',edad, 'is', 606.3450956937793 + (41.96351675*edad) )"
      ],
      "metadata": {
        "colab": {
          "base_uri": "https://localhost:8080/"
        },
        "id": "y4m_eRIH8L6e",
        "outputId": "3d656c40-8c54-441e-bad4-f8d967b2b653"
      },
      "execution_count": 126,
      "outputs": [
        {
          "output_type": "stream",
          "name": "stdout",
          "text": [
            "Salary of a person with age  33 is 1991.1411484437792\n"
          ]
        }
      ]
    },
    {
      "cell_type": "code",
      "source": [
        "import statsmodels.api as sm"
      ],
      "metadata": {
        "id": "ExryaXKa8trC"
      },
      "execution_count": 127,
      "outputs": []
    },
    {
      "cell_type": "markdown",
      "source": [
        "Necesitamos encontrar una linea recta perfecta, encontrar la distancia de los datos al cuadrado y poner una linea"
      ],
      "metadata": {
        "id": "utSCCfdN9cFy"
      }
    },
    {
      "cell_type": "code",
      "source": [
        "modelA = sm.OLS.from_formula('Salary ~ Age',\n",
        "                             data = df\n",
        "                             )\n",
        "resultA = modelA.fit()\n",
        "resultA.summary()"
      ],
      "metadata": {
        "colab": {
          "base_uri": "https://localhost:8080/",
          "height": 478
        },
        "id": "sK8WkTdM9UOD",
        "outputId": "f68db3a4-eae1-4557-a873-897d62dbf7ac"
      },
      "execution_count": 128,
      "outputs": [
        {
          "output_type": "stream",
          "name": "stderr",
          "text": [
            "/usr/local/lib/python3.8/dist-packages/scipy/stats/_stats_py.py:1736: UserWarning: kurtosistest only valid for n>=20 ... continuing anyway, n=17\n",
            "  warnings.warn(\"kurtosistest only valid for n>=20 ... continuing \"\n"
          ]
        },
        {
          "output_type": "execute_result",
          "data": {
            "text/plain": [
              "<class 'statsmodels.iolib.summary.Summary'>\n",
              "\"\"\"\n",
              "                            OLS Regression Results                            \n",
              "==============================================================================\n",
              "Dep. Variable:                 Salary   R-squared:                       0.317\n",
              "Model:                            OLS   Adj. R-squared:                  0.272\n",
              "Method:                 Least Squares   F-statistic:                     6.966\n",
              "Date:                Fri, 03 Mar 2023   Prob (F-statistic):             0.0186\n",
              "Time:                        01:38:33   Log-Likelihood:                -128.66\n",
              "No. Observations:                  17   AIC:                             261.3\n",
              "Df Residuals:                      15   BIC:                             263.0\n",
              "Df Model:                           1                                         \n",
              "Covariance Type:            nonrobust                                         \n",
              "==============================================================================\n",
              "                 coef    std err          t      P>|t|      [0.025      0.975]\n",
              "------------------------------------------------------------------------------\n",
              "Intercept    606.3451    674.058      0.900      0.383    -830.376    2043.066\n",
              "Age           41.9635     15.900      2.639      0.019       8.074      75.853\n",
              "==============================================================================\n",
              "Omnibus:                        0.097   Durbin-Watson:                   1.273\n",
              "Prob(Omnibus):                  0.953   Jarque-Bera (JB):                0.315\n",
              "Skew:                           0.084   Prob(JB):                        0.854\n",
              "Kurtosis:                       2.354   Cond. No.                         236.\n",
              "==============================================================================\n",
              "\n",
              "Notes:\n",
              "[1] Standard Errors assume that the covariance matrix of the errors is correctly specified.\n",
              "\"\"\""
            ],
            "text/html": [
              "<table class=\"simpletable\">\n",
              "<caption>OLS Regression Results</caption>\n",
              "<tr>\n",
              "  <th>Dep. Variable:</th>         <td>Salary</td>      <th>  R-squared:         </th> <td>   0.317</td>\n",
              "</tr>\n",
              "<tr>\n",
              "  <th>Model:</th>                   <td>OLS</td>       <th>  Adj. R-squared:    </th> <td>   0.272</td>\n",
              "</tr>\n",
              "<tr>\n",
              "  <th>Method:</th>             <td>Least Squares</td>  <th>  F-statistic:       </th> <td>   6.966</td>\n",
              "</tr>\n",
              "<tr>\n",
              "  <th>Date:</th>             <td>Fri, 03 Mar 2023</td> <th>  Prob (F-statistic):</th>  <td>0.0186</td> \n",
              "</tr>\n",
              "<tr>\n",
              "  <th>Time:</th>                 <td>01:38:33</td>     <th>  Log-Likelihood:    </th> <td> -128.66</td>\n",
              "</tr>\n",
              "<tr>\n",
              "  <th>No. Observations:</th>      <td>    17</td>      <th>  AIC:               </th> <td>   261.3</td>\n",
              "</tr>\n",
              "<tr>\n",
              "  <th>Df Residuals:</th>          <td>    15</td>      <th>  BIC:               </th> <td>   263.0</td>\n",
              "</tr>\n",
              "<tr>\n",
              "  <th>Df Model:</th>              <td>     1</td>      <th>                     </th>     <td> </td>   \n",
              "</tr>\n",
              "<tr>\n",
              "  <th>Covariance Type:</th>      <td>nonrobust</td>    <th>                     </th>     <td> </td>   \n",
              "</tr>\n",
              "</table>\n",
              "<table class=\"simpletable\">\n",
              "<tr>\n",
              "      <td></td>         <th>coef</th>     <th>std err</th>      <th>t</th>      <th>P>|t|</th>  <th>[0.025</th>    <th>0.975]</th>  \n",
              "</tr>\n",
              "<tr>\n",
              "  <th>Intercept</th> <td>  606.3451</td> <td>  674.058</td> <td>    0.900</td> <td> 0.383</td> <td> -830.376</td> <td> 2043.066</td>\n",
              "</tr>\n",
              "<tr>\n",
              "  <th>Age</th>       <td>   41.9635</td> <td>   15.900</td> <td>    2.639</td> <td> 0.019</td> <td>    8.074</td> <td>   75.853</td>\n",
              "</tr>\n",
              "</table>\n",
              "<table class=\"simpletable\">\n",
              "<tr>\n",
              "  <th>Omnibus:</th>       <td> 0.097</td> <th>  Durbin-Watson:     </th> <td>   1.273</td>\n",
              "</tr>\n",
              "<tr>\n",
              "  <th>Prob(Omnibus):</th> <td> 0.953</td> <th>  Jarque-Bera (JB):  </th> <td>   0.315</td>\n",
              "</tr>\n",
              "<tr>\n",
              "  <th>Skew:</th>          <td> 0.084</td> <th>  Prob(JB):          </th> <td>   0.854</td>\n",
              "</tr>\n",
              "<tr>\n",
              "  <th>Kurtosis:</th>      <td> 2.354</td> <th>  Cond. No.          </th> <td>    236.</td>\n",
              "</tr>\n",
              "</table><br/><br/>Notes:<br/>[1] Standard Errors assume that the covariance matrix of the errors is correctly specified."
            ]
          },
          "metadata": {},
          "execution_count": 128
        }
      ]
    },
    {
      "cell_type": "markdown",
      "source": [
        "Grado de libertad es cuantos datos necesito para dar una respuesta"
      ],
      "metadata": {
        "id": "iq0H5pZT--s3"
      }
    },
    {
      "cell_type": "code",
      "source": [
        "edad = int(input('Enter the age of the person to find the Salary'))\n",
        "print('Salary of a person with age ',edad, 'is', 606.3450956937793 + (41.96351675*edad) )"
      ],
      "metadata": {
        "colab": {
          "base_uri": "https://localhost:8080/"
        },
        "id": "4d99uhy1_Dfg",
        "outputId": "9505587b-2d1a-4042-cc11-3672cc3a94a0"
      },
      "execution_count": 129,
      "outputs": [
        {
          "output_type": "stream",
          "name": "stdout",
          "text": [
            "Enter the age of the person to find the Salary33\n",
            "Salary of a person with age  33 is 1991.1411484437792\n"
          ]
        }
      ]
    },
    {
      "cell_type": "code",
      "source": [
        "df.columns"
      ],
      "metadata": {
        "colab": {
          "base_uri": "https://localhost:8080/"
        },
        "id": "VaPWY0ZG_RR_",
        "outputId": "c0a89814-e040-4596-a84f-8e178d785914"
      },
      "execution_count": 130,
      "outputs": [
        {
          "output_type": "execute_result",
          "data": {
            "text/plain": [
              "Index(['Gender', 'Salary', 'Age', 'Place', 'Weight', 'Company', 'Education',\n",
              "       'JoinYear'],\n",
              "      dtype='object')"
            ]
          },
          "metadata": {},
          "execution_count": 130
        }
      ]
    },
    {
      "cell_type": "markdown",
      "source": [
        "What is the salary of a person with age 33 and weight 80?\n",
        "Regression\n",
        "Salary = b0 + b1*Age + b2*Weight\n",
        "y = c + m1x1 + m2x2"
      ],
      "metadata": {
        "id": "y1EiEQm4_qiQ"
      }
    },
    {
      "cell_type": "code",
      "source": [
        "favs2=['Salary','Age','Weight']   # Solo hay que limpiar estas tres variables\n",
        "ndf2 = df[favs2]\n",
        "ndf2 = ndf2.dropna()\n",
        "ndf2.shape"
      ],
      "metadata": {
        "colab": {
          "base_uri": "https://localhost:8080/"
        },
        "id": "2aNN8SDC_ow_",
        "outputId": "4ca0867f-87f2-4cf7-ad10-0757a78315b7"
      },
      "execution_count": 131,
      "outputs": [
        {
          "output_type": "execute_result",
          "data": {
            "text/plain": [
              "(16, 3)"
            ]
          },
          "metadata": {},
          "execution_count": 131
        }
      ]
    },
    {
      "cell_type": "code",
      "source": [
        "ndf2"
      ],
      "metadata": {
        "colab": {
          "base_uri": "https://localhost:8080/",
          "height": 551
        },
        "id": "CF_jTV6LASNh",
        "outputId": "7bff98ea-e5c9-41ca-e43e-f740d350c039"
      },
      "execution_count": 132,
      "outputs": [
        {
          "output_type": "execute_result",
          "data": {
            "text/plain": [
              "    Salary   Age  Weight\n",
              "0   1300.0  35.0    80.0\n",
              "1   1250.0  33.0    82.5\n",
              "2   2200.0  34.0   100.8\n",
              "3   2100.0  42.0    90.0\n",
              "4   1500.0  29.0    67.0\n",
              "5   1700.0  42.0    60.0\n",
              "6   3000.0  50.0    77.0\n",
              "7   3000.0  55.0    77.0\n",
              "8   2800.0  31.0    87.0\n",
              "9   2900.0  46.0    70.0\n",
              "10  2780.0  36.0    57.0\n",
              "11  2550.0  48.0    64.0\n",
              "14  2780.0  36.0    57.0\n",
              "16  2550.0  48.0    64.0\n",
              "17  2550.0  48.0    64.0\n",
              "18  2550.0  48.0    64.0"
            ],
            "text/html": [
              "\n",
              "  <div id=\"df-5ddfa0af-a1f7-47d5-b047-fef427c2682f\">\n",
              "    <div class=\"colab-df-container\">\n",
              "      <div>\n",
              "<style scoped>\n",
              "    .dataframe tbody tr th:only-of-type {\n",
              "        vertical-align: middle;\n",
              "    }\n",
              "\n",
              "    .dataframe tbody tr th {\n",
              "        vertical-align: top;\n",
              "    }\n",
              "\n",
              "    .dataframe thead th {\n",
              "        text-align: right;\n",
              "    }\n",
              "</style>\n",
              "<table border=\"1\" class=\"dataframe\">\n",
              "  <thead>\n",
              "    <tr style=\"text-align: right;\">\n",
              "      <th></th>\n",
              "      <th>Salary</th>\n",
              "      <th>Age</th>\n",
              "      <th>Weight</th>\n",
              "    </tr>\n",
              "  </thead>\n",
              "  <tbody>\n",
              "    <tr>\n",
              "      <th>0</th>\n",
              "      <td>1300.0</td>\n",
              "      <td>35.0</td>\n",
              "      <td>80.0</td>\n",
              "    </tr>\n",
              "    <tr>\n",
              "      <th>1</th>\n",
              "      <td>1250.0</td>\n",
              "      <td>33.0</td>\n",
              "      <td>82.5</td>\n",
              "    </tr>\n",
              "    <tr>\n",
              "      <th>2</th>\n",
              "      <td>2200.0</td>\n",
              "      <td>34.0</td>\n",
              "      <td>100.8</td>\n",
              "    </tr>\n",
              "    <tr>\n",
              "      <th>3</th>\n",
              "      <td>2100.0</td>\n",
              "      <td>42.0</td>\n",
              "      <td>90.0</td>\n",
              "    </tr>\n",
              "    <tr>\n",
              "      <th>4</th>\n",
              "      <td>1500.0</td>\n",
              "      <td>29.0</td>\n",
              "      <td>67.0</td>\n",
              "    </tr>\n",
              "    <tr>\n",
              "      <th>5</th>\n",
              "      <td>1700.0</td>\n",
              "      <td>42.0</td>\n",
              "      <td>60.0</td>\n",
              "    </tr>\n",
              "    <tr>\n",
              "      <th>6</th>\n",
              "      <td>3000.0</td>\n",
              "      <td>50.0</td>\n",
              "      <td>77.0</td>\n",
              "    </tr>\n",
              "    <tr>\n",
              "      <th>7</th>\n",
              "      <td>3000.0</td>\n",
              "      <td>55.0</td>\n",
              "      <td>77.0</td>\n",
              "    </tr>\n",
              "    <tr>\n",
              "      <th>8</th>\n",
              "      <td>2800.0</td>\n",
              "      <td>31.0</td>\n",
              "      <td>87.0</td>\n",
              "    </tr>\n",
              "    <tr>\n",
              "      <th>9</th>\n",
              "      <td>2900.0</td>\n",
              "      <td>46.0</td>\n",
              "      <td>70.0</td>\n",
              "    </tr>\n",
              "    <tr>\n",
              "      <th>10</th>\n",
              "      <td>2780.0</td>\n",
              "      <td>36.0</td>\n",
              "      <td>57.0</td>\n",
              "    </tr>\n",
              "    <tr>\n",
              "      <th>11</th>\n",
              "      <td>2550.0</td>\n",
              "      <td>48.0</td>\n",
              "      <td>64.0</td>\n",
              "    </tr>\n",
              "    <tr>\n",
              "      <th>14</th>\n",
              "      <td>2780.0</td>\n",
              "      <td>36.0</td>\n",
              "      <td>57.0</td>\n",
              "    </tr>\n",
              "    <tr>\n",
              "      <th>16</th>\n",
              "      <td>2550.0</td>\n",
              "      <td>48.0</td>\n",
              "      <td>64.0</td>\n",
              "    </tr>\n",
              "    <tr>\n",
              "      <th>17</th>\n",
              "      <td>2550.0</td>\n",
              "      <td>48.0</td>\n",
              "      <td>64.0</td>\n",
              "    </tr>\n",
              "    <tr>\n",
              "      <th>18</th>\n",
              "      <td>2550.0</td>\n",
              "      <td>48.0</td>\n",
              "      <td>64.0</td>\n",
              "    </tr>\n",
              "  </tbody>\n",
              "</table>\n",
              "</div>\n",
              "      <button class=\"colab-df-convert\" onclick=\"convertToInteractive('df-5ddfa0af-a1f7-47d5-b047-fef427c2682f')\"\n",
              "              title=\"Convert this dataframe to an interactive table.\"\n",
              "              style=\"display:none;\">\n",
              "        \n",
              "  <svg xmlns=\"http://www.w3.org/2000/svg\" height=\"24px\"viewBox=\"0 0 24 24\"\n",
              "       width=\"24px\">\n",
              "    <path d=\"M0 0h24v24H0V0z\" fill=\"none\"/>\n",
              "    <path d=\"M18.56 5.44l.94 2.06.94-2.06 2.06-.94-2.06-.94-.94-2.06-.94 2.06-2.06.94zm-11 1L8.5 8.5l.94-2.06 2.06-.94-2.06-.94L8.5 2.5l-.94 2.06-2.06.94zm10 10l.94 2.06.94-2.06 2.06-.94-2.06-.94-.94-2.06-.94 2.06-2.06.94z\"/><path d=\"M17.41 7.96l-1.37-1.37c-.4-.4-.92-.59-1.43-.59-.52 0-1.04.2-1.43.59L10.3 9.45l-7.72 7.72c-.78.78-.78 2.05 0 2.83L4 21.41c.39.39.9.59 1.41.59.51 0 1.02-.2 1.41-.59l7.78-7.78 2.81-2.81c.8-.78.8-2.07 0-2.86zM5.41 20L4 18.59l7.72-7.72 1.47 1.35L5.41 20z\"/>\n",
              "  </svg>\n",
              "      </button>\n",
              "      \n",
              "  <style>\n",
              "    .colab-df-container {\n",
              "      display:flex;\n",
              "      flex-wrap:wrap;\n",
              "      gap: 12px;\n",
              "    }\n",
              "\n",
              "    .colab-df-convert {\n",
              "      background-color: #E8F0FE;\n",
              "      border: none;\n",
              "      border-radius: 50%;\n",
              "      cursor: pointer;\n",
              "      display: none;\n",
              "      fill: #1967D2;\n",
              "      height: 32px;\n",
              "      padding: 0 0 0 0;\n",
              "      width: 32px;\n",
              "    }\n",
              "\n",
              "    .colab-df-convert:hover {\n",
              "      background-color: #E2EBFA;\n",
              "      box-shadow: 0px 1px 2px rgba(60, 64, 67, 0.3), 0px 1px 3px 1px rgba(60, 64, 67, 0.15);\n",
              "      fill: #174EA6;\n",
              "    }\n",
              "\n",
              "    [theme=dark] .colab-df-convert {\n",
              "      background-color: #3B4455;\n",
              "      fill: #D2E3FC;\n",
              "    }\n",
              "\n",
              "    [theme=dark] .colab-df-convert:hover {\n",
              "      background-color: #434B5C;\n",
              "      box-shadow: 0px 1px 3px 1px rgba(0, 0, 0, 0.15);\n",
              "      filter: drop-shadow(0px 1px 2px rgba(0, 0, 0, 0.3));\n",
              "      fill: #FFFFFF;\n",
              "    }\n",
              "  </style>\n",
              "\n",
              "      <script>\n",
              "        const buttonEl =\n",
              "          document.querySelector('#df-5ddfa0af-a1f7-47d5-b047-fef427c2682f button.colab-df-convert');\n",
              "        buttonEl.style.display =\n",
              "          google.colab.kernel.accessAllowed ? 'block' : 'none';\n",
              "\n",
              "        async function convertToInteractive(key) {\n",
              "          const element = document.querySelector('#df-5ddfa0af-a1f7-47d5-b047-fef427c2682f');\n",
              "          const dataTable =\n",
              "            await google.colab.kernel.invokeFunction('convertToInteractive',\n",
              "                                                     [key], {});\n",
              "          if (!dataTable) return;\n",
              "\n",
              "          const docLinkHtml = 'Like what you see? Visit the ' +\n",
              "            '<a target=\"_blank\" href=https://colab.research.google.com/notebooks/data_table.ipynb>data table notebook</a>'\n",
              "            + ' to learn more about interactive tables.';\n",
              "          element.innerHTML = '';\n",
              "          dataTable['output_type'] = 'display_data';\n",
              "          await google.colab.output.renderOutput(dataTable, element);\n",
              "          const docLink = document.createElement('div');\n",
              "          docLink.innerHTML = docLinkHtml;\n",
              "          element.appendChild(docLink);\n",
              "        }\n",
              "      </script>\n",
              "    </div>\n",
              "  </div>\n",
              "  "
            ]
          },
          "metadata": {},
          "execution_count": 132
        }
      ]
    },
    {
      "cell_type": "code",
      "source": [
        "#Salary = b0 + b1*age + b2*weight\n",
        "XX2 = ndf2[['Age','Weight']]  #Doble corchete es DataFrame\n",
        "y2 = ndf2['Salary']"
      ],
      "metadata": {
        "id": "RLg1GTJxAVW_"
      },
      "execution_count": 133,
      "outputs": []
    },
    {
      "cell_type": "code",
      "source": [
        "lm2 = linear_model.LinearRegression()"
      ],
      "metadata": {
        "id": "jOoHVQilAsnc"
      },
      "execution_count": 134,
      "outputs": []
    },
    {
      "cell_type": "code",
      "source": [
        "model_lm2 = lm2.fit(XX2,y2)"
      ],
      "metadata": {
        "id": "b3ykMdOIA3Ey"
      },
      "execution_count": 135,
      "outputs": []
    },
    {
      "cell_type": "code",
      "source": [
        "print('The intercept is \\t',model_lm2.intercept_)\n",
        "print('The coefficient is \\t', model_lm2.coef_)\n",
        "print('The r2 value is \\t', model_lm2.score(XX2,y2))"
      ],
      "metadata": {
        "colab": {
          "base_uri": "https://localhost:8080/"
        },
        "id": "GLk9J0cFA8Yf",
        "outputId": "3e7dc6fe-264b-465f-8c8e-34169d6349f6"
      },
      "execution_count": 136,
      "outputs": [
        {
          "output_type": "stream",
          "name": "stdout",
          "text": [
            "The intercept is \t 871.9179918088234\n",
            "The coefficient is \t [41.16445683 -3.14336849]\n",
            "The r2 value is \t 0.3173388086072576\n"
          ]
        }
      ]
    },
    {
      "cell_type": "code",
      "source": [
        "modelB = sm.OLS.from_formula('Salary ~ Age + Weight',\n",
        "                             data = ndf2\n",
        "                             )\n",
        "resultB = modelB.fit()\n",
        "resultB.summary()"
      ],
      "metadata": {
        "colab": {
          "base_uri": "https://localhost:8080/",
          "height": 499
        },
        "id": "HnYUu8cLBIZY",
        "outputId": "22dc7fc6-12f3-4334-d735-2bf14e5e73b3"
      },
      "execution_count": 137,
      "outputs": [
        {
          "output_type": "stream",
          "name": "stderr",
          "text": [
            "/usr/local/lib/python3.8/dist-packages/scipy/stats/_stats_py.py:1736: UserWarning: kurtosistest only valid for n>=20 ... continuing anyway, n=16\n",
            "  warnings.warn(\"kurtosistest only valid for n>=20 ... continuing \"\n"
          ]
        },
        {
          "output_type": "execute_result",
          "data": {
            "text/plain": [
              "<class 'statsmodels.iolib.summary.Summary'>\n",
              "\"\"\"\n",
              "                            OLS Regression Results                            \n",
              "==============================================================================\n",
              "Dep. Variable:                 Salary   R-squared:                       0.317\n",
              "Model:                            OLS   Adj. R-squared:                  0.212\n",
              "Method:                 Least Squares   F-statistic:                     3.022\n",
              "Date:                Fri, 03 Mar 2023   Prob (F-statistic):             0.0836\n",
              "Time:                        01:38:37   Log-Likelihood:                -121.52\n",
              "No. Observations:                  16   AIC:                             249.0\n",
              "Df Residuals:                      13   BIC:                             251.3\n",
              "Df Model:                           2                                         \n",
              "Covariance Type:            nonrobust                                         \n",
              "==============================================================================\n",
              "                 coef    std err          t      P>|t|      [0.025      0.975]\n",
              "------------------------------------------------------------------------------\n",
              "Intercept    871.9180   1234.042      0.707      0.492   -1794.069    3537.905\n",
              "Age           41.1645     17.985      2.289      0.039       2.309      80.019\n",
              "Weight        -3.1434     11.090     -0.283      0.781     -27.101      20.814\n",
              "==============================================================================\n",
              "Omnibus:                        0.200   Durbin-Watson:                   1.331\n",
              "Prob(Omnibus):                  0.905   Jarque-Bera (JB):                0.398\n",
              "Skew:                           0.051   Prob(JB):                        0.820\n",
              "Kurtosis:                       2.234   Cond. No.                         779.\n",
              "==============================================================================\n",
              "\n",
              "Notes:\n",
              "[1] Standard Errors assume that the covariance matrix of the errors is correctly specified.\n",
              "\"\"\""
            ],
            "text/html": [
              "<table class=\"simpletable\">\n",
              "<caption>OLS Regression Results</caption>\n",
              "<tr>\n",
              "  <th>Dep. Variable:</th>         <td>Salary</td>      <th>  R-squared:         </th> <td>   0.317</td>\n",
              "</tr>\n",
              "<tr>\n",
              "  <th>Model:</th>                   <td>OLS</td>       <th>  Adj. R-squared:    </th> <td>   0.212</td>\n",
              "</tr>\n",
              "<tr>\n",
              "  <th>Method:</th>             <td>Least Squares</td>  <th>  F-statistic:       </th> <td>   3.022</td>\n",
              "</tr>\n",
              "<tr>\n",
              "  <th>Date:</th>             <td>Fri, 03 Mar 2023</td> <th>  Prob (F-statistic):</th>  <td>0.0836</td> \n",
              "</tr>\n",
              "<tr>\n",
              "  <th>Time:</th>                 <td>01:38:37</td>     <th>  Log-Likelihood:    </th> <td> -121.52</td>\n",
              "</tr>\n",
              "<tr>\n",
              "  <th>No. Observations:</th>      <td>    16</td>      <th>  AIC:               </th> <td>   249.0</td>\n",
              "</tr>\n",
              "<tr>\n",
              "  <th>Df Residuals:</th>          <td>    13</td>      <th>  BIC:               </th> <td>   251.3</td>\n",
              "</tr>\n",
              "<tr>\n",
              "  <th>Df Model:</th>              <td>     2</td>      <th>                     </th>     <td> </td>   \n",
              "</tr>\n",
              "<tr>\n",
              "  <th>Covariance Type:</th>      <td>nonrobust</td>    <th>                     </th>     <td> </td>   \n",
              "</tr>\n",
              "</table>\n",
              "<table class=\"simpletable\">\n",
              "<tr>\n",
              "      <td></td>         <th>coef</th>     <th>std err</th>      <th>t</th>      <th>P>|t|</th>  <th>[0.025</th>    <th>0.975]</th>  \n",
              "</tr>\n",
              "<tr>\n",
              "  <th>Intercept</th> <td>  871.9180</td> <td> 1234.042</td> <td>    0.707</td> <td> 0.492</td> <td>-1794.069</td> <td> 3537.905</td>\n",
              "</tr>\n",
              "<tr>\n",
              "  <th>Age</th>       <td>   41.1645</td> <td>   17.985</td> <td>    2.289</td> <td> 0.039</td> <td>    2.309</td> <td>   80.019</td>\n",
              "</tr>\n",
              "<tr>\n",
              "  <th>Weight</th>    <td>   -3.1434</td> <td>   11.090</td> <td>   -0.283</td> <td> 0.781</td> <td>  -27.101</td> <td>   20.814</td>\n",
              "</tr>\n",
              "</table>\n",
              "<table class=\"simpletable\">\n",
              "<tr>\n",
              "  <th>Omnibus:</th>       <td> 0.200</td> <th>  Durbin-Watson:     </th> <td>   1.331</td>\n",
              "</tr>\n",
              "<tr>\n",
              "  <th>Prob(Omnibus):</th> <td> 0.905</td> <th>  Jarque-Bera (JB):  </th> <td>   0.398</td>\n",
              "</tr>\n",
              "<tr>\n",
              "  <th>Skew:</th>          <td> 0.051</td> <th>  Prob(JB):          </th> <td>   0.820</td>\n",
              "</tr>\n",
              "<tr>\n",
              "  <th>Kurtosis:</th>      <td> 2.234</td> <th>  Cond. No.          </th> <td>    779.</td>\n",
              "</tr>\n",
              "</table><br/><br/>Notes:<br/>[1] Standard Errors assume that the covariance matrix of the errors is correctly specified."
            ]
          },
          "metadata": {},
          "execution_count": 137
        }
      ]
    },
    {
      "cell_type": "code",
      "source": [
        "edad = int(input('Enter the age of the person to find the Salary'))\n",
        "Weight = float(input('Enter the weight of the person to find the Salary'))\n",
        "print('Salary of a person with age ',edad, 'is', 871.9180\t + (41.1645*edad) + (-3.1434*Weight) )"
      ],
      "metadata": {
        "colab": {
          "base_uri": "https://localhost:8080/"
        },
        "id": "HqDBKzNaBV9i",
        "outputId": "42d59b24-6ec8-45cf-b44c-ba4174121c7a"
      },
      "execution_count": 138,
      "outputs": [
        {
          "output_type": "stream",
          "name": "stdout",
          "text": [
            "Enter the age of the person to find the Salary33\n",
            "Enter the weight of the person to find the Salary82.5\n",
            "Salary of a person with age  33 is 1971.016\n"
          ]
        }
      ]
    },
    {
      "cell_type": "code",
      "source": [
        "print(1250-1971.016)"
      ],
      "metadata": {
        "colab": {
          "base_uri": "https://localhost:8080/"
        },
        "id": "MmXMbC8vFy2q",
        "outputId": "62b41926-53dc-4dba-f002-b92a4a81596a"
      },
      "execution_count": 139,
      "outputs": [
        {
          "output_type": "stream",
          "name": "stdout",
          "text": [
            "-721.0160000000001\n"
          ]
        }
      ]
    },
    {
      "cell_type": "code",
      "source": [
        "resultB.resid"
      ],
      "metadata": {
        "colab": {
          "base_uri": "https://localhost:8080/"
        },
        "id": "UKyEmUuMB5v1",
        "outputId": "c4dea759-cd85-472d-9535-ac9458f0a618"
      },
      "execution_count": 140,
      "outputs": [
        {
          "output_type": "execute_result",
          "data": {
            "text/plain": [
              "0    -761.204501\n",
              "1    -721.017166\n",
              "2     245.342020\n",
              "3    -217.922014\n",
              "4    -355.081551\n",
              "5    -712.223069\n",
              "6     311.898541\n",
              "7     106.076257\n",
              "8     925.456906\n",
              "9     354.552789\n",
              "10    605.333567\n",
              "11    -96.636336\n",
              "14    605.333567\n",
              "16    -96.636336\n",
              "17    -96.636336\n",
              "18    -96.636336\n",
              "dtype: float64"
            ]
          },
          "metadata": {},
          "execution_count": 140
        }
      ]
    },
    {
      "cell_type": "code",
      "source": [
        "resultB.fittedvalues"
      ],
      "metadata": {
        "colab": {
          "base_uri": "https://localhost:8080/"
        },
        "id": "DdX9U9iODQHY",
        "outputId": "8ad640cc-3e98-47db-b613-9ca8e08d53ca"
      },
      "execution_count": 141,
      "outputs": [
        {
          "output_type": "execute_result",
          "data": {
            "text/plain": [
              "0     2061.204501\n",
              "1     1971.017166\n",
              "2     1954.657980\n",
              "3     2317.922014\n",
              "4     1855.081551\n",
              "5     2412.223069\n",
              "6     2688.101459\n",
              "7     2893.923743\n",
              "8     1874.543094\n",
              "9     2545.447211\n",
              "10    2174.666433\n",
              "11    2646.636336\n",
              "14    2174.666433\n",
              "16    2646.636336\n",
              "17    2646.636336\n",
              "18    2646.636336\n",
              "dtype: float64"
            ]
          },
          "metadata": {},
          "execution_count": 141
        }
      ]
    },
    {
      "cell_type": "markdown",
      "source": [
        "#What is the salary of a female with age 33?\n",
        "\n",
        "Salary = b0 + b1*Age + b2*Gender\n",
        "\n",
        "y = c + m1x1 + m2x2"
      ],
      "metadata": {
        "id": "bUbVLqicGEoo"
      }
    },
    {
      "cell_type": "code",
      "source": [
        "df.columns"
      ],
      "metadata": {
        "colab": {
          "base_uri": "https://localhost:8080/"
        },
        "id": "yvUnTXmZHGMS",
        "outputId": "bede0d03-9a4b-4840-c0a4-0d22808f7ab1"
      },
      "execution_count": 142,
      "outputs": [
        {
          "output_type": "execute_result",
          "data": {
            "text/plain": [
              "Index(['Gender', 'Salary', 'Age', 'Place', 'Weight', 'Company', 'Education',\n",
              "       'JoinYear'],\n",
              "      dtype='object')"
            ]
          },
          "metadata": {},
          "execution_count": 142
        }
      ]
    },
    {
      "cell_type": "code",
      "source": [
        "favs3=['Salary','Age','Gender']   # Solo hay que limpiar estas dos variables\n",
        "ndf3 = df[favs3]\n",
        "ndf3 = ndf3.dropna()\n",
        "ndf3.shape"
      ],
      "metadata": {
        "colab": {
          "base_uri": "https://localhost:8080/"
        },
        "id": "ptCjxWayGECw",
        "outputId": "4b3d38d5-fee0-4bfc-ad29-7ff21f5519ca"
      },
      "execution_count": 143,
      "outputs": [
        {
          "output_type": "execute_result",
          "data": {
            "text/plain": [
              "(16, 3)"
            ]
          },
          "metadata": {},
          "execution_count": 143
        }
      ]
    },
    {
      "cell_type": "code",
      "source": [
        "ndf3"
      ],
      "metadata": {
        "colab": {
          "base_uri": "https://localhost:8080/",
          "height": 551
        },
        "id": "Sr1gqgYeHU6x",
        "outputId": "53dd825f-1461-43e2-b275-2b091cadac27"
      },
      "execution_count": 144,
      "outputs": [
        {
          "output_type": "execute_result",
          "data": {
            "text/plain": [
              "    Salary   Age  Gender\n",
              "0   1300.0  35.0  Female\n",
              "1   1250.0  33.0  Female\n",
              "2   2200.0  34.0    Male\n",
              "3   2100.0  42.0    Male\n",
              "4   1500.0  29.0  Female\n",
              "5   1700.0  42.0  Female\n",
              "6   3000.0  50.0    Male\n",
              "7   3000.0  55.0    Male\n",
              "8   2800.0  31.0  Female\n",
              "9   2900.0  46.0    Male\n",
              "10  2780.0  36.0  Female\n",
              "11  2550.0  48.0    Male\n",
              "14  2780.0  36.0  Female\n",
              "15  2550.0  48.0    Male\n",
              "16  2550.0  48.0    Male\n",
              "17  2550.0  48.0    Male"
            ],
            "text/html": [
              "\n",
              "  <div id=\"df-1b5099eb-ece1-43bd-8257-9a7ecd683aaf\">\n",
              "    <div class=\"colab-df-container\">\n",
              "      <div>\n",
              "<style scoped>\n",
              "    .dataframe tbody tr th:only-of-type {\n",
              "        vertical-align: middle;\n",
              "    }\n",
              "\n",
              "    .dataframe tbody tr th {\n",
              "        vertical-align: top;\n",
              "    }\n",
              "\n",
              "    .dataframe thead th {\n",
              "        text-align: right;\n",
              "    }\n",
              "</style>\n",
              "<table border=\"1\" class=\"dataframe\">\n",
              "  <thead>\n",
              "    <tr style=\"text-align: right;\">\n",
              "      <th></th>\n",
              "      <th>Salary</th>\n",
              "      <th>Age</th>\n",
              "      <th>Gender</th>\n",
              "    </tr>\n",
              "  </thead>\n",
              "  <tbody>\n",
              "    <tr>\n",
              "      <th>0</th>\n",
              "      <td>1300.0</td>\n",
              "      <td>35.0</td>\n",
              "      <td>Female</td>\n",
              "    </tr>\n",
              "    <tr>\n",
              "      <th>1</th>\n",
              "      <td>1250.0</td>\n",
              "      <td>33.0</td>\n",
              "      <td>Female</td>\n",
              "    </tr>\n",
              "    <tr>\n",
              "      <th>2</th>\n",
              "      <td>2200.0</td>\n",
              "      <td>34.0</td>\n",
              "      <td>Male</td>\n",
              "    </tr>\n",
              "    <tr>\n",
              "      <th>3</th>\n",
              "      <td>2100.0</td>\n",
              "      <td>42.0</td>\n",
              "      <td>Male</td>\n",
              "    </tr>\n",
              "    <tr>\n",
              "      <th>4</th>\n",
              "      <td>1500.0</td>\n",
              "      <td>29.0</td>\n",
              "      <td>Female</td>\n",
              "    </tr>\n",
              "    <tr>\n",
              "      <th>5</th>\n",
              "      <td>1700.0</td>\n",
              "      <td>42.0</td>\n",
              "      <td>Female</td>\n",
              "    </tr>\n",
              "    <tr>\n",
              "      <th>6</th>\n",
              "      <td>3000.0</td>\n",
              "      <td>50.0</td>\n",
              "      <td>Male</td>\n",
              "    </tr>\n",
              "    <tr>\n",
              "      <th>7</th>\n",
              "      <td>3000.0</td>\n",
              "      <td>55.0</td>\n",
              "      <td>Male</td>\n",
              "    </tr>\n",
              "    <tr>\n",
              "      <th>8</th>\n",
              "      <td>2800.0</td>\n",
              "      <td>31.0</td>\n",
              "      <td>Female</td>\n",
              "    </tr>\n",
              "    <tr>\n",
              "      <th>9</th>\n",
              "      <td>2900.0</td>\n",
              "      <td>46.0</td>\n",
              "      <td>Male</td>\n",
              "    </tr>\n",
              "    <tr>\n",
              "      <th>10</th>\n",
              "      <td>2780.0</td>\n",
              "      <td>36.0</td>\n",
              "      <td>Female</td>\n",
              "    </tr>\n",
              "    <tr>\n",
              "      <th>11</th>\n",
              "      <td>2550.0</td>\n",
              "      <td>48.0</td>\n",
              "      <td>Male</td>\n",
              "    </tr>\n",
              "    <tr>\n",
              "      <th>14</th>\n",
              "      <td>2780.0</td>\n",
              "      <td>36.0</td>\n",
              "      <td>Female</td>\n",
              "    </tr>\n",
              "    <tr>\n",
              "      <th>15</th>\n",
              "      <td>2550.0</td>\n",
              "      <td>48.0</td>\n",
              "      <td>Male</td>\n",
              "    </tr>\n",
              "    <tr>\n",
              "      <th>16</th>\n",
              "      <td>2550.0</td>\n",
              "      <td>48.0</td>\n",
              "      <td>Male</td>\n",
              "    </tr>\n",
              "    <tr>\n",
              "      <th>17</th>\n",
              "      <td>2550.0</td>\n",
              "      <td>48.0</td>\n",
              "      <td>Male</td>\n",
              "    </tr>\n",
              "  </tbody>\n",
              "</table>\n",
              "</div>\n",
              "      <button class=\"colab-df-convert\" onclick=\"convertToInteractive('df-1b5099eb-ece1-43bd-8257-9a7ecd683aaf')\"\n",
              "              title=\"Convert this dataframe to an interactive table.\"\n",
              "              style=\"display:none;\">\n",
              "        \n",
              "  <svg xmlns=\"http://www.w3.org/2000/svg\" height=\"24px\"viewBox=\"0 0 24 24\"\n",
              "       width=\"24px\">\n",
              "    <path d=\"M0 0h24v24H0V0z\" fill=\"none\"/>\n",
              "    <path d=\"M18.56 5.44l.94 2.06.94-2.06 2.06-.94-2.06-.94-.94-2.06-.94 2.06-2.06.94zm-11 1L8.5 8.5l.94-2.06 2.06-.94-2.06-.94L8.5 2.5l-.94 2.06-2.06.94zm10 10l.94 2.06.94-2.06 2.06-.94-2.06-.94-.94-2.06-.94 2.06-2.06.94z\"/><path d=\"M17.41 7.96l-1.37-1.37c-.4-.4-.92-.59-1.43-.59-.52 0-1.04.2-1.43.59L10.3 9.45l-7.72 7.72c-.78.78-.78 2.05 0 2.83L4 21.41c.39.39.9.59 1.41.59.51 0 1.02-.2 1.41-.59l7.78-7.78 2.81-2.81c.8-.78.8-2.07 0-2.86zM5.41 20L4 18.59l7.72-7.72 1.47 1.35L5.41 20z\"/>\n",
              "  </svg>\n",
              "      </button>\n",
              "      \n",
              "  <style>\n",
              "    .colab-df-container {\n",
              "      display:flex;\n",
              "      flex-wrap:wrap;\n",
              "      gap: 12px;\n",
              "    }\n",
              "\n",
              "    .colab-df-convert {\n",
              "      background-color: #E8F0FE;\n",
              "      border: none;\n",
              "      border-radius: 50%;\n",
              "      cursor: pointer;\n",
              "      display: none;\n",
              "      fill: #1967D2;\n",
              "      height: 32px;\n",
              "      padding: 0 0 0 0;\n",
              "      width: 32px;\n",
              "    }\n",
              "\n",
              "    .colab-df-convert:hover {\n",
              "      background-color: #E2EBFA;\n",
              "      box-shadow: 0px 1px 2px rgba(60, 64, 67, 0.3), 0px 1px 3px 1px rgba(60, 64, 67, 0.15);\n",
              "      fill: #174EA6;\n",
              "    }\n",
              "\n",
              "    [theme=dark] .colab-df-convert {\n",
              "      background-color: #3B4455;\n",
              "      fill: #D2E3FC;\n",
              "    }\n",
              "\n",
              "    [theme=dark] .colab-df-convert:hover {\n",
              "      background-color: #434B5C;\n",
              "      box-shadow: 0px 1px 3px 1px rgba(0, 0, 0, 0.15);\n",
              "      filter: drop-shadow(0px 1px 2px rgba(0, 0, 0, 0.3));\n",
              "      fill: #FFFFFF;\n",
              "    }\n",
              "  </style>\n",
              "\n",
              "      <script>\n",
              "        const buttonEl =\n",
              "          document.querySelector('#df-1b5099eb-ece1-43bd-8257-9a7ecd683aaf button.colab-df-convert');\n",
              "        buttonEl.style.display =\n",
              "          google.colab.kernel.accessAllowed ? 'block' : 'none';\n",
              "\n",
              "        async function convertToInteractive(key) {\n",
              "          const element = document.querySelector('#df-1b5099eb-ece1-43bd-8257-9a7ecd683aaf');\n",
              "          const dataTable =\n",
              "            await google.colab.kernel.invokeFunction('convertToInteractive',\n",
              "                                                     [key], {});\n",
              "          if (!dataTable) return;\n",
              "\n",
              "          const docLinkHtml = 'Like what you see? Visit the ' +\n",
              "            '<a target=\"_blank\" href=https://colab.research.google.com/notebooks/data_table.ipynb>data table notebook</a>'\n",
              "            + ' to learn more about interactive tables.';\n",
              "          element.innerHTML = '';\n",
              "          dataTable['output_type'] = 'display_data';\n",
              "          await google.colab.output.renderOutput(dataTable, element);\n",
              "          const docLink = document.createElement('div');\n",
              "          docLink.innerHTML = docLinkHtml;\n",
              "          element.appendChild(docLink);\n",
              "        }\n",
              "      </script>\n",
              "    </div>\n",
              "  </div>\n",
              "  "
            ]
          },
          "metadata": {},
          "execution_count": 144
        }
      ]
    },
    {
      "cell_type": "code",
      "source": [
        "XX3 = ndf3[['Age','Gender']]  #Doble corchete es DataFrame\n",
        "y3 = ndf3['Salary']"
      ],
      "metadata": {
        "id": "fOoZdJVfDZ3q"
      },
      "execution_count": 145,
      "outputs": []
    },
    {
      "cell_type": "code",
      "source": [
        "lm3 = linear_model.LinearRegression()"
      ],
      "metadata": {
        "id": "4A-xjSBgHRjy"
      },
      "execution_count": 146,
      "outputs": []
    },
    {
      "cell_type": "code",
      "source": [
        "model_lm3 = lm3.fit(XX3,y3)"
      ],
      "metadata": {
        "colab": {
          "base_uri": "https://localhost:8080/",
          "height": 311
        },
        "id": "d6Pl22rgHcZD",
        "outputId": "c4d43e99-68ef-42d2-babc-fe684c893886"
      },
      "execution_count": 147,
      "outputs": [
        {
          "output_type": "error",
          "ename": "ValueError",
          "evalue": "ignored",
          "traceback": [
            "\u001b[0;31m---------------------------------------------------------------------------\u001b[0m",
            "\u001b[0;31mValueError\u001b[0m                                Traceback (most recent call last)",
            "\u001b[0;32m<ipython-input-147-b8fcb4bb4bbf>\u001b[0m in \u001b[0;36m<module>\u001b[0;34m\u001b[0m\n\u001b[0;32m----> 1\u001b[0;31m \u001b[0mmodel_lm3\u001b[0m \u001b[0;34m=\u001b[0m \u001b[0mlm3\u001b[0m\u001b[0;34m.\u001b[0m\u001b[0mfit\u001b[0m\u001b[0;34m(\u001b[0m\u001b[0mXX3\u001b[0m\u001b[0;34m,\u001b[0m\u001b[0my3\u001b[0m\u001b[0;34m)\u001b[0m\u001b[0;34m\u001b[0m\u001b[0;34m\u001b[0m\u001b[0m\n\u001b[0m",
            "\u001b[0;32m/usr/local/lib/python3.8/dist-packages/sklearn/linear_model/_base.py\u001b[0m in \u001b[0;36mfit\u001b[0;34m(self, X, y, sample_weight)\u001b[0m\n\u001b[1;32m    646\u001b[0m         \u001b[0maccept_sparse\u001b[0m \u001b[0;34m=\u001b[0m \u001b[0;32mFalse\u001b[0m \u001b[0;32mif\u001b[0m \u001b[0mself\u001b[0m\u001b[0;34m.\u001b[0m\u001b[0mpositive\u001b[0m \u001b[0;32melse\u001b[0m \u001b[0;34m[\u001b[0m\u001b[0;34m\"csr\"\u001b[0m\u001b[0;34m,\u001b[0m \u001b[0;34m\"csc\"\u001b[0m\u001b[0;34m,\u001b[0m \u001b[0;34m\"coo\"\u001b[0m\u001b[0;34m]\u001b[0m\u001b[0;34m\u001b[0m\u001b[0;34m\u001b[0m\u001b[0m\n\u001b[1;32m    647\u001b[0m \u001b[0;34m\u001b[0m\u001b[0m\n\u001b[0;32m--> 648\u001b[0;31m         X, y = self._validate_data(\n\u001b[0m\u001b[1;32m    649\u001b[0m             \u001b[0mX\u001b[0m\u001b[0;34m,\u001b[0m \u001b[0my\u001b[0m\u001b[0;34m,\u001b[0m \u001b[0maccept_sparse\u001b[0m\u001b[0;34m=\u001b[0m\u001b[0maccept_sparse\u001b[0m\u001b[0;34m,\u001b[0m \u001b[0my_numeric\u001b[0m\u001b[0;34m=\u001b[0m\u001b[0;32mTrue\u001b[0m\u001b[0;34m,\u001b[0m \u001b[0mmulti_output\u001b[0m\u001b[0;34m=\u001b[0m\u001b[0;32mTrue\u001b[0m\u001b[0;34m\u001b[0m\u001b[0;34m\u001b[0m\u001b[0m\n\u001b[1;32m    650\u001b[0m         )\n",
            "\u001b[0;32m/usr/local/lib/python3.8/dist-packages/sklearn/base.py\u001b[0m in \u001b[0;36m_validate_data\u001b[0;34m(self, X, y, reset, validate_separately, **check_params)\u001b[0m\n\u001b[1;32m    563\u001b[0m                 \u001b[0my\u001b[0m \u001b[0;34m=\u001b[0m \u001b[0mcheck_array\u001b[0m\u001b[0;34m(\u001b[0m\u001b[0my\u001b[0m\u001b[0;34m,\u001b[0m \u001b[0minput_name\u001b[0m\u001b[0;34m=\u001b[0m\u001b[0;34m\"y\"\u001b[0m\u001b[0;34m,\u001b[0m \u001b[0;34m**\u001b[0m\u001b[0mcheck_y_params\u001b[0m\u001b[0;34m)\u001b[0m\u001b[0;34m\u001b[0m\u001b[0;34m\u001b[0m\u001b[0m\n\u001b[1;32m    564\u001b[0m             \u001b[0;32melse\u001b[0m\u001b[0;34m:\u001b[0m\u001b[0;34m\u001b[0m\u001b[0;34m\u001b[0m\u001b[0m\n\u001b[0;32m--> 565\u001b[0;31m                 \u001b[0mX\u001b[0m\u001b[0;34m,\u001b[0m \u001b[0my\u001b[0m \u001b[0;34m=\u001b[0m \u001b[0mcheck_X_y\u001b[0m\u001b[0;34m(\u001b[0m\u001b[0mX\u001b[0m\u001b[0;34m,\u001b[0m \u001b[0my\u001b[0m\u001b[0;34m,\u001b[0m \u001b[0;34m**\u001b[0m\u001b[0mcheck_params\u001b[0m\u001b[0;34m)\u001b[0m\u001b[0;34m\u001b[0m\u001b[0;34m\u001b[0m\u001b[0m\n\u001b[0m\u001b[1;32m    566\u001b[0m             \u001b[0mout\u001b[0m \u001b[0;34m=\u001b[0m \u001b[0mX\u001b[0m\u001b[0;34m,\u001b[0m \u001b[0my\u001b[0m\u001b[0;34m\u001b[0m\u001b[0;34m\u001b[0m\u001b[0m\n\u001b[1;32m    567\u001b[0m \u001b[0;34m\u001b[0m\u001b[0m\n",
            "\u001b[0;32m/usr/local/lib/python3.8/dist-packages/sklearn/utils/validation.py\u001b[0m in \u001b[0;36mcheck_X_y\u001b[0;34m(X, y, accept_sparse, accept_large_sparse, dtype, order, copy, force_all_finite, ensure_2d, allow_nd, multi_output, ensure_min_samples, ensure_min_features, y_numeric, estimator)\u001b[0m\n\u001b[1;32m   1104\u001b[0m         )\n\u001b[1;32m   1105\u001b[0m \u001b[0;34m\u001b[0m\u001b[0m\n\u001b[0;32m-> 1106\u001b[0;31m     X = check_array(\n\u001b[0m\u001b[1;32m   1107\u001b[0m         \u001b[0mX\u001b[0m\u001b[0;34m,\u001b[0m\u001b[0;34m\u001b[0m\u001b[0;34m\u001b[0m\u001b[0m\n\u001b[1;32m   1108\u001b[0m         \u001b[0maccept_sparse\u001b[0m\u001b[0;34m=\u001b[0m\u001b[0maccept_sparse\u001b[0m\u001b[0;34m,\u001b[0m\u001b[0;34m\u001b[0m\u001b[0;34m\u001b[0m\u001b[0m\n",
            "\u001b[0;32m/usr/local/lib/python3.8/dist-packages/sklearn/utils/validation.py\u001b[0m in \u001b[0;36mcheck_array\u001b[0;34m(array, accept_sparse, accept_large_sparse, dtype, order, copy, force_all_finite, ensure_2d, allow_nd, ensure_min_samples, ensure_min_features, estimator, input_name)\u001b[0m\n\u001b[1;32m    877\u001b[0m                     \u001b[0marray\u001b[0m \u001b[0;34m=\u001b[0m \u001b[0mxp\u001b[0m\u001b[0;34m.\u001b[0m\u001b[0mastype\u001b[0m\u001b[0;34m(\u001b[0m\u001b[0marray\u001b[0m\u001b[0;34m,\u001b[0m \u001b[0mdtype\u001b[0m\u001b[0;34m,\u001b[0m \u001b[0mcopy\u001b[0m\u001b[0;34m=\u001b[0m\u001b[0;32mFalse\u001b[0m\u001b[0;34m)\u001b[0m\u001b[0;34m\u001b[0m\u001b[0;34m\u001b[0m\u001b[0m\n\u001b[1;32m    878\u001b[0m                 \u001b[0;32melse\u001b[0m\u001b[0;34m:\u001b[0m\u001b[0;34m\u001b[0m\u001b[0;34m\u001b[0m\u001b[0m\n\u001b[0;32m--> 879\u001b[0;31m                     \u001b[0marray\u001b[0m \u001b[0;34m=\u001b[0m \u001b[0m_asarray_with_order\u001b[0m\u001b[0;34m(\u001b[0m\u001b[0marray\u001b[0m\u001b[0;34m,\u001b[0m \u001b[0morder\u001b[0m\u001b[0;34m=\u001b[0m\u001b[0morder\u001b[0m\u001b[0;34m,\u001b[0m \u001b[0mdtype\u001b[0m\u001b[0;34m=\u001b[0m\u001b[0mdtype\u001b[0m\u001b[0;34m,\u001b[0m \u001b[0mxp\u001b[0m\u001b[0;34m=\u001b[0m\u001b[0mxp\u001b[0m\u001b[0;34m)\u001b[0m\u001b[0;34m\u001b[0m\u001b[0;34m\u001b[0m\u001b[0m\n\u001b[0m\u001b[1;32m    880\u001b[0m             \u001b[0;32mexcept\u001b[0m \u001b[0mComplexWarning\u001b[0m \u001b[0;32mas\u001b[0m \u001b[0mcomplex_warning\u001b[0m\u001b[0;34m:\u001b[0m\u001b[0;34m\u001b[0m\u001b[0;34m\u001b[0m\u001b[0m\n\u001b[1;32m    881\u001b[0m                 raise ValueError(\n",
            "\u001b[0;32m/usr/local/lib/python3.8/dist-packages/sklearn/utils/_array_api.py\u001b[0m in \u001b[0;36m_asarray_with_order\u001b[0;34m(array, dtype, order, copy, xp)\u001b[0m\n\u001b[1;32m    183\u001b[0m     \u001b[0;32mif\u001b[0m \u001b[0mxp\u001b[0m\u001b[0;34m.\u001b[0m\u001b[0m__name__\u001b[0m \u001b[0;32min\u001b[0m \u001b[0;34m{\u001b[0m\u001b[0;34m\"numpy\"\u001b[0m\u001b[0;34m,\u001b[0m \u001b[0;34m\"numpy.array_api\"\u001b[0m\u001b[0;34m}\u001b[0m\u001b[0;34m:\u001b[0m\u001b[0;34m\u001b[0m\u001b[0;34m\u001b[0m\u001b[0m\n\u001b[1;32m    184\u001b[0m         \u001b[0;31m# Use NumPy API to support order\u001b[0m\u001b[0;34m\u001b[0m\u001b[0;34m\u001b[0m\u001b[0;34m\u001b[0m\u001b[0m\n\u001b[0;32m--> 185\u001b[0;31m         \u001b[0marray\u001b[0m \u001b[0;34m=\u001b[0m \u001b[0mnumpy\u001b[0m\u001b[0;34m.\u001b[0m\u001b[0masarray\u001b[0m\u001b[0;34m(\u001b[0m\u001b[0marray\u001b[0m\u001b[0;34m,\u001b[0m \u001b[0morder\u001b[0m\u001b[0;34m=\u001b[0m\u001b[0morder\u001b[0m\u001b[0;34m,\u001b[0m \u001b[0mdtype\u001b[0m\u001b[0;34m=\u001b[0m\u001b[0mdtype\u001b[0m\u001b[0;34m)\u001b[0m\u001b[0;34m\u001b[0m\u001b[0;34m\u001b[0m\u001b[0m\n\u001b[0m\u001b[1;32m    186\u001b[0m         \u001b[0;32mreturn\u001b[0m \u001b[0mxp\u001b[0m\u001b[0;34m.\u001b[0m\u001b[0masarray\u001b[0m\u001b[0;34m(\u001b[0m\u001b[0marray\u001b[0m\u001b[0;34m,\u001b[0m \u001b[0mcopy\u001b[0m\u001b[0;34m=\u001b[0m\u001b[0mcopy\u001b[0m\u001b[0;34m)\u001b[0m\u001b[0;34m\u001b[0m\u001b[0;34m\u001b[0m\u001b[0m\n\u001b[1;32m    187\u001b[0m     \u001b[0;32melse\u001b[0m\u001b[0;34m:\u001b[0m\u001b[0;34m\u001b[0m\u001b[0;34m\u001b[0m\u001b[0m\n",
            "\u001b[0;32m/usr/local/lib/python3.8/dist-packages/pandas/core/generic.py\u001b[0m in \u001b[0;36m__array__\u001b[0;34m(self, dtype)\u001b[0m\n\u001b[1;32m   1991\u001b[0m \u001b[0;34m\u001b[0m\u001b[0m\n\u001b[1;32m   1992\u001b[0m     \u001b[0;32mdef\u001b[0m \u001b[0m__array__\u001b[0m\u001b[0;34m(\u001b[0m\u001b[0mself\u001b[0m\u001b[0;34m,\u001b[0m \u001b[0mdtype\u001b[0m\u001b[0;34m:\u001b[0m \u001b[0mNpDtype\u001b[0m \u001b[0;34m|\u001b[0m \u001b[0;32mNone\u001b[0m \u001b[0;34m=\u001b[0m \u001b[0;32mNone\u001b[0m\u001b[0;34m)\u001b[0m \u001b[0;34m->\u001b[0m \u001b[0mnp\u001b[0m\u001b[0;34m.\u001b[0m\u001b[0mndarray\u001b[0m\u001b[0;34m:\u001b[0m\u001b[0;34m\u001b[0m\u001b[0;34m\u001b[0m\u001b[0m\n\u001b[0;32m-> 1993\u001b[0;31m         \u001b[0;32mreturn\u001b[0m \u001b[0mnp\u001b[0m\u001b[0;34m.\u001b[0m\u001b[0masarray\u001b[0m\u001b[0;34m(\u001b[0m\u001b[0mself\u001b[0m\u001b[0;34m.\u001b[0m\u001b[0m_values\u001b[0m\u001b[0;34m,\u001b[0m \u001b[0mdtype\u001b[0m\u001b[0;34m=\u001b[0m\u001b[0mdtype\u001b[0m\u001b[0;34m)\u001b[0m\u001b[0;34m\u001b[0m\u001b[0;34m\u001b[0m\u001b[0m\n\u001b[0m\u001b[1;32m   1994\u001b[0m \u001b[0;34m\u001b[0m\u001b[0m\n\u001b[1;32m   1995\u001b[0m     def __array_wrap__(\n",
            "\u001b[0;31mValueError\u001b[0m: could not convert string to float: 'Female'"
          ]
        }
      ]
    },
    {
      "cell_type": "code",
      "source": [
        "print('The intercept is \\t',model_lm3.intercept_)\n",
        "print('The coefficient is \\t', model_lm3.coef_)\n",
        "print('The r2 value is \\t', model_lm3.score(XX3,y3))"
      ],
      "metadata": {
        "id": "P_rznL61Hhl9"
      },
      "execution_count": null,
      "outputs": []
    },
    {
      "cell_type": "markdown",
      "source": [
        "PREGUNTAR A JOBISH SOBRE PORQUE NO SE PUEDE CONVERTIR STRING TO FLOAT FEMALE TENDRÍAMOS QUE CONVERTIR FEMALE A 1?"
      ],
      "metadata": {
        "id": "0O8sVE8kIVEC"
      }
    },
    {
      "cell_type": "markdown",
      "source": [
        "aHORA VAMOS A CALCULAR LA FEMALE USANDO EL METODO ULTIMO"
      ],
      "metadata": {
        "id": "RzL8qt4KIcWc"
      }
    },
    {
      "cell_type": "code",
      "source": [
        "import statsmodels.api as sm"
      ],
      "metadata": {
        "id": "LwdC_aD0IUun"
      },
      "execution_count": 148,
      "outputs": []
    },
    {
      "cell_type": "code",
      "source": [
        "modelC = sm.OLS.from_formula('Salary ~ Age + Gender',\n",
        "                             data = df\n",
        "                             )\n",
        "resultC = modelC.fit()\n",
        "resultC.summary()"
      ],
      "metadata": {
        "colab": {
          "base_uri": "https://localhost:8080/",
          "height": 499
        },
        "id": "wD0KkHDDHmin",
        "outputId": "8a1c7da0-b25c-4ece-aa16-ec7a2827a791"
      },
      "execution_count": 149,
      "outputs": [
        {
          "output_type": "stream",
          "name": "stderr",
          "text": [
            "/usr/local/lib/python3.8/dist-packages/scipy/stats/_stats_py.py:1736: UserWarning: kurtosistest only valid for n>=20 ... continuing anyway, n=16\n",
            "  warnings.warn(\"kurtosistest only valid for n>=20 ... continuing \"\n"
          ]
        },
        {
          "output_type": "execute_result",
          "data": {
            "text/plain": [
              "<class 'statsmodels.iolib.summary.Summary'>\n",
              "\"\"\"\n",
              "                            OLS Regression Results                            \n",
              "==============================================================================\n",
              "Dep. Variable:                 Salary   R-squared:                       0.323\n",
              "Model:                            OLS   Adj. R-squared:                  0.219\n",
              "Method:                 Least Squares   F-statistic:                     3.108\n",
              "Date:                Fri, 03 Mar 2023   Prob (F-statistic):             0.0789\n",
              "Time:                        01:42:58   Log-Likelihood:                -121.44\n",
              "No. Observations:                  16   AIC:                             248.9\n",
              "Df Residuals:                      13   BIC:                             251.2\n",
              "Df Model:                           2                                         \n",
              "Covariance Type:            nonrobust                                         \n",
              "==================================================================================\n",
              "                     coef    std err          t      P>|t|      [0.025      0.975]\n",
              "----------------------------------------------------------------------------------\n",
              "Intercept        874.7433    968.174      0.903      0.383   -1216.869    2966.355\n",
              "Gender[T.Male]   188.7701    423.620      0.446      0.663    -726.406    1103.946\n",
              "Age               33.0033     27.396      1.205      0.250     -26.183      92.189\n",
              "==============================================================================\n",
              "Omnibus:                        0.559   Durbin-Watson:                   1.244\n",
              "Prob(Omnibus):                  0.756   Jarque-Bera (JB):                0.623\n",
              "Skew:                           0.295   Prob(JB):                        0.732\n",
              "Kurtosis:                       2.234   Cond. No.                         320.\n",
              "==============================================================================\n",
              "\n",
              "Notes:\n",
              "[1] Standard Errors assume that the covariance matrix of the errors is correctly specified.\n",
              "\"\"\""
            ],
            "text/html": [
              "<table class=\"simpletable\">\n",
              "<caption>OLS Regression Results</caption>\n",
              "<tr>\n",
              "  <th>Dep. Variable:</th>         <td>Salary</td>      <th>  R-squared:         </th> <td>   0.323</td>\n",
              "</tr>\n",
              "<tr>\n",
              "  <th>Model:</th>                   <td>OLS</td>       <th>  Adj. R-squared:    </th> <td>   0.219</td>\n",
              "</tr>\n",
              "<tr>\n",
              "  <th>Method:</th>             <td>Least Squares</td>  <th>  F-statistic:       </th> <td>   3.108</td>\n",
              "</tr>\n",
              "<tr>\n",
              "  <th>Date:</th>             <td>Fri, 03 Mar 2023</td> <th>  Prob (F-statistic):</th>  <td>0.0789</td> \n",
              "</tr>\n",
              "<tr>\n",
              "  <th>Time:</th>                 <td>01:42:58</td>     <th>  Log-Likelihood:    </th> <td> -121.44</td>\n",
              "</tr>\n",
              "<tr>\n",
              "  <th>No. Observations:</th>      <td>    16</td>      <th>  AIC:               </th> <td>   248.9</td>\n",
              "</tr>\n",
              "<tr>\n",
              "  <th>Df Residuals:</th>          <td>    13</td>      <th>  BIC:               </th> <td>   251.2</td>\n",
              "</tr>\n",
              "<tr>\n",
              "  <th>Df Model:</th>              <td>     2</td>      <th>                     </th>     <td> </td>   \n",
              "</tr>\n",
              "<tr>\n",
              "  <th>Covariance Type:</th>      <td>nonrobust</td>    <th>                     </th>     <td> </td>   \n",
              "</tr>\n",
              "</table>\n",
              "<table class=\"simpletable\">\n",
              "<tr>\n",
              "         <td></td>           <th>coef</th>     <th>std err</th>      <th>t</th>      <th>P>|t|</th>  <th>[0.025</th>    <th>0.975]</th>  \n",
              "</tr>\n",
              "<tr>\n",
              "  <th>Intercept</th>      <td>  874.7433</td> <td>  968.174</td> <td>    0.903</td> <td> 0.383</td> <td>-1216.869</td> <td> 2966.355</td>\n",
              "</tr>\n",
              "<tr>\n",
              "  <th>Gender[T.Male]</th> <td>  188.7701</td> <td>  423.620</td> <td>    0.446</td> <td> 0.663</td> <td> -726.406</td> <td> 1103.946</td>\n",
              "</tr>\n",
              "<tr>\n",
              "  <th>Age</th>            <td>   33.0033</td> <td>   27.396</td> <td>    1.205</td> <td> 0.250</td> <td>  -26.183</td> <td>   92.189</td>\n",
              "</tr>\n",
              "</table>\n",
              "<table class=\"simpletable\">\n",
              "<tr>\n",
              "  <th>Omnibus:</th>       <td> 0.559</td> <th>  Durbin-Watson:     </th> <td>   1.244</td>\n",
              "</tr>\n",
              "<tr>\n",
              "  <th>Prob(Omnibus):</th> <td> 0.756</td> <th>  Jarque-Bera (JB):  </th> <td>   0.623</td>\n",
              "</tr>\n",
              "<tr>\n",
              "  <th>Skew:</th>          <td> 0.295</td> <th>  Prob(JB):          </th> <td>   0.732</td>\n",
              "</tr>\n",
              "<tr>\n",
              "  <th>Kurtosis:</th>      <td> 2.234</td> <th>  Cond. No.          </th> <td>    320.</td>\n",
              "</tr>\n",
              "</table><br/><br/>Notes:<br/>[1] Standard Errors assume that the covariance matrix of the errors is correctly specified."
            ]
          },
          "metadata": {},
          "execution_count": 149
        }
      ]
    },
    {
      "cell_type": "code",
      "source": [
        "#Salary = b0 + b1Age + b2Gender\n",
        "edad = int(input('Enter the age of the person to find the Salary'))\n",
        "sexo = int(input('Enter 1 if male, 0 female'))\n"
      ],
      "metadata": {
        "colab": {
          "base_uri": "https://localhost:8080/"
        },
        "id": "TjA4qykKIvC2",
        "outputId": "61032a09-7c64-40cd-e3fb-1a6c61562fb3"
      },
      "execution_count": 159,
      "outputs": [
        {
          "name": "stdout",
          "output_type": "stream",
          "text": [
            "Enter the age of the person to find the Salary33\n",
            "Enter 1 if male, 0 female0\n"
          ]
        }
      ]
    },
    {
      "cell_type": "code",
      "source": [
        "print('Salary of a person with age ',edad, 'and with gender Female ','is', \n",
        "      874.7433\t + 33.0033 * 33 + 0 *\t188.7701)\n",
        "print('Salary of a person with age ',edad, 'and with gender Male ', 'is', \n",
        "      874.7433\t + 33.0033 * 33 + 1 *\t188.7701)"
      ],
      "metadata": {
        "colab": {
          "base_uri": "https://localhost:8080/"
        },
        "id": "d7PNC6kyJPvv",
        "outputId": "80721474-5eb6-4b70-ea11-7404a6247aa0"
      },
      "execution_count": 164,
      "outputs": [
        {
          "output_type": "stream",
          "name": "stdout",
          "text": [
            "Salary of a person with age  33 and with gender Female  is 1963.8522000000003\n",
            "Salary of a person with age  33 and with gender Male  is 2152.6223000000005\n"
          ]
        }
      ]
    },
    {
      "cell_type": "markdown",
      "source": [
        "What is the age of a Female with age 40  with education  Bachelor  degree?\n",
        "\n",
        "Salary = b0 + b1Gender + b2Education + b3Age"
      ],
      "metadata": {
        "id": "JYZORoTQOGBY"
      }
    },
    {
      "cell_type": "code",
      "source": [
        "df.columns\n"
      ],
      "metadata": {
        "colab": {
          "base_uri": "https://localhost:8080/"
        },
        "id": "WTAxOTgRNjO_",
        "outputId": "db746898-750f-4486-ef90-2ef1e20c2364"
      },
      "execution_count": 165,
      "outputs": [
        {
          "output_type": "execute_result",
          "data": {
            "text/plain": [
              "Index(['Gender', 'Salary', 'Age', 'Place', 'Weight', 'Company', 'Education',\n",
              "       'JoinYear'],\n",
              "      dtype='object')"
            ]
          },
          "metadata": {},
          "execution_count": 165
        }
      ]
    },
    {
      "cell_type": "code",
      "source": [
        "df.Education.unique()"
      ],
      "metadata": {
        "colab": {
          "base_uri": "https://localhost:8080/"
        },
        "id": "KPDfNt-OOZBA",
        "outputId": "4b3ae1dd-ff64-4a4c-8960-feeb8a27b999"
      },
      "execution_count": 167,
      "outputs": [
        {
          "output_type": "execute_result",
          "data": {
            "text/plain": [
              "array(['Bachelor', 'HighSchool', 'Master', nan], dtype=object)"
            ]
          },
          "metadata": {},
          "execution_count": 167
        }
      ]
    },
    {
      "cell_type": "code",
      "source": [
        "favs4=['Salary','Age','Gender','Education']   # Solo hay que limpiar estas dos variables\n",
        "ndf4 = df[favs4]\n",
        "ndf4 = ndf4.dropna()\n",
        "ndf4.shape"
      ],
      "metadata": {
        "colab": {
          "base_uri": "https://localhost:8080/"
        },
        "id": "6L4zESOjPly6",
        "outputId": "dcef0551-8536-4ee5-c375-67583e570b6d"
      },
      "execution_count": 180,
      "outputs": [
        {
          "output_type": "execute_result",
          "data": {
            "text/plain": [
              "(15, 4)"
            ]
          },
          "metadata": {},
          "execution_count": 180
        }
      ]
    },
    {
      "cell_type": "code",
      "source": [
        "ndf4"
      ],
      "metadata": {
        "colab": {
          "base_uri": "https://localhost:8080/",
          "height": 519
        },
        "id": "QE9ryLVbPzt5",
        "outputId": "c755d7bf-2904-4fb0-97e9-63e92f0b0af8"
      },
      "execution_count": 171,
      "outputs": [
        {
          "output_type": "execute_result",
          "data": {
            "text/plain": [
              "    Salary   Age  Gender   Education\n",
              "0   1300.0  35.0  Female    Bachelor\n",
              "1   1250.0  33.0  Female  HighSchool\n",
              "2   2200.0  34.0    Male    Bachelor\n",
              "3   2100.0  42.0    Male      Master\n",
              "4   1500.0  29.0  Female      Master\n",
              "5   1700.0  42.0  Female      Master\n",
              "6   3000.0  50.0    Male  HighSchool\n",
              "7   3000.0  55.0    Male    Bachelor\n",
              "8   2800.0  31.0  Female    Bachelor\n",
              "9   2900.0  46.0    Male      Master\n",
              "10  2780.0  36.0  Female  HighSchool\n",
              "11  2550.0  48.0    Male      Master\n",
              "14  2780.0  36.0  Female  HighSchool\n",
              "15  2550.0  48.0    Male      Master\n",
              "16  2550.0  48.0    Male      Master"
            ],
            "text/html": [
              "\n",
              "  <div id=\"df-0d88621a-26a3-4441-b1b4-98d271ac88c3\">\n",
              "    <div class=\"colab-df-container\">\n",
              "      <div>\n",
              "<style scoped>\n",
              "    .dataframe tbody tr th:only-of-type {\n",
              "        vertical-align: middle;\n",
              "    }\n",
              "\n",
              "    .dataframe tbody tr th {\n",
              "        vertical-align: top;\n",
              "    }\n",
              "\n",
              "    .dataframe thead th {\n",
              "        text-align: right;\n",
              "    }\n",
              "</style>\n",
              "<table border=\"1\" class=\"dataframe\">\n",
              "  <thead>\n",
              "    <tr style=\"text-align: right;\">\n",
              "      <th></th>\n",
              "      <th>Salary</th>\n",
              "      <th>Age</th>\n",
              "      <th>Gender</th>\n",
              "      <th>Education</th>\n",
              "    </tr>\n",
              "  </thead>\n",
              "  <tbody>\n",
              "    <tr>\n",
              "      <th>0</th>\n",
              "      <td>1300.0</td>\n",
              "      <td>35.0</td>\n",
              "      <td>Female</td>\n",
              "      <td>Bachelor</td>\n",
              "    </tr>\n",
              "    <tr>\n",
              "      <th>1</th>\n",
              "      <td>1250.0</td>\n",
              "      <td>33.0</td>\n",
              "      <td>Female</td>\n",
              "      <td>HighSchool</td>\n",
              "    </tr>\n",
              "    <tr>\n",
              "      <th>2</th>\n",
              "      <td>2200.0</td>\n",
              "      <td>34.0</td>\n",
              "      <td>Male</td>\n",
              "      <td>Bachelor</td>\n",
              "    </tr>\n",
              "    <tr>\n",
              "      <th>3</th>\n",
              "      <td>2100.0</td>\n",
              "      <td>42.0</td>\n",
              "      <td>Male</td>\n",
              "      <td>Master</td>\n",
              "    </tr>\n",
              "    <tr>\n",
              "      <th>4</th>\n",
              "      <td>1500.0</td>\n",
              "      <td>29.0</td>\n",
              "      <td>Female</td>\n",
              "      <td>Master</td>\n",
              "    </tr>\n",
              "    <tr>\n",
              "      <th>5</th>\n",
              "      <td>1700.0</td>\n",
              "      <td>42.0</td>\n",
              "      <td>Female</td>\n",
              "      <td>Master</td>\n",
              "    </tr>\n",
              "    <tr>\n",
              "      <th>6</th>\n",
              "      <td>3000.0</td>\n",
              "      <td>50.0</td>\n",
              "      <td>Male</td>\n",
              "      <td>HighSchool</td>\n",
              "    </tr>\n",
              "    <tr>\n",
              "      <th>7</th>\n",
              "      <td>3000.0</td>\n",
              "      <td>55.0</td>\n",
              "      <td>Male</td>\n",
              "      <td>Bachelor</td>\n",
              "    </tr>\n",
              "    <tr>\n",
              "      <th>8</th>\n",
              "      <td>2800.0</td>\n",
              "      <td>31.0</td>\n",
              "      <td>Female</td>\n",
              "      <td>Bachelor</td>\n",
              "    </tr>\n",
              "    <tr>\n",
              "      <th>9</th>\n",
              "      <td>2900.0</td>\n",
              "      <td>46.0</td>\n",
              "      <td>Male</td>\n",
              "      <td>Master</td>\n",
              "    </tr>\n",
              "    <tr>\n",
              "      <th>10</th>\n",
              "      <td>2780.0</td>\n",
              "      <td>36.0</td>\n",
              "      <td>Female</td>\n",
              "      <td>HighSchool</td>\n",
              "    </tr>\n",
              "    <tr>\n",
              "      <th>11</th>\n",
              "      <td>2550.0</td>\n",
              "      <td>48.0</td>\n",
              "      <td>Male</td>\n",
              "      <td>Master</td>\n",
              "    </tr>\n",
              "    <tr>\n",
              "      <th>14</th>\n",
              "      <td>2780.0</td>\n",
              "      <td>36.0</td>\n",
              "      <td>Female</td>\n",
              "      <td>HighSchool</td>\n",
              "    </tr>\n",
              "    <tr>\n",
              "      <th>15</th>\n",
              "      <td>2550.0</td>\n",
              "      <td>48.0</td>\n",
              "      <td>Male</td>\n",
              "      <td>Master</td>\n",
              "    </tr>\n",
              "    <tr>\n",
              "      <th>16</th>\n",
              "      <td>2550.0</td>\n",
              "      <td>48.0</td>\n",
              "      <td>Male</td>\n",
              "      <td>Master</td>\n",
              "    </tr>\n",
              "  </tbody>\n",
              "</table>\n",
              "</div>\n",
              "      <button class=\"colab-df-convert\" onclick=\"convertToInteractive('df-0d88621a-26a3-4441-b1b4-98d271ac88c3')\"\n",
              "              title=\"Convert this dataframe to an interactive table.\"\n",
              "              style=\"display:none;\">\n",
              "        \n",
              "  <svg xmlns=\"http://www.w3.org/2000/svg\" height=\"24px\"viewBox=\"0 0 24 24\"\n",
              "       width=\"24px\">\n",
              "    <path d=\"M0 0h24v24H0V0z\" fill=\"none\"/>\n",
              "    <path d=\"M18.56 5.44l.94 2.06.94-2.06 2.06-.94-2.06-.94-.94-2.06-.94 2.06-2.06.94zm-11 1L8.5 8.5l.94-2.06 2.06-.94-2.06-.94L8.5 2.5l-.94 2.06-2.06.94zm10 10l.94 2.06.94-2.06 2.06-.94-2.06-.94-.94-2.06-.94 2.06-2.06.94z\"/><path d=\"M17.41 7.96l-1.37-1.37c-.4-.4-.92-.59-1.43-.59-.52 0-1.04.2-1.43.59L10.3 9.45l-7.72 7.72c-.78.78-.78 2.05 0 2.83L4 21.41c.39.39.9.59 1.41.59.51 0 1.02-.2 1.41-.59l7.78-7.78 2.81-2.81c.8-.78.8-2.07 0-2.86zM5.41 20L4 18.59l7.72-7.72 1.47 1.35L5.41 20z\"/>\n",
              "  </svg>\n",
              "      </button>\n",
              "      \n",
              "  <style>\n",
              "    .colab-df-container {\n",
              "      display:flex;\n",
              "      flex-wrap:wrap;\n",
              "      gap: 12px;\n",
              "    }\n",
              "\n",
              "    .colab-df-convert {\n",
              "      background-color: #E8F0FE;\n",
              "      border: none;\n",
              "      border-radius: 50%;\n",
              "      cursor: pointer;\n",
              "      display: none;\n",
              "      fill: #1967D2;\n",
              "      height: 32px;\n",
              "      padding: 0 0 0 0;\n",
              "      width: 32px;\n",
              "    }\n",
              "\n",
              "    .colab-df-convert:hover {\n",
              "      background-color: #E2EBFA;\n",
              "      box-shadow: 0px 1px 2px rgba(60, 64, 67, 0.3), 0px 1px 3px 1px rgba(60, 64, 67, 0.15);\n",
              "      fill: #174EA6;\n",
              "    }\n",
              "\n",
              "    [theme=dark] .colab-df-convert {\n",
              "      background-color: #3B4455;\n",
              "      fill: #D2E3FC;\n",
              "    }\n",
              "\n",
              "    [theme=dark] .colab-df-convert:hover {\n",
              "      background-color: #434B5C;\n",
              "      box-shadow: 0px 1px 3px 1px rgba(0, 0, 0, 0.15);\n",
              "      filter: drop-shadow(0px 1px 2px rgba(0, 0, 0, 0.3));\n",
              "      fill: #FFFFFF;\n",
              "    }\n",
              "  </style>\n",
              "\n",
              "      <script>\n",
              "        const buttonEl =\n",
              "          document.querySelector('#df-0d88621a-26a3-4441-b1b4-98d271ac88c3 button.colab-df-convert');\n",
              "        buttonEl.style.display =\n",
              "          google.colab.kernel.accessAllowed ? 'block' : 'none';\n",
              "\n",
              "        async function convertToInteractive(key) {\n",
              "          const element = document.querySelector('#df-0d88621a-26a3-4441-b1b4-98d271ac88c3');\n",
              "          const dataTable =\n",
              "            await google.colab.kernel.invokeFunction('convertToInteractive',\n",
              "                                                     [key], {});\n",
              "          if (!dataTable) return;\n",
              "\n",
              "          const docLinkHtml = 'Like what you see? Visit the ' +\n",
              "            '<a target=\"_blank\" href=https://colab.research.google.com/notebooks/data_table.ipynb>data table notebook</a>'\n",
              "            + ' to learn more about interactive tables.';\n",
              "          element.innerHTML = '';\n",
              "          dataTable['output_type'] = 'display_data';\n",
              "          await google.colab.output.renderOutput(dataTable, element);\n",
              "          const docLink = document.createElement('div');\n",
              "          docLink.innerHTML = docLinkHtml;\n",
              "          element.appendChild(docLink);\n",
              "        }\n",
              "      </script>\n",
              "    </div>\n",
              "  </div>\n",
              "  "
            ]
          },
          "metadata": {},
          "execution_count": 171
        }
      ]
    },
    {
      "cell_type": "code",
      "source": [
        "modelD = sm.OLS.from_formula('Salary ~ Age + Gender + Education',\n",
        "                             data = ndf4\n",
        "                             )\n",
        "resultD = modelD.fit()\n",
        "resultD.summary()"
      ],
      "metadata": {
        "colab": {
          "base_uri": "https://localhost:8080/",
          "height": 541
        },
        "id": "SsrmhVlEOdok",
        "outputId": "d5af26d5-8f2d-4464-cec6-2bde270a169e"
      },
      "execution_count": 173,
      "outputs": [
        {
          "output_type": "stream",
          "name": "stderr",
          "text": [
            "/usr/local/lib/python3.8/dist-packages/scipy/stats/_stats_py.py:1736: UserWarning: kurtosistest only valid for n>=20 ... continuing anyway, n=15\n",
            "  warnings.warn(\"kurtosistest only valid for n>=20 ... continuing \"\n"
          ]
        },
        {
          "output_type": "execute_result",
          "data": {
            "text/plain": [
              "<class 'statsmodels.iolib.summary.Summary'>\n",
              "\"\"\"\n",
              "                            OLS Regression Results                            \n",
              "==============================================================================\n",
              "Dep. Variable:                 Salary   R-squared:                       0.429\n",
              "Model:                            OLS   Adj. R-squared:                  0.201\n",
              "Method:                 Least Squares   F-statistic:                     1.878\n",
              "Date:                Fri, 03 Mar 2023   Prob (F-statistic):              0.191\n",
              "Time:                        02:14:27   Log-Likelihood:                -113.00\n",
              "No. Observations:                  15   AIC:                             236.0\n",
              "Df Residuals:                      10   BIC:                             239.5\n",
              "Df Model:                           4                                         \n",
              "Covariance Type:            nonrobust                                         \n",
              "===========================================================================================\n",
              "                              coef    std err          t      P>|t|      [0.025      0.975]\n",
              "-------------------------------------------------------------------------------------------\n",
              "Intercept                 895.1281   1013.504      0.883      0.398   -1363.100    3153.357\n",
              "Gender[T.Male]            377.0401    471.530      0.800      0.443    -673.593    1427.674\n",
              "Education[T.HighSchool]   221.7600    409.165      0.542      0.600    -689.917    1133.437\n",
              "Education[T.Master]      -286.8097    358.267     -0.801      0.442   -1085.079     511.460\n",
              "Age                        32.0349     29.413      1.089      0.302     -33.500      97.570\n",
              "==============================================================================\n",
              "Omnibus:                        0.443   Durbin-Watson:                   0.835\n",
              "Prob(Omnibus):                  0.801   Jarque-Bera (JB):                0.009\n",
              "Skew:                          -0.059   Prob(JB):                        0.995\n",
              "Kurtosis:                       2.966   Cond. No.                         308.\n",
              "==============================================================================\n",
              "\n",
              "Notes:\n",
              "[1] Standard Errors assume that the covariance matrix of the errors is correctly specified.\n",
              "\"\"\""
            ],
            "text/html": [
              "<table class=\"simpletable\">\n",
              "<caption>OLS Regression Results</caption>\n",
              "<tr>\n",
              "  <th>Dep. Variable:</th>         <td>Salary</td>      <th>  R-squared:         </th> <td>   0.429</td>\n",
              "</tr>\n",
              "<tr>\n",
              "  <th>Model:</th>                   <td>OLS</td>       <th>  Adj. R-squared:    </th> <td>   0.201</td>\n",
              "</tr>\n",
              "<tr>\n",
              "  <th>Method:</th>             <td>Least Squares</td>  <th>  F-statistic:       </th> <td>   1.878</td>\n",
              "</tr>\n",
              "<tr>\n",
              "  <th>Date:</th>             <td>Fri, 03 Mar 2023</td> <th>  Prob (F-statistic):</th>  <td> 0.191</td> \n",
              "</tr>\n",
              "<tr>\n",
              "  <th>Time:</th>                 <td>02:14:27</td>     <th>  Log-Likelihood:    </th> <td> -113.00</td>\n",
              "</tr>\n",
              "<tr>\n",
              "  <th>No. Observations:</th>      <td>    15</td>      <th>  AIC:               </th> <td>   236.0</td>\n",
              "</tr>\n",
              "<tr>\n",
              "  <th>Df Residuals:</th>          <td>    10</td>      <th>  BIC:               </th> <td>   239.5</td>\n",
              "</tr>\n",
              "<tr>\n",
              "  <th>Df Model:</th>              <td>     4</td>      <th>                     </th>     <td> </td>   \n",
              "</tr>\n",
              "<tr>\n",
              "  <th>Covariance Type:</th>      <td>nonrobust</td>    <th>                     </th>     <td> </td>   \n",
              "</tr>\n",
              "</table>\n",
              "<table class=\"simpletable\">\n",
              "<tr>\n",
              "             <td></td>                <th>coef</th>     <th>std err</th>      <th>t</th>      <th>P>|t|</th>  <th>[0.025</th>    <th>0.975]</th>  \n",
              "</tr>\n",
              "<tr>\n",
              "  <th>Intercept</th>               <td>  895.1281</td> <td> 1013.504</td> <td>    0.883</td> <td> 0.398</td> <td>-1363.100</td> <td> 3153.357</td>\n",
              "</tr>\n",
              "<tr>\n",
              "  <th>Gender[T.Male]</th>          <td>  377.0401</td> <td>  471.530</td> <td>    0.800</td> <td> 0.443</td> <td> -673.593</td> <td> 1427.674</td>\n",
              "</tr>\n",
              "<tr>\n",
              "  <th>Education[T.HighSchool]</th> <td>  221.7600</td> <td>  409.165</td> <td>    0.542</td> <td> 0.600</td> <td> -689.917</td> <td> 1133.437</td>\n",
              "</tr>\n",
              "<tr>\n",
              "  <th>Education[T.Master]</th>     <td> -286.8097</td> <td>  358.267</td> <td>   -0.801</td> <td> 0.442</td> <td>-1085.079</td> <td>  511.460</td>\n",
              "</tr>\n",
              "<tr>\n",
              "  <th>Age</th>                     <td>   32.0349</td> <td>   29.413</td> <td>    1.089</td> <td> 0.302</td> <td>  -33.500</td> <td>   97.570</td>\n",
              "</tr>\n",
              "</table>\n",
              "<table class=\"simpletable\">\n",
              "<tr>\n",
              "  <th>Omnibus:</th>       <td> 0.443</td> <th>  Durbin-Watson:     </th> <td>   0.835</td>\n",
              "</tr>\n",
              "<tr>\n",
              "  <th>Prob(Omnibus):</th> <td> 0.801</td> <th>  Jarque-Bera (JB):  </th> <td>   0.009</td>\n",
              "</tr>\n",
              "<tr>\n",
              "  <th>Skew:</th>          <td>-0.059</td> <th>  Prob(JB):          </th> <td>   0.995</td>\n",
              "</tr>\n",
              "<tr>\n",
              "  <th>Kurtosis:</th>      <td> 2.966</td> <th>  Cond. No.          </th> <td>    308.</td>\n",
              "</tr>\n",
              "</table><br/><br/>Notes:<br/>[1] Standard Errors assume that the covariance matrix of the errors is correctly specified."
            ]
          },
          "metadata": {},
          "execution_count": 173
        }
      ]
    },
    {
      "cell_type": "code",
      "source": [
        "edad4 = int(input('Enter the age of the person to find Salary')) \n",
        "male = int(input('Enter 1 if male , 0 otherwise'))\n",
        "hs = int(input('Enter 1 if the person has Highschool, 0 otherwise'))\n",
        "ms = int(input('Enter 1 if the person has Masters, 0 otherwise'))"
      ],
      "metadata": {
        "colab": {
          "base_uri": "https://localhost:8080/"
        },
        "id": "0C2nheF8PZVV",
        "outputId": "11a574b1-aadb-4464-d162-6f469f45cfff"
      },
      "execution_count": 174,
      "outputs": [
        {
          "name": "stdout",
          "output_type": "stream",
          "text": [
            "Enter the age of the person to find Salary40\n",
            "Enter 1 if male , 0 otherwise0\n",
            "Enter 1 if the person has Highschool, 0 otherwise0\n",
            "Enter 1 if the person has Masters, 0 otherwise0\n"
          ]
        }
      ]
    },
    {
      "cell_type": "code",
      "source": [
        "print('Salary is ',\n",
        "      895.1281 + \n",
        "      0 *\t377.0401  + # 0 since we are looking for female data\n",
        "      0 *\t221.7600\t+ # 0 since he has no HS degree\n",
        "      0 *\t-286.8097 + # 0 since he has no Master degree\n",
        "      40 *\t32.0349     # Age is 40\n",
        "      )  "
      ],
      "metadata": {
        "colab": {
          "base_uri": "https://localhost:8080/"
        },
        "id": "kbz_Dxf5QlpK",
        "outputId": "8a5c7ca2-9e7e-4eb2-eef6-1e1d2aa08359"
      },
      "execution_count": 186,
      "outputs": [
        {
          "output_type": "stream",
          "name": "stdout",
          "text": [
            "Salary is  2176.5241\n"
          ]
        }
      ]
    },
    {
      "cell_type": "markdown",
      "source": [
        "What is the age of a Female with age 40  with education  Bachelor  degree and working in Ford?\n",
        "\n",
        "Salary = b0 + b1Gender + b2Education + b3Age + b4Company"
      ],
      "metadata": {
        "id": "amuRYcQISCUU"
      }
    },
    {
      "cell_type": "code",
      "source": [
        "df.columns\n"
      ],
      "metadata": {
        "colab": {
          "base_uri": "https://localhost:8080/"
        },
        "id": "0kJ-g31xRgdr",
        "outputId": "f780dc3e-5dc3-42b8-d81d-2f61aaa92fdc"
      },
      "execution_count": 177,
      "outputs": [
        {
          "output_type": "execute_result",
          "data": {
            "text/plain": [
              "Index(['Gender', 'Salary', 'Age', 'Place', 'Weight', 'Company', 'Education',\n",
              "       'JoinYear'],\n",
              "      dtype='object')"
            ]
          },
          "metadata": {},
          "execution_count": 177
        }
      ]
    },
    {
      "cell_type": "code",
      "source": [
        "df.Company.unique()"
      ],
      "metadata": {
        "colab": {
          "base_uri": "https://localhost:8080/"
        },
        "id": "nQpPH-iaSJLp",
        "outputId": "34574f55-929f-4b95-f674-3cc1d5a2c642"
      },
      "execution_count": 178,
      "outputs": [
        {
          "output_type": "execute_result",
          "data": {
            "text/plain": [
              "array(['BMW', 'Ford', 'GM', nan], dtype=object)"
            ]
          },
          "metadata": {},
          "execution_count": 178
        }
      ]
    },
    {
      "cell_type": "code",
      "source": [
        "favs5=['Salary','Age','Gender','Education','Company']   # Solo hay que limpiar estas variables\n",
        "ndf5 = df[favs5]\n",
        "ndf5 = ndf5.dropna()\n",
        "ndf5.shape"
      ],
      "metadata": {
        "colab": {
          "base_uri": "https://localhost:8080/"
        },
        "id": "tp4OxgaySNgi",
        "outputId": "e6e2c00c-f1a7-4977-edb1-c068c3fa0b96"
      },
      "execution_count": 181,
      "outputs": [
        {
          "output_type": "execute_result",
          "data": {
            "text/plain": [
              "(14, 5)"
            ]
          },
          "metadata": {},
          "execution_count": 181
        }
      ]
    },
    {
      "cell_type": "code",
      "source": [
        "ndf5"
      ],
      "metadata": {
        "colab": {
          "base_uri": "https://localhost:8080/",
          "height": 488
        },
        "id": "zPjDgHi3Sdvp",
        "outputId": "720fec69-643f-45a7-9a09-c9e9cbaeea6f"
      },
      "execution_count": 182,
      "outputs": [
        {
          "output_type": "execute_result",
          "data": {
            "text/plain": [
              "    Salary   Age  Gender   Education Company\n",
              "0   1300.0  35.0  Female    Bachelor     BMW\n",
              "1   1250.0  33.0  Female  HighSchool    Ford\n",
              "2   2200.0  34.0    Male    Bachelor     BMW\n",
              "3   2100.0  42.0    Male      Master     BMW\n",
              "4   1500.0  29.0  Female      Master    Ford\n",
              "5   1700.0  42.0  Female      Master    Ford\n",
              "6   3000.0  50.0    Male  HighSchool    Ford\n",
              "7   3000.0  55.0    Male    Bachelor    Ford\n",
              "8   2800.0  31.0  Female    Bachelor    Ford\n",
              "9   2900.0  46.0    Male      Master      GM\n",
              "10  2780.0  36.0  Female  HighSchool     BMW\n",
              "11  2550.0  48.0    Male      Master      GM\n",
              "14  2780.0  36.0  Female  HighSchool     BMW\n",
              "15  2550.0  48.0    Male      Master      GM"
            ],
            "text/html": [
              "\n",
              "  <div id=\"df-464fc005-8eed-4f72-abce-6a18e7a17222\">\n",
              "    <div class=\"colab-df-container\">\n",
              "      <div>\n",
              "<style scoped>\n",
              "    .dataframe tbody tr th:only-of-type {\n",
              "        vertical-align: middle;\n",
              "    }\n",
              "\n",
              "    .dataframe tbody tr th {\n",
              "        vertical-align: top;\n",
              "    }\n",
              "\n",
              "    .dataframe thead th {\n",
              "        text-align: right;\n",
              "    }\n",
              "</style>\n",
              "<table border=\"1\" class=\"dataframe\">\n",
              "  <thead>\n",
              "    <tr style=\"text-align: right;\">\n",
              "      <th></th>\n",
              "      <th>Salary</th>\n",
              "      <th>Age</th>\n",
              "      <th>Gender</th>\n",
              "      <th>Education</th>\n",
              "      <th>Company</th>\n",
              "    </tr>\n",
              "  </thead>\n",
              "  <tbody>\n",
              "    <tr>\n",
              "      <th>0</th>\n",
              "      <td>1300.0</td>\n",
              "      <td>35.0</td>\n",
              "      <td>Female</td>\n",
              "      <td>Bachelor</td>\n",
              "      <td>BMW</td>\n",
              "    </tr>\n",
              "    <tr>\n",
              "      <th>1</th>\n",
              "      <td>1250.0</td>\n",
              "      <td>33.0</td>\n",
              "      <td>Female</td>\n",
              "      <td>HighSchool</td>\n",
              "      <td>Ford</td>\n",
              "    </tr>\n",
              "    <tr>\n",
              "      <th>2</th>\n",
              "      <td>2200.0</td>\n",
              "      <td>34.0</td>\n",
              "      <td>Male</td>\n",
              "      <td>Bachelor</td>\n",
              "      <td>BMW</td>\n",
              "    </tr>\n",
              "    <tr>\n",
              "      <th>3</th>\n",
              "      <td>2100.0</td>\n",
              "      <td>42.0</td>\n",
              "      <td>Male</td>\n",
              "      <td>Master</td>\n",
              "      <td>BMW</td>\n",
              "    </tr>\n",
              "    <tr>\n",
              "      <th>4</th>\n",
              "      <td>1500.0</td>\n",
              "      <td>29.0</td>\n",
              "      <td>Female</td>\n",
              "      <td>Master</td>\n",
              "      <td>Ford</td>\n",
              "    </tr>\n",
              "    <tr>\n",
              "      <th>5</th>\n",
              "      <td>1700.0</td>\n",
              "      <td>42.0</td>\n",
              "      <td>Female</td>\n",
              "      <td>Master</td>\n",
              "      <td>Ford</td>\n",
              "    </tr>\n",
              "    <tr>\n",
              "      <th>6</th>\n",
              "      <td>3000.0</td>\n",
              "      <td>50.0</td>\n",
              "      <td>Male</td>\n",
              "      <td>HighSchool</td>\n",
              "      <td>Ford</td>\n",
              "    </tr>\n",
              "    <tr>\n",
              "      <th>7</th>\n",
              "      <td>3000.0</td>\n",
              "      <td>55.0</td>\n",
              "      <td>Male</td>\n",
              "      <td>Bachelor</td>\n",
              "      <td>Ford</td>\n",
              "    </tr>\n",
              "    <tr>\n",
              "      <th>8</th>\n",
              "      <td>2800.0</td>\n",
              "      <td>31.0</td>\n",
              "      <td>Female</td>\n",
              "      <td>Bachelor</td>\n",
              "      <td>Ford</td>\n",
              "    </tr>\n",
              "    <tr>\n",
              "      <th>9</th>\n",
              "      <td>2900.0</td>\n",
              "      <td>46.0</td>\n",
              "      <td>Male</td>\n",
              "      <td>Master</td>\n",
              "      <td>GM</td>\n",
              "    </tr>\n",
              "    <tr>\n",
              "      <th>10</th>\n",
              "      <td>2780.0</td>\n",
              "      <td>36.0</td>\n",
              "      <td>Female</td>\n",
              "      <td>HighSchool</td>\n",
              "      <td>BMW</td>\n",
              "    </tr>\n",
              "    <tr>\n",
              "      <th>11</th>\n",
              "      <td>2550.0</td>\n",
              "      <td>48.0</td>\n",
              "      <td>Male</td>\n",
              "      <td>Master</td>\n",
              "      <td>GM</td>\n",
              "    </tr>\n",
              "    <tr>\n",
              "      <th>14</th>\n",
              "      <td>2780.0</td>\n",
              "      <td>36.0</td>\n",
              "      <td>Female</td>\n",
              "      <td>HighSchool</td>\n",
              "      <td>BMW</td>\n",
              "    </tr>\n",
              "    <tr>\n",
              "      <th>15</th>\n",
              "      <td>2550.0</td>\n",
              "      <td>48.0</td>\n",
              "      <td>Male</td>\n",
              "      <td>Master</td>\n",
              "      <td>GM</td>\n",
              "    </tr>\n",
              "  </tbody>\n",
              "</table>\n",
              "</div>\n",
              "      <button class=\"colab-df-convert\" onclick=\"convertToInteractive('df-464fc005-8eed-4f72-abce-6a18e7a17222')\"\n",
              "              title=\"Convert this dataframe to an interactive table.\"\n",
              "              style=\"display:none;\">\n",
              "        \n",
              "  <svg xmlns=\"http://www.w3.org/2000/svg\" height=\"24px\"viewBox=\"0 0 24 24\"\n",
              "       width=\"24px\">\n",
              "    <path d=\"M0 0h24v24H0V0z\" fill=\"none\"/>\n",
              "    <path d=\"M18.56 5.44l.94 2.06.94-2.06 2.06-.94-2.06-.94-.94-2.06-.94 2.06-2.06.94zm-11 1L8.5 8.5l.94-2.06 2.06-.94-2.06-.94L8.5 2.5l-.94 2.06-2.06.94zm10 10l.94 2.06.94-2.06 2.06-.94-2.06-.94-.94-2.06-.94 2.06-2.06.94z\"/><path d=\"M17.41 7.96l-1.37-1.37c-.4-.4-.92-.59-1.43-.59-.52 0-1.04.2-1.43.59L10.3 9.45l-7.72 7.72c-.78.78-.78 2.05 0 2.83L4 21.41c.39.39.9.59 1.41.59.51 0 1.02-.2 1.41-.59l7.78-7.78 2.81-2.81c.8-.78.8-2.07 0-2.86zM5.41 20L4 18.59l7.72-7.72 1.47 1.35L5.41 20z\"/>\n",
              "  </svg>\n",
              "      </button>\n",
              "      \n",
              "  <style>\n",
              "    .colab-df-container {\n",
              "      display:flex;\n",
              "      flex-wrap:wrap;\n",
              "      gap: 12px;\n",
              "    }\n",
              "\n",
              "    .colab-df-convert {\n",
              "      background-color: #E8F0FE;\n",
              "      border: none;\n",
              "      border-radius: 50%;\n",
              "      cursor: pointer;\n",
              "      display: none;\n",
              "      fill: #1967D2;\n",
              "      height: 32px;\n",
              "      padding: 0 0 0 0;\n",
              "      width: 32px;\n",
              "    }\n",
              "\n",
              "    .colab-df-convert:hover {\n",
              "      background-color: #E2EBFA;\n",
              "      box-shadow: 0px 1px 2px rgba(60, 64, 67, 0.3), 0px 1px 3px 1px rgba(60, 64, 67, 0.15);\n",
              "      fill: #174EA6;\n",
              "    }\n",
              "\n",
              "    [theme=dark] .colab-df-convert {\n",
              "      background-color: #3B4455;\n",
              "      fill: #D2E3FC;\n",
              "    }\n",
              "\n",
              "    [theme=dark] .colab-df-convert:hover {\n",
              "      background-color: #434B5C;\n",
              "      box-shadow: 0px 1px 3px 1px rgba(0, 0, 0, 0.15);\n",
              "      filter: drop-shadow(0px 1px 2px rgba(0, 0, 0, 0.3));\n",
              "      fill: #FFFFFF;\n",
              "    }\n",
              "  </style>\n",
              "\n",
              "      <script>\n",
              "        const buttonEl =\n",
              "          document.querySelector('#df-464fc005-8eed-4f72-abce-6a18e7a17222 button.colab-df-convert');\n",
              "        buttonEl.style.display =\n",
              "          google.colab.kernel.accessAllowed ? 'block' : 'none';\n",
              "\n",
              "        async function convertToInteractive(key) {\n",
              "          const element = document.querySelector('#df-464fc005-8eed-4f72-abce-6a18e7a17222');\n",
              "          const dataTable =\n",
              "            await google.colab.kernel.invokeFunction('convertToInteractive',\n",
              "                                                     [key], {});\n",
              "          if (!dataTable) return;\n",
              "\n",
              "          const docLinkHtml = 'Like what you see? Visit the ' +\n",
              "            '<a target=\"_blank\" href=https://colab.research.google.com/notebooks/data_table.ipynb>data table notebook</a>'\n",
              "            + ' to learn more about interactive tables.';\n",
              "          element.innerHTML = '';\n",
              "          dataTable['output_type'] = 'display_data';\n",
              "          await google.colab.output.renderOutput(dataTable, element);\n",
              "          const docLink = document.createElement('div');\n",
              "          docLink.innerHTML = docLinkHtml;\n",
              "          element.appendChild(docLink);\n",
              "        }\n",
              "      </script>\n",
              "    </div>\n",
              "  </div>\n",
              "  "
            ]
          },
          "metadata": {},
          "execution_count": 182
        }
      ]
    },
    {
      "cell_type": "code",
      "source": [
        "modelE = sm.OLS.from_formula('Salary ~ Age + Gender + Education + Company',\n",
        "                             data = ndf5\n",
        "                             )\n",
        "resultE = modelE.fit()\n",
        "resultE.summary()"
      ],
      "metadata": {
        "colab": {
          "base_uri": "https://localhost:8080/",
          "height": 583
        },
        "id": "QbXjKbV0Sf4h",
        "outputId": "0704c4a5-9ee1-41f7-ac11-bbeaefd2463c"
      },
      "execution_count": 193,
      "outputs": [
        {
          "output_type": "stream",
          "name": "stderr",
          "text": [
            "/usr/local/lib/python3.8/dist-packages/scipy/stats/_stats_py.py:1736: UserWarning: kurtosistest only valid for n>=20 ... continuing anyway, n=14\n",
            "  warnings.warn(\"kurtosistest only valid for n>=20 ... continuing \"\n"
          ]
        },
        {
          "output_type": "execute_result",
          "data": {
            "text/plain": [
              "<class 'statsmodels.iolib.summary.Summary'>\n",
              "\"\"\"\n",
              "                            OLS Regression Results                            \n",
              "==============================================================================\n",
              "Dep. Variable:                 Salary   R-squared:                       0.466\n",
              "Model:                            OLS   Adj. R-squared:                  0.009\n",
              "Method:                 Least Squares   F-statistic:                     1.020\n",
              "Date:                Fri, 03 Mar 2023   Prob (F-statistic):              0.482\n",
              "Time:                        02:43:18   Log-Likelihood:                -105.41\n",
              "No. Observations:                  14   AIC:                             224.8\n",
              "Df Residuals:                       7   BIC:                             229.3\n",
              "Df Model:                           6                                         \n",
              "Covariance Type:            nonrobust                                         \n",
              "===========================================================================================\n",
              "                              coef    std err          t      P>|t|      [0.025      0.975]\n",
              "-------------------------------------------------------------------------------------------\n",
              "Intercept                1060.6182   1218.458      0.870      0.413   -1820.576    3941.813\n",
              "Gender[T.Male]            256.9213    591.161      0.435      0.677   -1140.951    1654.794\n",
              "Education[T.HighSchool]   191.7303    474.100      0.404      0.698    -929.339    1312.800\n",
              "Education[T.Master]      -478.1503    495.089     -0.966      0.366   -1648.850     692.549\n",
              "Company[T.Ford]           -31.0325    422.643     -0.073      0.944   -1030.423     968.358\n",
              "Company[T.GM]             420.7905    660.893      0.637      0.545   -1141.973    1983.554\n",
              "Age                        29.7145     36.954      0.804      0.448     -57.667     117.096\n",
              "==============================================================================\n",
              "Omnibus:                        1.598   Durbin-Watson:                   0.986\n",
              "Prob(Omnibus):                  0.450   Jarque-Bera (JB):                0.467\n",
              "Skew:                          -0.436   Prob(JB):                        0.792\n",
              "Kurtosis:                       3.203   Cond. No.                         311.\n",
              "==============================================================================\n",
              "\n",
              "Notes:\n",
              "[1] Standard Errors assume that the covariance matrix of the errors is correctly specified.\n",
              "\"\"\""
            ],
            "text/html": [
              "<table class=\"simpletable\">\n",
              "<caption>OLS Regression Results</caption>\n",
              "<tr>\n",
              "  <th>Dep. Variable:</th>         <td>Salary</td>      <th>  R-squared:         </th> <td>   0.466</td>\n",
              "</tr>\n",
              "<tr>\n",
              "  <th>Model:</th>                   <td>OLS</td>       <th>  Adj. R-squared:    </th> <td>   0.009</td>\n",
              "</tr>\n",
              "<tr>\n",
              "  <th>Method:</th>             <td>Least Squares</td>  <th>  F-statistic:       </th> <td>   1.020</td>\n",
              "</tr>\n",
              "<tr>\n",
              "  <th>Date:</th>             <td>Fri, 03 Mar 2023</td> <th>  Prob (F-statistic):</th>  <td> 0.482</td> \n",
              "</tr>\n",
              "<tr>\n",
              "  <th>Time:</th>                 <td>02:43:18</td>     <th>  Log-Likelihood:    </th> <td> -105.41</td>\n",
              "</tr>\n",
              "<tr>\n",
              "  <th>No. Observations:</th>      <td>    14</td>      <th>  AIC:               </th> <td>   224.8</td>\n",
              "</tr>\n",
              "<tr>\n",
              "  <th>Df Residuals:</th>          <td>     7</td>      <th>  BIC:               </th> <td>   229.3</td>\n",
              "</tr>\n",
              "<tr>\n",
              "  <th>Df Model:</th>              <td>     6</td>      <th>                     </th>     <td> </td>   \n",
              "</tr>\n",
              "<tr>\n",
              "  <th>Covariance Type:</th>      <td>nonrobust</td>    <th>                     </th>     <td> </td>   \n",
              "</tr>\n",
              "</table>\n",
              "<table class=\"simpletable\">\n",
              "<tr>\n",
              "             <td></td>                <th>coef</th>     <th>std err</th>      <th>t</th>      <th>P>|t|</th>  <th>[0.025</th>    <th>0.975]</th>  \n",
              "</tr>\n",
              "<tr>\n",
              "  <th>Intercept</th>               <td> 1060.6182</td> <td> 1218.458</td> <td>    0.870</td> <td> 0.413</td> <td>-1820.576</td> <td> 3941.813</td>\n",
              "</tr>\n",
              "<tr>\n",
              "  <th>Gender[T.Male]</th>          <td>  256.9213</td> <td>  591.161</td> <td>    0.435</td> <td> 0.677</td> <td>-1140.951</td> <td> 1654.794</td>\n",
              "</tr>\n",
              "<tr>\n",
              "  <th>Education[T.HighSchool]</th> <td>  191.7303</td> <td>  474.100</td> <td>    0.404</td> <td> 0.698</td> <td> -929.339</td> <td> 1312.800</td>\n",
              "</tr>\n",
              "<tr>\n",
              "  <th>Education[T.Master]</th>     <td> -478.1503</td> <td>  495.089</td> <td>   -0.966</td> <td> 0.366</td> <td>-1648.850</td> <td>  692.549</td>\n",
              "</tr>\n",
              "<tr>\n",
              "  <th>Company[T.Ford]</th>         <td>  -31.0325</td> <td>  422.643</td> <td>   -0.073</td> <td> 0.944</td> <td>-1030.423</td> <td>  968.358</td>\n",
              "</tr>\n",
              "<tr>\n",
              "  <th>Company[T.GM]</th>           <td>  420.7905</td> <td>  660.893</td> <td>    0.637</td> <td> 0.545</td> <td>-1141.973</td> <td> 1983.554</td>\n",
              "</tr>\n",
              "<tr>\n",
              "  <th>Age</th>                     <td>   29.7145</td> <td>   36.954</td> <td>    0.804</td> <td> 0.448</td> <td>  -57.667</td> <td>  117.096</td>\n",
              "</tr>\n",
              "</table>\n",
              "<table class=\"simpletable\">\n",
              "<tr>\n",
              "  <th>Omnibus:</th>       <td> 1.598</td> <th>  Durbin-Watson:     </th> <td>   0.986</td>\n",
              "</tr>\n",
              "<tr>\n",
              "  <th>Prob(Omnibus):</th> <td> 0.450</td> <th>  Jarque-Bera (JB):  </th> <td>   0.467</td>\n",
              "</tr>\n",
              "<tr>\n",
              "  <th>Skew:</th>          <td>-0.436</td> <th>  Prob(JB):          </th> <td>   0.792</td>\n",
              "</tr>\n",
              "<tr>\n",
              "  <th>Kurtosis:</th>      <td> 3.203</td> <th>  Cond. No.          </th> <td>    311.</td>\n",
              "</tr>\n",
              "</table><br/><br/>Notes:<br/>[1] Standard Errors assume that the covariance matrix of the errors is correctly specified."
            ]
          },
          "metadata": {},
          "execution_count": 193
        }
      ]
    },
    {
      "cell_type": "code",
      "source": [
        "edad5 = int(input('Enter the age of the person to find Salary')) \n",
        "male5 = int(input('Enter 1 if male , 0 otherwise'))\n",
        "highschool5 = int(input('Enter 1 if the person has Highschool, 0 otherwise'))\n",
        "master5 = int(input('Enter 1 if the person has Masters, 0 otherwise'))\n",
        "Ford5 = int(input('Enter 1 if the person works in Ford, 0 otherwise'))\n",
        "GM5 = int(input('Enter 1 if the person works in GM, 0 otherwise'))"
      ],
      "metadata": {
        "colab": {
          "base_uri": "https://localhost:8080/"
        },
        "id": "i3z53knwSxYv",
        "outputId": "18b13edb-26b5-48ea-9b46-219c9ac23762"
      },
      "execution_count": 188,
      "outputs": [
        {
          "name": "stdout",
          "output_type": "stream",
          "text": [
            "Enter the age of the person to find Salary40\n",
            "Enter 1 if male , 0 otherwise0\n",
            "Enter 1 if the person has Highschool, 0 otherwise0\n",
            "Enter 1 if the person has Masters, 0 otherwise0\n",
            "Enter 1 if the person works in Ford, 0 otherwise1\n",
            "Enter 1 if the person works in GM, 0 otherwise0\n"
          ]
        }
      ]
    },
    {
      "cell_type": "code",
      "source": [
        "print('Salary is ',\n",
        "      1060.6182 + \n",
        "      male5 *\t256.9213  + # 0 since we are looking for female data\n",
        "      highschool5 *\t191.7303\t+ # 0 since he has no HS degree\n",
        "      master5 *\t-478.1503 + # 0 since he has no Master degree\n",
        "      Ford5 * -31.0325  + # 1 since works in ford\n",
        "      GM5 * 420.7905  + # 0 since No works in GM\n",
        "      edad5 *\t29.7145     # Age is 40\n",
        "      )  "
      ],
      "metadata": {
        "colab": {
          "base_uri": "https://localhost:8080/"
        },
        "id": "wFKaECPLTchW",
        "outputId": "b8135482-1379-498e-b209-477e73fd748d"
      },
      "execution_count": 190,
      "outputs": [
        {
          "output_type": "stream",
          "name": "stdout",
          "text": [
            "Salary is  2218.1656999999996\n"
          ]
        }
      ]
    },
    {
      "cell_type": "markdown",
      "source": [
        "What is salary of a Female  joined in 2004?\n",
        "\n",
        "Salary = b0 + b1Gender + b2JoinYear\n"
      ],
      "metadata": {
        "id": "bxewJEDcUh9A"
      }
    },
    {
      "cell_type": "code",
      "source": [
        "df.columns"
      ],
      "metadata": {
        "colab": {
          "base_uri": "https://localhost:8080/"
        },
        "id": "N2x4Nv7CUT_8",
        "outputId": "8077936e-8510-4c77-8a4f-efaa6cac5d5f"
      },
      "execution_count": 191,
      "outputs": [
        {
          "output_type": "execute_result",
          "data": {
            "text/plain": [
              "Index(['Gender', 'Salary', 'Age', 'Place', 'Weight', 'Company', 'Education',\n",
              "       'JoinYear'],\n",
              "      dtype='object')"
            ]
          },
          "metadata": {},
          "execution_count": 191
        }
      ]
    },
    {
      "cell_type": "code",
      "source": [
        "favs6=['Salary','Gender','JoinYear']   # Solo hay que limpiar estas variables\n",
        "ndf6 = df[favs6]\n",
        "ndf6 = ndf6.dropna()\n",
        "ndf6"
      ],
      "metadata": {
        "colab": {
          "base_uri": "https://localhost:8080/",
          "height": 582
        },
        "id": "FUxP4YgfWTCO",
        "outputId": "3d2fc9d4-9821-4dcb-eecb-fe917b0d1d83"
      },
      "execution_count": 195,
      "outputs": [
        {
          "output_type": "execute_result",
          "data": {
            "text/plain": [
              "    Salary  Gender  JoinYear\n",
              "0   1300.0  Female      2008\n",
              "1   1250.0  Female      2010\n",
              "2   2200.0    Male      2004\n",
              "3   2100.0    Male      2000\n",
              "4   1500.0  Female      2010\n",
              "5   1700.0  Female      2000\n",
              "6   3000.0    Male      2010\n",
              "7   3000.0    Male      2010\n",
              "8   2800.0  Female      2004\n",
              "9   2900.0    Male      2008\n",
              "10  2780.0  Female      2009\n",
              "11  2550.0    Male      2004\n",
              "13  2900.0    Male      2010\n",
              "14  2780.0  Female      2010\n",
              "15  2550.0    Male      2000\n",
              "16  2550.0    Male      2000\n",
              "17  2550.0    Male      2000"
            ],
            "text/html": [
              "\n",
              "  <div id=\"df-ab3aa17f-806f-4b2c-84b0-211ddb239997\">\n",
              "    <div class=\"colab-df-container\">\n",
              "      <div>\n",
              "<style scoped>\n",
              "    .dataframe tbody tr th:only-of-type {\n",
              "        vertical-align: middle;\n",
              "    }\n",
              "\n",
              "    .dataframe tbody tr th {\n",
              "        vertical-align: top;\n",
              "    }\n",
              "\n",
              "    .dataframe thead th {\n",
              "        text-align: right;\n",
              "    }\n",
              "</style>\n",
              "<table border=\"1\" class=\"dataframe\">\n",
              "  <thead>\n",
              "    <tr style=\"text-align: right;\">\n",
              "      <th></th>\n",
              "      <th>Salary</th>\n",
              "      <th>Gender</th>\n",
              "      <th>JoinYear</th>\n",
              "    </tr>\n",
              "  </thead>\n",
              "  <tbody>\n",
              "    <tr>\n",
              "      <th>0</th>\n",
              "      <td>1300.0</td>\n",
              "      <td>Female</td>\n",
              "      <td>2008</td>\n",
              "    </tr>\n",
              "    <tr>\n",
              "      <th>1</th>\n",
              "      <td>1250.0</td>\n",
              "      <td>Female</td>\n",
              "      <td>2010</td>\n",
              "    </tr>\n",
              "    <tr>\n",
              "      <th>2</th>\n",
              "      <td>2200.0</td>\n",
              "      <td>Male</td>\n",
              "      <td>2004</td>\n",
              "    </tr>\n",
              "    <tr>\n",
              "      <th>3</th>\n",
              "      <td>2100.0</td>\n",
              "      <td>Male</td>\n",
              "      <td>2000</td>\n",
              "    </tr>\n",
              "    <tr>\n",
              "      <th>4</th>\n",
              "      <td>1500.0</td>\n",
              "      <td>Female</td>\n",
              "      <td>2010</td>\n",
              "    </tr>\n",
              "    <tr>\n",
              "      <th>5</th>\n",
              "      <td>1700.0</td>\n",
              "      <td>Female</td>\n",
              "      <td>2000</td>\n",
              "    </tr>\n",
              "    <tr>\n",
              "      <th>6</th>\n",
              "      <td>3000.0</td>\n",
              "      <td>Male</td>\n",
              "      <td>2010</td>\n",
              "    </tr>\n",
              "    <tr>\n",
              "      <th>7</th>\n",
              "      <td>3000.0</td>\n",
              "      <td>Male</td>\n",
              "      <td>2010</td>\n",
              "    </tr>\n",
              "    <tr>\n",
              "      <th>8</th>\n",
              "      <td>2800.0</td>\n",
              "      <td>Female</td>\n",
              "      <td>2004</td>\n",
              "    </tr>\n",
              "    <tr>\n",
              "      <th>9</th>\n",
              "      <td>2900.0</td>\n",
              "      <td>Male</td>\n",
              "      <td>2008</td>\n",
              "    </tr>\n",
              "    <tr>\n",
              "      <th>10</th>\n",
              "      <td>2780.0</td>\n",
              "      <td>Female</td>\n",
              "      <td>2009</td>\n",
              "    </tr>\n",
              "    <tr>\n",
              "      <th>11</th>\n",
              "      <td>2550.0</td>\n",
              "      <td>Male</td>\n",
              "      <td>2004</td>\n",
              "    </tr>\n",
              "    <tr>\n",
              "      <th>13</th>\n",
              "      <td>2900.0</td>\n",
              "      <td>Male</td>\n",
              "      <td>2010</td>\n",
              "    </tr>\n",
              "    <tr>\n",
              "      <th>14</th>\n",
              "      <td>2780.0</td>\n",
              "      <td>Female</td>\n",
              "      <td>2010</td>\n",
              "    </tr>\n",
              "    <tr>\n",
              "      <th>15</th>\n",
              "      <td>2550.0</td>\n",
              "      <td>Male</td>\n",
              "      <td>2000</td>\n",
              "    </tr>\n",
              "    <tr>\n",
              "      <th>16</th>\n",
              "      <td>2550.0</td>\n",
              "      <td>Male</td>\n",
              "      <td>2000</td>\n",
              "    </tr>\n",
              "    <tr>\n",
              "      <th>17</th>\n",
              "      <td>2550.0</td>\n",
              "      <td>Male</td>\n",
              "      <td>2000</td>\n",
              "    </tr>\n",
              "  </tbody>\n",
              "</table>\n",
              "</div>\n",
              "      <button class=\"colab-df-convert\" onclick=\"convertToInteractive('df-ab3aa17f-806f-4b2c-84b0-211ddb239997')\"\n",
              "              title=\"Convert this dataframe to an interactive table.\"\n",
              "              style=\"display:none;\">\n",
              "        \n",
              "  <svg xmlns=\"http://www.w3.org/2000/svg\" height=\"24px\"viewBox=\"0 0 24 24\"\n",
              "       width=\"24px\">\n",
              "    <path d=\"M0 0h24v24H0V0z\" fill=\"none\"/>\n",
              "    <path d=\"M18.56 5.44l.94 2.06.94-2.06 2.06-.94-2.06-.94-.94-2.06-.94 2.06-2.06.94zm-11 1L8.5 8.5l.94-2.06 2.06-.94-2.06-.94L8.5 2.5l-.94 2.06-2.06.94zm10 10l.94 2.06.94-2.06 2.06-.94-2.06-.94-.94-2.06-.94 2.06-2.06.94z\"/><path d=\"M17.41 7.96l-1.37-1.37c-.4-.4-.92-.59-1.43-.59-.52 0-1.04.2-1.43.59L10.3 9.45l-7.72 7.72c-.78.78-.78 2.05 0 2.83L4 21.41c.39.39.9.59 1.41.59.51 0 1.02-.2 1.41-.59l7.78-7.78 2.81-2.81c.8-.78.8-2.07 0-2.86zM5.41 20L4 18.59l7.72-7.72 1.47 1.35L5.41 20z\"/>\n",
              "  </svg>\n",
              "      </button>\n",
              "      \n",
              "  <style>\n",
              "    .colab-df-container {\n",
              "      display:flex;\n",
              "      flex-wrap:wrap;\n",
              "      gap: 12px;\n",
              "    }\n",
              "\n",
              "    .colab-df-convert {\n",
              "      background-color: #E8F0FE;\n",
              "      border: none;\n",
              "      border-radius: 50%;\n",
              "      cursor: pointer;\n",
              "      display: none;\n",
              "      fill: #1967D2;\n",
              "      height: 32px;\n",
              "      padding: 0 0 0 0;\n",
              "      width: 32px;\n",
              "    }\n",
              "\n",
              "    .colab-df-convert:hover {\n",
              "      background-color: #E2EBFA;\n",
              "      box-shadow: 0px 1px 2px rgba(60, 64, 67, 0.3), 0px 1px 3px 1px rgba(60, 64, 67, 0.15);\n",
              "      fill: #174EA6;\n",
              "    }\n",
              "\n",
              "    [theme=dark] .colab-df-convert {\n",
              "      background-color: #3B4455;\n",
              "      fill: #D2E3FC;\n",
              "    }\n",
              "\n",
              "    [theme=dark] .colab-df-convert:hover {\n",
              "      background-color: #434B5C;\n",
              "      box-shadow: 0px 1px 3px 1px rgba(0, 0, 0, 0.15);\n",
              "      filter: drop-shadow(0px 1px 2px rgba(0, 0, 0, 0.3));\n",
              "      fill: #FFFFFF;\n",
              "    }\n",
              "  </style>\n",
              "\n",
              "      <script>\n",
              "        const buttonEl =\n",
              "          document.querySelector('#df-ab3aa17f-806f-4b2c-84b0-211ddb239997 button.colab-df-convert');\n",
              "        buttonEl.style.display =\n",
              "          google.colab.kernel.accessAllowed ? 'block' : 'none';\n",
              "\n",
              "        async function convertToInteractive(key) {\n",
              "          const element = document.querySelector('#df-ab3aa17f-806f-4b2c-84b0-211ddb239997');\n",
              "          const dataTable =\n",
              "            await google.colab.kernel.invokeFunction('convertToInteractive',\n",
              "                                                     [key], {});\n",
              "          if (!dataTable) return;\n",
              "\n",
              "          const docLinkHtml = 'Like what you see? Visit the ' +\n",
              "            '<a target=\"_blank\" href=https://colab.research.google.com/notebooks/data_table.ipynb>data table notebook</a>'\n",
              "            + ' to learn more about interactive tables.';\n",
              "          element.innerHTML = '';\n",
              "          dataTable['output_type'] = 'display_data';\n",
              "          await google.colab.output.renderOutput(dataTable, element);\n",
              "          const docLink = document.createElement('div');\n",
              "          docLink.innerHTML = docLinkHtml;\n",
              "          element.appendChild(docLink);\n",
              "        }\n",
              "      </script>\n",
              "    </div>\n",
              "  </div>\n",
              "  "
            ]
          },
          "metadata": {},
          "execution_count": 195
        }
      ]
    },
    {
      "cell_type": "code",
      "source": [
        "ndf6['JoinYear'] = ndf6['JoinYear'].astype(str)"
      ],
      "metadata": {
        "id": "58FHN2JCXEFu"
      },
      "execution_count": 198,
      "outputs": []
    },
    {
      "cell_type": "code",
      "source": [
        "modelF = sm.OLS.from_formula('Salary ~ Gender + JoinYear',\n",
        "                             data = ndf6\n",
        "                             )\n",
        "resultF = modelF.fit()\n",
        "resultF.summary()\n"
      ],
      "metadata": {
        "colab": {
          "base_uri": "https://localhost:8080/",
          "height": 562
        },
        "id": "MdIeqAwsXtFO",
        "outputId": "540e4c09-566e-44c9-d9e3-0342c45a12bf"
      },
      "execution_count": 199,
      "outputs": [
        {
          "output_type": "stream",
          "name": "stderr",
          "text": [
            "/usr/local/lib/python3.8/dist-packages/scipy/stats/_stats_py.py:1736: UserWarning: kurtosistest only valid for n>=20 ... continuing anyway, n=17\n",
            "  warnings.warn(\"kurtosistest only valid for n>=20 ... continuing \"\n"
          ]
        },
        {
          "output_type": "execute_result",
          "data": {
            "text/plain": [
              "<class 'statsmodels.iolib.summary.Summary'>\n",
              "\"\"\"\n",
              "                            OLS Regression Results                            \n",
              "==============================================================================\n",
              "Dep. Variable:                 Salary   R-squared:                       0.467\n",
              "Model:                            OLS   Adj. R-squared:                  0.224\n",
              "Method:                 Least Squares   F-statistic:                     1.924\n",
              "Date:                Fri, 03 Mar 2023   Prob (F-statistic):              0.170\n",
              "Time:                        02:48:45   Log-Likelihood:                -126.94\n",
              "No. Observations:                  17   AIC:                             265.9\n",
              "Df Residuals:                      11   BIC:                             270.9\n",
              "Df Model:                           5                                         \n",
              "Covariance Type:            nonrobust                                         \n",
              "====================================================================================\n",
              "                       coef    std err          t      P>|t|      [0.025      0.975]\n",
              "------------------------------------------------------------------------------------\n",
              "Intercept         1645.7692    326.419      5.042      0.000     927.325    2364.214\n",
              "Gender[T.Male]     805.2885    282.688      2.849      0.016     183.097    1427.479\n",
              "JoinYear[T.2004]   334.0385    386.225      0.865      0.406    -516.036    1184.113\n",
              "JoinYear[T.2008]    51.5865    448.456      0.115      0.910    -935.458    1038.631\n",
              "JoinYear[T.2009]  1134.2308    619.337      1.831      0.094    -228.921    2497.383\n",
              "JoinYear[T.2010]   356.5865    329.802      1.081      0.303    -369.303    1082.476\n",
              "==============================================================================\n",
              "Omnibus:                        0.146   Durbin-Watson:                   0.782\n",
              "Prob(Omnibus):                  0.929   Jarque-Bera (JB):                0.237\n",
              "Skew:                           0.179   Prob(JB):                        0.888\n",
              "Kurtosis:                       2.546   Cond. No.                         7.26\n",
              "==============================================================================\n",
              "\n",
              "Notes:\n",
              "[1] Standard Errors assume that the covariance matrix of the errors is correctly specified.\n",
              "\"\"\""
            ],
            "text/html": [
              "<table class=\"simpletable\">\n",
              "<caption>OLS Regression Results</caption>\n",
              "<tr>\n",
              "  <th>Dep. Variable:</th>         <td>Salary</td>      <th>  R-squared:         </th> <td>   0.467</td>\n",
              "</tr>\n",
              "<tr>\n",
              "  <th>Model:</th>                   <td>OLS</td>       <th>  Adj. R-squared:    </th> <td>   0.224</td>\n",
              "</tr>\n",
              "<tr>\n",
              "  <th>Method:</th>             <td>Least Squares</td>  <th>  F-statistic:       </th> <td>   1.924</td>\n",
              "</tr>\n",
              "<tr>\n",
              "  <th>Date:</th>             <td>Fri, 03 Mar 2023</td> <th>  Prob (F-statistic):</th>  <td> 0.170</td> \n",
              "</tr>\n",
              "<tr>\n",
              "  <th>Time:</th>                 <td>02:48:45</td>     <th>  Log-Likelihood:    </th> <td> -126.94</td>\n",
              "</tr>\n",
              "<tr>\n",
              "  <th>No. Observations:</th>      <td>    17</td>      <th>  AIC:               </th> <td>   265.9</td>\n",
              "</tr>\n",
              "<tr>\n",
              "  <th>Df Residuals:</th>          <td>    11</td>      <th>  BIC:               </th> <td>   270.9</td>\n",
              "</tr>\n",
              "<tr>\n",
              "  <th>Df Model:</th>              <td>     5</td>      <th>                     </th>     <td> </td>   \n",
              "</tr>\n",
              "<tr>\n",
              "  <th>Covariance Type:</th>      <td>nonrobust</td>    <th>                     </th>     <td> </td>   \n",
              "</tr>\n",
              "</table>\n",
              "<table class=\"simpletable\">\n",
              "<tr>\n",
              "          <td></td>            <th>coef</th>     <th>std err</th>      <th>t</th>      <th>P>|t|</th>  <th>[0.025</th>    <th>0.975]</th>  \n",
              "</tr>\n",
              "<tr>\n",
              "  <th>Intercept</th>        <td> 1645.7692</td> <td>  326.419</td> <td>    5.042</td> <td> 0.000</td> <td>  927.325</td> <td> 2364.214</td>\n",
              "</tr>\n",
              "<tr>\n",
              "  <th>Gender[T.Male]</th>   <td>  805.2885</td> <td>  282.688</td> <td>    2.849</td> <td> 0.016</td> <td>  183.097</td> <td> 1427.479</td>\n",
              "</tr>\n",
              "<tr>\n",
              "  <th>JoinYear[T.2004]</th> <td>  334.0385</td> <td>  386.225</td> <td>    0.865</td> <td> 0.406</td> <td> -516.036</td> <td> 1184.113</td>\n",
              "</tr>\n",
              "<tr>\n",
              "  <th>JoinYear[T.2008]</th> <td>   51.5865</td> <td>  448.456</td> <td>    0.115</td> <td> 0.910</td> <td> -935.458</td> <td> 1038.631</td>\n",
              "</tr>\n",
              "<tr>\n",
              "  <th>JoinYear[T.2009]</th> <td> 1134.2308</td> <td>  619.337</td> <td>    1.831</td> <td> 0.094</td> <td> -228.921</td> <td> 2497.383</td>\n",
              "</tr>\n",
              "<tr>\n",
              "  <th>JoinYear[T.2010]</th> <td>  356.5865</td> <td>  329.802</td> <td>    1.081</td> <td> 0.303</td> <td> -369.303</td> <td> 1082.476</td>\n",
              "</tr>\n",
              "</table>\n",
              "<table class=\"simpletable\">\n",
              "<tr>\n",
              "  <th>Omnibus:</th>       <td> 0.146</td> <th>  Durbin-Watson:     </th> <td>   0.782</td>\n",
              "</tr>\n",
              "<tr>\n",
              "  <th>Prob(Omnibus):</th> <td> 0.929</td> <th>  Jarque-Bera (JB):  </th> <td>   0.237</td>\n",
              "</tr>\n",
              "<tr>\n",
              "  <th>Skew:</th>          <td> 0.179</td> <th>  Prob(JB):          </th> <td>   0.888</td>\n",
              "</tr>\n",
              "<tr>\n",
              "  <th>Kurtosis:</th>      <td> 2.546</td> <th>  Cond. No.          </th> <td>    7.26</td>\n",
              "</tr>\n",
              "</table><br/><br/>Notes:<br/>[1] Standard Errors assume that the covariance matrix of the errors is correctly specified."
            ]
          },
          "metadata": {},
          "execution_count": 199
        }
      ]
    },
    {
      "cell_type": "code",
      "source": [
        "print('Salary is ',\n",
        "      1645.7692 + \n",
        "      1 *\t334.0385\n",
        "      )  "
      ],
      "metadata": {
        "colab": {
          "base_uri": "https://localhost:8080/"
        },
        "id": "QaNacYjYXybx",
        "outputId": "df3d72d4-41ed-4621-8896-0b313bf7f683"
      },
      "execution_count": 200,
      "outputs": [
        {
          "output_type": "stream",
          "name": "stdout",
          "text": [
            "Salary is  1979.8076999999998\n"
          ]
        }
      ]
    },
    {
      "cell_type": "code",
      "source": [],
      "metadata": {
        "id": "dmwsrEtDYbAP"
      },
      "execution_count": null,
      "outputs": []
    }
  ]
}