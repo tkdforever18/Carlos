{
  "cells": [
    {
      "cell_type": "markdown",
      "metadata": {
        "id": "view-in-github",
        "colab_type": "text"
      },
      "source": [
        "<a href=\"https://colab.research.google.com/github/tkdforever18/Carlos/blob/main/IA%20y%20ML%20-%20Actividad%20Semana%203.ipynb\" target=\"_parent\"><img src=\"https://colab.research.google.com/assets/colab-badge.svg\" alt=\"Open In Colab\"/></a>"
      ]
    },
    {
      "cell_type": "markdown",
      "id": "2ac8b4a5",
      "metadata": {
        "id": "2ac8b4a5"
      },
      "source": [
        "# **Maestría en Analítica de Negocios**\n",
        "## **Curso: Inteligencia Artificial y Aprendizaje Automático**\n",
        "### Tecnológico de Monterrey\n",
        "### Prof Luis Eduardo Falcón Morales\n",
        "\n",
        "### **Actividad Semanas 3 y 4: Modelado, Balanceo e Importancia de Factores**\n",
        "### Integrantes:\n",
        "### Carlos López - A00947174\n",
        "### Leonardo Leal - A0\n",
        "### Miguel Sanchez - A0\n",
        "### Ruben Angeles - A0\n",
        "### Alex - A0\n"
      ]
    },
    {
      "cell_type": "markdown",
      "source": [
        "La rotación de personal es uno de los problemas que afecta actualmente a muchas empresas y organizaciones, grandes o pequeñas. En esta actividad usaremos una base de datos generada por IBM para estudiar cómo enfrentar dicho problema.\n",
        "Deberás descargar el archivo de la siguiente liga de Kaggle, la cual consta de 1470 registros y 35 columnas:\n",
        "https://www.kaggle.com/datasets/pavansubhasht/ibm-hr-analytics-attrition-dataset\n"
      ],
      "metadata": {
        "id": "au6g_TTQvp_v"
      },
      "id": "au6g_TTQvp_v"
    },
    {
      "cell_type": "markdown",
      "source": [
        "### **PARTE 1: Análisis descriptivo y preprocesamiento de los datos:**\n"
      ],
      "metadata": {
        "id": "23o-h-ijvuPy"
      },
      "id": "23o-h-ijvuPy"
    },
    {
      "cell_type": "markdown",
      "source": [
        "#### **1) Incluye una breve introducción sobre lo que se entiende por el problema de rotación de personal en las organizaciones (employee attrition problem) y en particular de las principales problemáticas que genera.**"
      ],
      "metadata": {
        "id": "WW0SZze5vv3I"
      },
      "id": "WW0SZze5vv3I"
    },
    {
      "cell_type": "markdown",
      "source": [
        "El problema de rotación de personal, o employee attrition problem, se refiere a la frecuencia con la que los empleados abandonan sus puestos en una organización. Esto genera varios desafíos:\n",
        "1. Costos financieros: Contratar y capacitar nuevos empleados es costoso.\n",
        "2. Disminución de la productividad: La búsqueda y adaptación de nuevos empleados puede reducir la productividad del equipo.\n",
        "3. Impacto en la moral y el compromiso: La rotación constante puede desmotivar al personal y afectar la cultura de la empresa.\n",
        "4. Pérdida de conocimiento y experiencia: Cada partida implica la pérdida de habilidades y conocimientos.\n",
        "5. Dificultades en la retención de talento: La alta rotación dificulta retener a los empleados más talentosos y valiosos.\n",
        "Por lo que gestionar la rotación de personal es esencial para el éxito a largo plazo de una organización.\n",
        "\n",
        "\n"
      ],
      "metadata": {
        "id": "Wx_J3eNiyTpJ"
      },
      "id": "Wx_J3eNiyTpJ"
    },
    {
      "cell_type": "markdown",
      "source": [
        "#### **2) Carga la base de datos y realiza una partición de los datos en Entrenamiento, Validación y Prueba, del 70%, 15% y 15%, respectivamente. Llama a dichos conjuntos Xtrain, Xval, Xtest, ytrain, yval, ytest, para los datos de entrada y de salida, respectivamente. Asegúrate que dicha partición conserve la estratificación de las clases de la variable “Attrition”.**\n"
      ],
      "metadata": {
        "id": "TMYSjcI_wBaT"
      },
      "id": "TMYSjcI_wBaT"
    },
    {
      "cell_type": "code",
      "source": [
        "import pandas as pd\n",
        "pd.set_option('display.max_columns', None)\n",
        "import numpy as np\n",
        "import matplotlib.pyplot as plt\n",
        "import seaborn as sns # para un mejor despliegue de los gráficos\n",
        "sns.set_theme(color_codes=True)\n",
        "\n",
        "from sklearn.datasets import make_classification\n",
        "from sklearn.model_selection import train_test_split\n",
        "from sklearn.linear_model import LogisticRegression\n",
        "from sklearn.metrics import confusion_matrix, classification_report\n",
        "\n",
        "import warnings\n",
        "warnings.filterwarnings(\"ignore\")\n"
      ],
      "metadata": {
        "id": "RlvHOD0f38tr"
      },
      "id": "RlvHOD0f38tr",
      "execution_count": 7,
      "outputs": []
    },
    {
      "cell_type": "code",
      "source": [
        "from google.colab import drive\n",
        "drive.mount('/content/drive')"
      ],
      "metadata": {
        "colab": {
          "base_uri": "https://localhost:8080/"
        },
        "id": "5FvZ1C8b5gNf",
        "outputId": "eb268cef-63a3-481a-f2eb-7a786c2c8351"
      },
      "id": "5FvZ1C8b5gNf",
      "execution_count": 8,
      "outputs": [
        {
          "output_type": "stream",
          "name": "stdout",
          "text": [
            "Drive already mounted at /content/drive; to attempt to forcibly remount, call drive.mount(\"/content/drive\", force_remount=True).\n"
          ]
        }
      ]
    },
    {
      "cell_type": "code",
      "source": [
        "# Cargamos la base de datos:\n",
        "\n",
        "df = pd.read_csv(\"/content/drive/MyDrive/Actividad Semana 3 - HR-Employee-Attrition.csv\")\n",
        "df.head()"
      ],
      "metadata": {
        "colab": {
          "base_uri": "https://localhost:8080/",
          "height": 313
        },
        "id": "YVDpqA5g4ezv",
        "outputId": "620ab2ca-bde6-41d1-842f-c45d5f0d2b72"
      },
      "id": "YVDpqA5g4ezv",
      "execution_count": 9,
      "outputs": [
        {
          "output_type": "execute_result",
          "data": {
            "text/plain": [
              "   Age Attrition     BusinessTravel  DailyRate              Department  \\\n",
              "0   41       Yes      Travel_Rarely       1102                   Sales   \n",
              "1   49        No  Travel_Frequently        279  Research & Development   \n",
              "2   37       Yes      Travel_Rarely       1373  Research & Development   \n",
              "3   33        No  Travel_Frequently       1392  Research & Development   \n",
              "4   27        No      Travel_Rarely        591  Research & Development   \n",
              "\n",
              "   DistanceFromHome  Education EducationField  EmployeeCount  EmployeeNumber  \\\n",
              "0                 1          2  Life Sciences              1               1   \n",
              "1                 8          1  Life Sciences              1               2   \n",
              "2                 2          2          Other              1               4   \n",
              "3                 3          4  Life Sciences              1               5   \n",
              "4                 2          1        Medical              1               7   \n",
              "\n",
              "   EnvironmentSatisfaction  Gender  HourlyRate  JobInvolvement  JobLevel  \\\n",
              "0                        2  Female          94               3         2   \n",
              "1                        3    Male          61               2         2   \n",
              "2                        4    Male          92               2         1   \n",
              "3                        4  Female          56               3         1   \n",
              "4                        1    Male          40               3         1   \n",
              "\n",
              "                 JobRole  JobSatisfaction MaritalStatus  MonthlyIncome  \\\n",
              "0        Sales Executive                4        Single           5993   \n",
              "1     Research Scientist                2       Married           5130   \n",
              "2  Laboratory Technician                3        Single           2090   \n",
              "3     Research Scientist                3       Married           2909   \n",
              "4  Laboratory Technician                2       Married           3468   \n",
              "\n",
              "   MonthlyRate  NumCompaniesWorked Over18 OverTime  PercentSalaryHike  \\\n",
              "0        19479                   8      Y      Yes                 11   \n",
              "1        24907                   1      Y       No                 23   \n",
              "2         2396                   6      Y      Yes                 15   \n",
              "3        23159                   1      Y      Yes                 11   \n",
              "4        16632                   9      Y       No                 12   \n",
              "\n",
              "   PerformanceRating  RelationshipSatisfaction  StandardHours  \\\n",
              "0                  3                         1             80   \n",
              "1                  4                         4             80   \n",
              "2                  3                         2             80   \n",
              "3                  3                         3             80   \n",
              "4                  3                         4             80   \n",
              "\n",
              "   StockOptionLevel  TotalWorkingYears  TrainingTimesLastYear  \\\n",
              "0                 0                  8                      0   \n",
              "1                 1                 10                      3   \n",
              "2                 0                  7                      3   \n",
              "3                 0                  8                      3   \n",
              "4                 1                  6                      3   \n",
              "\n",
              "   WorkLifeBalance  YearsAtCompany  YearsInCurrentRole  \\\n",
              "0                1               6                   4   \n",
              "1                3              10                   7   \n",
              "2                3               0                   0   \n",
              "3                3               8                   7   \n",
              "4                3               2                   2   \n",
              "\n",
              "   YearsSinceLastPromotion  YearsWithCurrManager  \n",
              "0                        0                     5  \n",
              "1                        1                     7  \n",
              "2                        0                     0  \n",
              "3                        3                     0  \n",
              "4                        2                     2  "
            ],
            "text/html": [
              "\n",
              "  <div id=\"df-68f01b75-3e09-4b2b-9ea8-7511522b30f5\" class=\"colab-df-container\">\n",
              "    <div>\n",
              "<style scoped>\n",
              "    .dataframe tbody tr th:only-of-type {\n",
              "        vertical-align: middle;\n",
              "    }\n",
              "\n",
              "    .dataframe tbody tr th {\n",
              "        vertical-align: top;\n",
              "    }\n",
              "\n",
              "    .dataframe thead th {\n",
              "        text-align: right;\n",
              "    }\n",
              "</style>\n",
              "<table border=\"1\" class=\"dataframe\">\n",
              "  <thead>\n",
              "    <tr style=\"text-align: right;\">\n",
              "      <th></th>\n",
              "      <th>Age</th>\n",
              "      <th>Attrition</th>\n",
              "      <th>BusinessTravel</th>\n",
              "      <th>DailyRate</th>\n",
              "      <th>Department</th>\n",
              "      <th>DistanceFromHome</th>\n",
              "      <th>Education</th>\n",
              "      <th>EducationField</th>\n",
              "      <th>EmployeeCount</th>\n",
              "      <th>EmployeeNumber</th>\n",
              "      <th>EnvironmentSatisfaction</th>\n",
              "      <th>Gender</th>\n",
              "      <th>HourlyRate</th>\n",
              "      <th>JobInvolvement</th>\n",
              "      <th>JobLevel</th>\n",
              "      <th>JobRole</th>\n",
              "      <th>JobSatisfaction</th>\n",
              "      <th>MaritalStatus</th>\n",
              "      <th>MonthlyIncome</th>\n",
              "      <th>MonthlyRate</th>\n",
              "      <th>NumCompaniesWorked</th>\n",
              "      <th>Over18</th>\n",
              "      <th>OverTime</th>\n",
              "      <th>PercentSalaryHike</th>\n",
              "      <th>PerformanceRating</th>\n",
              "      <th>RelationshipSatisfaction</th>\n",
              "      <th>StandardHours</th>\n",
              "      <th>StockOptionLevel</th>\n",
              "      <th>TotalWorkingYears</th>\n",
              "      <th>TrainingTimesLastYear</th>\n",
              "      <th>WorkLifeBalance</th>\n",
              "      <th>YearsAtCompany</th>\n",
              "      <th>YearsInCurrentRole</th>\n",
              "      <th>YearsSinceLastPromotion</th>\n",
              "      <th>YearsWithCurrManager</th>\n",
              "    </tr>\n",
              "  </thead>\n",
              "  <tbody>\n",
              "    <tr>\n",
              "      <th>0</th>\n",
              "      <td>41</td>\n",
              "      <td>Yes</td>\n",
              "      <td>Travel_Rarely</td>\n",
              "      <td>1102</td>\n",
              "      <td>Sales</td>\n",
              "      <td>1</td>\n",
              "      <td>2</td>\n",
              "      <td>Life Sciences</td>\n",
              "      <td>1</td>\n",
              "      <td>1</td>\n",
              "      <td>2</td>\n",
              "      <td>Female</td>\n",
              "      <td>94</td>\n",
              "      <td>3</td>\n",
              "      <td>2</td>\n",
              "      <td>Sales Executive</td>\n",
              "      <td>4</td>\n",
              "      <td>Single</td>\n",
              "      <td>5993</td>\n",
              "      <td>19479</td>\n",
              "      <td>8</td>\n",
              "      <td>Y</td>\n",
              "      <td>Yes</td>\n",
              "      <td>11</td>\n",
              "      <td>3</td>\n",
              "      <td>1</td>\n",
              "      <td>80</td>\n",
              "      <td>0</td>\n",
              "      <td>8</td>\n",
              "      <td>0</td>\n",
              "      <td>1</td>\n",
              "      <td>6</td>\n",
              "      <td>4</td>\n",
              "      <td>0</td>\n",
              "      <td>5</td>\n",
              "    </tr>\n",
              "    <tr>\n",
              "      <th>1</th>\n",
              "      <td>49</td>\n",
              "      <td>No</td>\n",
              "      <td>Travel_Frequently</td>\n",
              "      <td>279</td>\n",
              "      <td>Research &amp; Development</td>\n",
              "      <td>8</td>\n",
              "      <td>1</td>\n",
              "      <td>Life Sciences</td>\n",
              "      <td>1</td>\n",
              "      <td>2</td>\n",
              "      <td>3</td>\n",
              "      <td>Male</td>\n",
              "      <td>61</td>\n",
              "      <td>2</td>\n",
              "      <td>2</td>\n",
              "      <td>Research Scientist</td>\n",
              "      <td>2</td>\n",
              "      <td>Married</td>\n",
              "      <td>5130</td>\n",
              "      <td>24907</td>\n",
              "      <td>1</td>\n",
              "      <td>Y</td>\n",
              "      <td>No</td>\n",
              "      <td>23</td>\n",
              "      <td>4</td>\n",
              "      <td>4</td>\n",
              "      <td>80</td>\n",
              "      <td>1</td>\n",
              "      <td>10</td>\n",
              "      <td>3</td>\n",
              "      <td>3</td>\n",
              "      <td>10</td>\n",
              "      <td>7</td>\n",
              "      <td>1</td>\n",
              "      <td>7</td>\n",
              "    </tr>\n",
              "    <tr>\n",
              "      <th>2</th>\n",
              "      <td>37</td>\n",
              "      <td>Yes</td>\n",
              "      <td>Travel_Rarely</td>\n",
              "      <td>1373</td>\n",
              "      <td>Research &amp; Development</td>\n",
              "      <td>2</td>\n",
              "      <td>2</td>\n",
              "      <td>Other</td>\n",
              "      <td>1</td>\n",
              "      <td>4</td>\n",
              "      <td>4</td>\n",
              "      <td>Male</td>\n",
              "      <td>92</td>\n",
              "      <td>2</td>\n",
              "      <td>1</td>\n",
              "      <td>Laboratory Technician</td>\n",
              "      <td>3</td>\n",
              "      <td>Single</td>\n",
              "      <td>2090</td>\n",
              "      <td>2396</td>\n",
              "      <td>6</td>\n",
              "      <td>Y</td>\n",
              "      <td>Yes</td>\n",
              "      <td>15</td>\n",
              "      <td>3</td>\n",
              "      <td>2</td>\n",
              "      <td>80</td>\n",
              "      <td>0</td>\n",
              "      <td>7</td>\n",
              "      <td>3</td>\n",
              "      <td>3</td>\n",
              "      <td>0</td>\n",
              "      <td>0</td>\n",
              "      <td>0</td>\n",
              "      <td>0</td>\n",
              "    </tr>\n",
              "    <tr>\n",
              "      <th>3</th>\n",
              "      <td>33</td>\n",
              "      <td>No</td>\n",
              "      <td>Travel_Frequently</td>\n",
              "      <td>1392</td>\n",
              "      <td>Research &amp; Development</td>\n",
              "      <td>3</td>\n",
              "      <td>4</td>\n",
              "      <td>Life Sciences</td>\n",
              "      <td>1</td>\n",
              "      <td>5</td>\n",
              "      <td>4</td>\n",
              "      <td>Female</td>\n",
              "      <td>56</td>\n",
              "      <td>3</td>\n",
              "      <td>1</td>\n",
              "      <td>Research Scientist</td>\n",
              "      <td>3</td>\n",
              "      <td>Married</td>\n",
              "      <td>2909</td>\n",
              "      <td>23159</td>\n",
              "      <td>1</td>\n",
              "      <td>Y</td>\n",
              "      <td>Yes</td>\n",
              "      <td>11</td>\n",
              "      <td>3</td>\n",
              "      <td>3</td>\n",
              "      <td>80</td>\n",
              "      <td>0</td>\n",
              "      <td>8</td>\n",
              "      <td>3</td>\n",
              "      <td>3</td>\n",
              "      <td>8</td>\n",
              "      <td>7</td>\n",
              "      <td>3</td>\n",
              "      <td>0</td>\n",
              "    </tr>\n",
              "    <tr>\n",
              "      <th>4</th>\n",
              "      <td>27</td>\n",
              "      <td>No</td>\n",
              "      <td>Travel_Rarely</td>\n",
              "      <td>591</td>\n",
              "      <td>Research &amp; Development</td>\n",
              "      <td>2</td>\n",
              "      <td>1</td>\n",
              "      <td>Medical</td>\n",
              "      <td>1</td>\n",
              "      <td>7</td>\n",
              "      <td>1</td>\n",
              "      <td>Male</td>\n",
              "      <td>40</td>\n",
              "      <td>3</td>\n",
              "      <td>1</td>\n",
              "      <td>Laboratory Technician</td>\n",
              "      <td>2</td>\n",
              "      <td>Married</td>\n",
              "      <td>3468</td>\n",
              "      <td>16632</td>\n",
              "      <td>9</td>\n",
              "      <td>Y</td>\n",
              "      <td>No</td>\n",
              "      <td>12</td>\n",
              "      <td>3</td>\n",
              "      <td>4</td>\n",
              "      <td>80</td>\n",
              "      <td>1</td>\n",
              "      <td>6</td>\n",
              "      <td>3</td>\n",
              "      <td>3</td>\n",
              "      <td>2</td>\n",
              "      <td>2</td>\n",
              "      <td>2</td>\n",
              "      <td>2</td>\n",
              "    </tr>\n",
              "  </tbody>\n",
              "</table>\n",
              "</div>\n",
              "    <div class=\"colab-df-buttons\">\n",
              "\n",
              "  <div class=\"colab-df-container\">\n",
              "    <button class=\"colab-df-convert\" onclick=\"convertToInteractive('df-68f01b75-3e09-4b2b-9ea8-7511522b30f5')\"\n",
              "            title=\"Convert this dataframe to an interactive table.\"\n",
              "            style=\"display:none;\">\n",
              "\n",
              "  <svg xmlns=\"http://www.w3.org/2000/svg\" height=\"24px\" viewBox=\"0 -960 960 960\">\n",
              "    <path d=\"M120-120v-720h720v720H120Zm60-500h600v-160H180v160Zm220 220h160v-160H400v160Zm0 220h160v-160H400v160ZM180-400h160v-160H180v160Zm440 0h160v-160H620v160ZM180-180h160v-160H180v160Zm440 0h160v-160H620v160Z\"/>\n",
              "  </svg>\n",
              "    </button>\n",
              "\n",
              "  <style>\n",
              "    .colab-df-container {\n",
              "      display:flex;\n",
              "      gap: 12px;\n",
              "    }\n",
              "\n",
              "    .colab-df-convert {\n",
              "      background-color: #E8F0FE;\n",
              "      border: none;\n",
              "      border-radius: 50%;\n",
              "      cursor: pointer;\n",
              "      display: none;\n",
              "      fill: #1967D2;\n",
              "      height: 32px;\n",
              "      padding: 0 0 0 0;\n",
              "      width: 32px;\n",
              "    }\n",
              "\n",
              "    .colab-df-convert:hover {\n",
              "      background-color: #E2EBFA;\n",
              "      box-shadow: 0px 1px 2px rgba(60, 64, 67, 0.3), 0px 1px 3px 1px rgba(60, 64, 67, 0.15);\n",
              "      fill: #174EA6;\n",
              "    }\n",
              "\n",
              "    .colab-df-buttons div {\n",
              "      margin-bottom: 4px;\n",
              "    }\n",
              "\n",
              "    [theme=dark] .colab-df-convert {\n",
              "      background-color: #3B4455;\n",
              "      fill: #D2E3FC;\n",
              "    }\n",
              "\n",
              "    [theme=dark] .colab-df-convert:hover {\n",
              "      background-color: #434B5C;\n",
              "      box-shadow: 0px 1px 3px 1px rgba(0, 0, 0, 0.15);\n",
              "      filter: drop-shadow(0px 1px 2px rgba(0, 0, 0, 0.3));\n",
              "      fill: #FFFFFF;\n",
              "    }\n",
              "  </style>\n",
              "\n",
              "    <script>\n",
              "      const buttonEl =\n",
              "        document.querySelector('#df-68f01b75-3e09-4b2b-9ea8-7511522b30f5 button.colab-df-convert');\n",
              "      buttonEl.style.display =\n",
              "        google.colab.kernel.accessAllowed ? 'block' : 'none';\n",
              "\n",
              "      async function convertToInteractive(key) {\n",
              "        const element = document.querySelector('#df-68f01b75-3e09-4b2b-9ea8-7511522b30f5');\n",
              "        const dataTable =\n",
              "          await google.colab.kernel.invokeFunction('convertToInteractive',\n",
              "                                                    [key], {});\n",
              "        if (!dataTable) return;\n",
              "\n",
              "        const docLinkHtml = 'Like what you see? Visit the ' +\n",
              "          '<a target=\"_blank\" href=https://colab.research.google.com/notebooks/data_table.ipynb>data table notebook</a>'\n",
              "          + ' to learn more about interactive tables.';\n",
              "        element.innerHTML = '';\n",
              "        dataTable['output_type'] = 'display_data';\n",
              "        await google.colab.output.renderOutput(dataTable, element);\n",
              "        const docLink = document.createElement('div');\n",
              "        docLink.innerHTML = docLinkHtml;\n",
              "        element.appendChild(docLink);\n",
              "      }\n",
              "    </script>\n",
              "  </div>\n",
              "\n",
              "\n",
              "<div id=\"df-4ba277e2-4cee-4219-9202-ee0260ec1a0a\">\n",
              "  <button class=\"colab-df-quickchart\" onclick=\"quickchart('df-4ba277e2-4cee-4219-9202-ee0260ec1a0a')\"\n",
              "            title=\"Suggest charts\"\n",
              "            style=\"display:none;\">\n",
              "\n",
              "<svg xmlns=\"http://www.w3.org/2000/svg\" height=\"24px\"viewBox=\"0 0 24 24\"\n",
              "     width=\"24px\">\n",
              "    <g>\n",
              "        <path d=\"M19 3H5c-1.1 0-2 .9-2 2v14c0 1.1.9 2 2 2h14c1.1 0 2-.9 2-2V5c0-1.1-.9-2-2-2zM9 17H7v-7h2v7zm4 0h-2V7h2v10zm4 0h-2v-4h2v4z\"/>\n",
              "    </g>\n",
              "</svg>\n",
              "  </button>\n",
              "\n",
              "<style>\n",
              "  .colab-df-quickchart {\n",
              "      --bg-color: #E8F0FE;\n",
              "      --fill-color: #1967D2;\n",
              "      --hover-bg-color: #E2EBFA;\n",
              "      --hover-fill-color: #174EA6;\n",
              "      --disabled-fill-color: #AAA;\n",
              "      --disabled-bg-color: #DDD;\n",
              "  }\n",
              "\n",
              "  [theme=dark] .colab-df-quickchart {\n",
              "      --bg-color: #3B4455;\n",
              "      --fill-color: #D2E3FC;\n",
              "      --hover-bg-color: #434B5C;\n",
              "      --hover-fill-color: #FFFFFF;\n",
              "      --disabled-bg-color: #3B4455;\n",
              "      --disabled-fill-color: #666;\n",
              "  }\n",
              "\n",
              "  .colab-df-quickchart {\n",
              "    background-color: var(--bg-color);\n",
              "    border: none;\n",
              "    border-radius: 50%;\n",
              "    cursor: pointer;\n",
              "    display: none;\n",
              "    fill: var(--fill-color);\n",
              "    height: 32px;\n",
              "    padding: 0;\n",
              "    width: 32px;\n",
              "  }\n",
              "\n",
              "  .colab-df-quickchart:hover {\n",
              "    background-color: var(--hover-bg-color);\n",
              "    box-shadow: 0 1px 2px rgba(60, 64, 67, 0.3), 0 1px 3px 1px rgba(60, 64, 67, 0.15);\n",
              "    fill: var(--button-hover-fill-color);\n",
              "  }\n",
              "\n",
              "  .colab-df-quickchart-complete:disabled,\n",
              "  .colab-df-quickchart-complete:disabled:hover {\n",
              "    background-color: var(--disabled-bg-color);\n",
              "    fill: var(--disabled-fill-color);\n",
              "    box-shadow: none;\n",
              "  }\n",
              "\n",
              "  .colab-df-spinner {\n",
              "    border: 2px solid var(--fill-color);\n",
              "    border-color: transparent;\n",
              "    border-bottom-color: var(--fill-color);\n",
              "    animation:\n",
              "      spin 1s steps(1) infinite;\n",
              "  }\n",
              "\n",
              "  @keyframes spin {\n",
              "    0% {\n",
              "      border-color: transparent;\n",
              "      border-bottom-color: var(--fill-color);\n",
              "      border-left-color: var(--fill-color);\n",
              "    }\n",
              "    20% {\n",
              "      border-color: transparent;\n",
              "      border-left-color: var(--fill-color);\n",
              "      border-top-color: var(--fill-color);\n",
              "    }\n",
              "    30% {\n",
              "      border-color: transparent;\n",
              "      border-left-color: var(--fill-color);\n",
              "      border-top-color: var(--fill-color);\n",
              "      border-right-color: var(--fill-color);\n",
              "    }\n",
              "    40% {\n",
              "      border-color: transparent;\n",
              "      border-right-color: var(--fill-color);\n",
              "      border-top-color: var(--fill-color);\n",
              "    }\n",
              "    60% {\n",
              "      border-color: transparent;\n",
              "      border-right-color: var(--fill-color);\n",
              "    }\n",
              "    80% {\n",
              "      border-color: transparent;\n",
              "      border-right-color: var(--fill-color);\n",
              "      border-bottom-color: var(--fill-color);\n",
              "    }\n",
              "    90% {\n",
              "      border-color: transparent;\n",
              "      border-bottom-color: var(--fill-color);\n",
              "    }\n",
              "  }\n",
              "</style>\n",
              "\n",
              "  <script>\n",
              "    async function quickchart(key) {\n",
              "      const quickchartButtonEl =\n",
              "        document.querySelector('#' + key + ' button');\n",
              "      quickchartButtonEl.disabled = true;  // To prevent multiple clicks.\n",
              "      quickchartButtonEl.classList.add('colab-df-spinner');\n",
              "      try {\n",
              "        const charts = await google.colab.kernel.invokeFunction(\n",
              "            'suggestCharts', [key], {});\n",
              "      } catch (error) {\n",
              "        console.error('Error during call to suggestCharts:', error);\n",
              "      }\n",
              "      quickchartButtonEl.classList.remove('colab-df-spinner');\n",
              "      quickchartButtonEl.classList.add('colab-df-quickchart-complete');\n",
              "    }\n",
              "    (() => {\n",
              "      let quickchartButtonEl =\n",
              "        document.querySelector('#df-4ba277e2-4cee-4219-9202-ee0260ec1a0a button');\n",
              "      quickchartButtonEl.style.display =\n",
              "        google.colab.kernel.accessAllowed ? 'block' : 'none';\n",
              "    })();\n",
              "  </script>\n",
              "</div>\n",
              "\n",
              "    </div>\n",
              "  </div>\n"
            ]
          },
          "metadata": {},
          "execution_count": 9
        }
      ]
    },
    {
      "cell_type": "code",
      "source": [
        "# Como vemos que nuestra variable predictora es Attrition, por lo que necesitamos moverla al final de la base de datos'\n",
        "\n",
        "# Extraer la columna 'Attrition' (variable objetivo)\n",
        "attrition_column = df.pop('Attrition')\n",
        "\n",
        "# Insertar la columna 'Attrition' al final del DataFrame\n",
        "df['Attrition'] = attrition_column\n",
        "df.head()"
      ],
      "metadata": {
        "colab": {
          "base_uri": "https://localhost:8080/",
          "height": 313
        },
        "id": "zNPaI_ZP--bp",
        "outputId": "97781ba0-a73d-4cd4-a727-dbe937275edc"
      },
      "id": "zNPaI_ZP--bp",
      "execution_count": 15,
      "outputs": [
        {
          "output_type": "execute_result",
          "data": {
            "text/plain": [
              "   Age     BusinessTravel  DailyRate              Department  \\\n",
              "0   41      Travel_Rarely       1102                   Sales   \n",
              "1   49  Travel_Frequently        279  Research & Development   \n",
              "2   37      Travel_Rarely       1373  Research & Development   \n",
              "3   33  Travel_Frequently       1392  Research & Development   \n",
              "4   27      Travel_Rarely        591  Research & Development   \n",
              "\n",
              "   DistanceFromHome  Education EducationField  EmployeeCount  EmployeeNumber  \\\n",
              "0                 1          2  Life Sciences              1               1   \n",
              "1                 8          1  Life Sciences              1               2   \n",
              "2                 2          2          Other              1               4   \n",
              "3                 3          4  Life Sciences              1               5   \n",
              "4                 2          1        Medical              1               7   \n",
              "\n",
              "   EnvironmentSatisfaction  Gender  HourlyRate  JobInvolvement  JobLevel  \\\n",
              "0                        2  Female          94               3         2   \n",
              "1                        3    Male          61               2         2   \n",
              "2                        4    Male          92               2         1   \n",
              "3                        4  Female          56               3         1   \n",
              "4                        1    Male          40               3         1   \n",
              "\n",
              "                 JobRole  JobSatisfaction MaritalStatus  MonthlyIncome  \\\n",
              "0        Sales Executive                4        Single           5993   \n",
              "1     Research Scientist                2       Married           5130   \n",
              "2  Laboratory Technician                3        Single           2090   \n",
              "3     Research Scientist                3       Married           2909   \n",
              "4  Laboratory Technician                2       Married           3468   \n",
              "\n",
              "   MonthlyRate  NumCompaniesWorked Over18 OverTime  PercentSalaryHike  \\\n",
              "0        19479                   8      Y      Yes                 11   \n",
              "1        24907                   1      Y       No                 23   \n",
              "2         2396                   6      Y      Yes                 15   \n",
              "3        23159                   1      Y      Yes                 11   \n",
              "4        16632                   9      Y       No                 12   \n",
              "\n",
              "   PerformanceRating  RelationshipSatisfaction  StandardHours  \\\n",
              "0                  3                         1             80   \n",
              "1                  4                         4             80   \n",
              "2                  3                         2             80   \n",
              "3                  3                         3             80   \n",
              "4                  3                         4             80   \n",
              "\n",
              "   StockOptionLevel  TotalWorkingYears  TrainingTimesLastYear  \\\n",
              "0                 0                  8                      0   \n",
              "1                 1                 10                      3   \n",
              "2                 0                  7                      3   \n",
              "3                 0                  8                      3   \n",
              "4                 1                  6                      3   \n",
              "\n",
              "   WorkLifeBalance  YearsAtCompany  YearsInCurrentRole  \\\n",
              "0                1               6                   4   \n",
              "1                3              10                   7   \n",
              "2                3               0                   0   \n",
              "3                3               8                   7   \n",
              "4                3               2                   2   \n",
              "\n",
              "   YearsSinceLastPromotion  YearsWithCurrManager Attrition  \n",
              "0                        0                     5       Yes  \n",
              "1                        1                     7        No  \n",
              "2                        0                     0       Yes  \n",
              "3                        3                     0        No  \n",
              "4                        2                     2        No  "
            ],
            "text/html": [
              "\n",
              "  <div id=\"df-3042dce4-69e6-43a3-8570-7b9322efe0e3\" class=\"colab-df-container\">\n",
              "    <div>\n",
              "<style scoped>\n",
              "    .dataframe tbody tr th:only-of-type {\n",
              "        vertical-align: middle;\n",
              "    }\n",
              "\n",
              "    .dataframe tbody tr th {\n",
              "        vertical-align: top;\n",
              "    }\n",
              "\n",
              "    .dataframe thead th {\n",
              "        text-align: right;\n",
              "    }\n",
              "</style>\n",
              "<table border=\"1\" class=\"dataframe\">\n",
              "  <thead>\n",
              "    <tr style=\"text-align: right;\">\n",
              "      <th></th>\n",
              "      <th>Age</th>\n",
              "      <th>BusinessTravel</th>\n",
              "      <th>DailyRate</th>\n",
              "      <th>Department</th>\n",
              "      <th>DistanceFromHome</th>\n",
              "      <th>Education</th>\n",
              "      <th>EducationField</th>\n",
              "      <th>EmployeeCount</th>\n",
              "      <th>EmployeeNumber</th>\n",
              "      <th>EnvironmentSatisfaction</th>\n",
              "      <th>Gender</th>\n",
              "      <th>HourlyRate</th>\n",
              "      <th>JobInvolvement</th>\n",
              "      <th>JobLevel</th>\n",
              "      <th>JobRole</th>\n",
              "      <th>JobSatisfaction</th>\n",
              "      <th>MaritalStatus</th>\n",
              "      <th>MonthlyIncome</th>\n",
              "      <th>MonthlyRate</th>\n",
              "      <th>NumCompaniesWorked</th>\n",
              "      <th>Over18</th>\n",
              "      <th>OverTime</th>\n",
              "      <th>PercentSalaryHike</th>\n",
              "      <th>PerformanceRating</th>\n",
              "      <th>RelationshipSatisfaction</th>\n",
              "      <th>StandardHours</th>\n",
              "      <th>StockOptionLevel</th>\n",
              "      <th>TotalWorkingYears</th>\n",
              "      <th>TrainingTimesLastYear</th>\n",
              "      <th>WorkLifeBalance</th>\n",
              "      <th>YearsAtCompany</th>\n",
              "      <th>YearsInCurrentRole</th>\n",
              "      <th>YearsSinceLastPromotion</th>\n",
              "      <th>YearsWithCurrManager</th>\n",
              "      <th>Attrition</th>\n",
              "    </tr>\n",
              "  </thead>\n",
              "  <tbody>\n",
              "    <tr>\n",
              "      <th>0</th>\n",
              "      <td>41</td>\n",
              "      <td>Travel_Rarely</td>\n",
              "      <td>1102</td>\n",
              "      <td>Sales</td>\n",
              "      <td>1</td>\n",
              "      <td>2</td>\n",
              "      <td>Life Sciences</td>\n",
              "      <td>1</td>\n",
              "      <td>1</td>\n",
              "      <td>2</td>\n",
              "      <td>Female</td>\n",
              "      <td>94</td>\n",
              "      <td>3</td>\n",
              "      <td>2</td>\n",
              "      <td>Sales Executive</td>\n",
              "      <td>4</td>\n",
              "      <td>Single</td>\n",
              "      <td>5993</td>\n",
              "      <td>19479</td>\n",
              "      <td>8</td>\n",
              "      <td>Y</td>\n",
              "      <td>Yes</td>\n",
              "      <td>11</td>\n",
              "      <td>3</td>\n",
              "      <td>1</td>\n",
              "      <td>80</td>\n",
              "      <td>0</td>\n",
              "      <td>8</td>\n",
              "      <td>0</td>\n",
              "      <td>1</td>\n",
              "      <td>6</td>\n",
              "      <td>4</td>\n",
              "      <td>0</td>\n",
              "      <td>5</td>\n",
              "      <td>Yes</td>\n",
              "    </tr>\n",
              "    <tr>\n",
              "      <th>1</th>\n",
              "      <td>49</td>\n",
              "      <td>Travel_Frequently</td>\n",
              "      <td>279</td>\n",
              "      <td>Research &amp; Development</td>\n",
              "      <td>8</td>\n",
              "      <td>1</td>\n",
              "      <td>Life Sciences</td>\n",
              "      <td>1</td>\n",
              "      <td>2</td>\n",
              "      <td>3</td>\n",
              "      <td>Male</td>\n",
              "      <td>61</td>\n",
              "      <td>2</td>\n",
              "      <td>2</td>\n",
              "      <td>Research Scientist</td>\n",
              "      <td>2</td>\n",
              "      <td>Married</td>\n",
              "      <td>5130</td>\n",
              "      <td>24907</td>\n",
              "      <td>1</td>\n",
              "      <td>Y</td>\n",
              "      <td>No</td>\n",
              "      <td>23</td>\n",
              "      <td>4</td>\n",
              "      <td>4</td>\n",
              "      <td>80</td>\n",
              "      <td>1</td>\n",
              "      <td>10</td>\n",
              "      <td>3</td>\n",
              "      <td>3</td>\n",
              "      <td>10</td>\n",
              "      <td>7</td>\n",
              "      <td>1</td>\n",
              "      <td>7</td>\n",
              "      <td>No</td>\n",
              "    </tr>\n",
              "    <tr>\n",
              "      <th>2</th>\n",
              "      <td>37</td>\n",
              "      <td>Travel_Rarely</td>\n",
              "      <td>1373</td>\n",
              "      <td>Research &amp; Development</td>\n",
              "      <td>2</td>\n",
              "      <td>2</td>\n",
              "      <td>Other</td>\n",
              "      <td>1</td>\n",
              "      <td>4</td>\n",
              "      <td>4</td>\n",
              "      <td>Male</td>\n",
              "      <td>92</td>\n",
              "      <td>2</td>\n",
              "      <td>1</td>\n",
              "      <td>Laboratory Technician</td>\n",
              "      <td>3</td>\n",
              "      <td>Single</td>\n",
              "      <td>2090</td>\n",
              "      <td>2396</td>\n",
              "      <td>6</td>\n",
              "      <td>Y</td>\n",
              "      <td>Yes</td>\n",
              "      <td>15</td>\n",
              "      <td>3</td>\n",
              "      <td>2</td>\n",
              "      <td>80</td>\n",
              "      <td>0</td>\n",
              "      <td>7</td>\n",
              "      <td>3</td>\n",
              "      <td>3</td>\n",
              "      <td>0</td>\n",
              "      <td>0</td>\n",
              "      <td>0</td>\n",
              "      <td>0</td>\n",
              "      <td>Yes</td>\n",
              "    </tr>\n",
              "    <tr>\n",
              "      <th>3</th>\n",
              "      <td>33</td>\n",
              "      <td>Travel_Frequently</td>\n",
              "      <td>1392</td>\n",
              "      <td>Research &amp; Development</td>\n",
              "      <td>3</td>\n",
              "      <td>4</td>\n",
              "      <td>Life Sciences</td>\n",
              "      <td>1</td>\n",
              "      <td>5</td>\n",
              "      <td>4</td>\n",
              "      <td>Female</td>\n",
              "      <td>56</td>\n",
              "      <td>3</td>\n",
              "      <td>1</td>\n",
              "      <td>Research Scientist</td>\n",
              "      <td>3</td>\n",
              "      <td>Married</td>\n",
              "      <td>2909</td>\n",
              "      <td>23159</td>\n",
              "      <td>1</td>\n",
              "      <td>Y</td>\n",
              "      <td>Yes</td>\n",
              "      <td>11</td>\n",
              "      <td>3</td>\n",
              "      <td>3</td>\n",
              "      <td>80</td>\n",
              "      <td>0</td>\n",
              "      <td>8</td>\n",
              "      <td>3</td>\n",
              "      <td>3</td>\n",
              "      <td>8</td>\n",
              "      <td>7</td>\n",
              "      <td>3</td>\n",
              "      <td>0</td>\n",
              "      <td>No</td>\n",
              "    </tr>\n",
              "    <tr>\n",
              "      <th>4</th>\n",
              "      <td>27</td>\n",
              "      <td>Travel_Rarely</td>\n",
              "      <td>591</td>\n",
              "      <td>Research &amp; Development</td>\n",
              "      <td>2</td>\n",
              "      <td>1</td>\n",
              "      <td>Medical</td>\n",
              "      <td>1</td>\n",
              "      <td>7</td>\n",
              "      <td>1</td>\n",
              "      <td>Male</td>\n",
              "      <td>40</td>\n",
              "      <td>3</td>\n",
              "      <td>1</td>\n",
              "      <td>Laboratory Technician</td>\n",
              "      <td>2</td>\n",
              "      <td>Married</td>\n",
              "      <td>3468</td>\n",
              "      <td>16632</td>\n",
              "      <td>9</td>\n",
              "      <td>Y</td>\n",
              "      <td>No</td>\n",
              "      <td>12</td>\n",
              "      <td>3</td>\n",
              "      <td>4</td>\n",
              "      <td>80</td>\n",
              "      <td>1</td>\n",
              "      <td>6</td>\n",
              "      <td>3</td>\n",
              "      <td>3</td>\n",
              "      <td>2</td>\n",
              "      <td>2</td>\n",
              "      <td>2</td>\n",
              "      <td>2</td>\n",
              "      <td>No</td>\n",
              "    </tr>\n",
              "  </tbody>\n",
              "</table>\n",
              "</div>\n",
              "    <div class=\"colab-df-buttons\">\n",
              "\n",
              "  <div class=\"colab-df-container\">\n",
              "    <button class=\"colab-df-convert\" onclick=\"convertToInteractive('df-3042dce4-69e6-43a3-8570-7b9322efe0e3')\"\n",
              "            title=\"Convert this dataframe to an interactive table.\"\n",
              "            style=\"display:none;\">\n",
              "\n",
              "  <svg xmlns=\"http://www.w3.org/2000/svg\" height=\"24px\" viewBox=\"0 -960 960 960\">\n",
              "    <path d=\"M120-120v-720h720v720H120Zm60-500h600v-160H180v160Zm220 220h160v-160H400v160Zm0 220h160v-160H400v160ZM180-400h160v-160H180v160Zm440 0h160v-160H620v160ZM180-180h160v-160H180v160Zm440 0h160v-160H620v160Z\"/>\n",
              "  </svg>\n",
              "    </button>\n",
              "\n",
              "  <style>\n",
              "    .colab-df-container {\n",
              "      display:flex;\n",
              "      gap: 12px;\n",
              "    }\n",
              "\n",
              "    .colab-df-convert {\n",
              "      background-color: #E8F0FE;\n",
              "      border: none;\n",
              "      border-radius: 50%;\n",
              "      cursor: pointer;\n",
              "      display: none;\n",
              "      fill: #1967D2;\n",
              "      height: 32px;\n",
              "      padding: 0 0 0 0;\n",
              "      width: 32px;\n",
              "    }\n",
              "\n",
              "    .colab-df-convert:hover {\n",
              "      background-color: #E2EBFA;\n",
              "      box-shadow: 0px 1px 2px rgba(60, 64, 67, 0.3), 0px 1px 3px 1px rgba(60, 64, 67, 0.15);\n",
              "      fill: #174EA6;\n",
              "    }\n",
              "\n",
              "    .colab-df-buttons div {\n",
              "      margin-bottom: 4px;\n",
              "    }\n",
              "\n",
              "    [theme=dark] .colab-df-convert {\n",
              "      background-color: #3B4455;\n",
              "      fill: #D2E3FC;\n",
              "    }\n",
              "\n",
              "    [theme=dark] .colab-df-convert:hover {\n",
              "      background-color: #434B5C;\n",
              "      box-shadow: 0px 1px 3px 1px rgba(0, 0, 0, 0.15);\n",
              "      filter: drop-shadow(0px 1px 2px rgba(0, 0, 0, 0.3));\n",
              "      fill: #FFFFFF;\n",
              "    }\n",
              "  </style>\n",
              "\n",
              "    <script>\n",
              "      const buttonEl =\n",
              "        document.querySelector('#df-3042dce4-69e6-43a3-8570-7b9322efe0e3 button.colab-df-convert');\n",
              "      buttonEl.style.display =\n",
              "        google.colab.kernel.accessAllowed ? 'block' : 'none';\n",
              "\n",
              "      async function convertToInteractive(key) {\n",
              "        const element = document.querySelector('#df-3042dce4-69e6-43a3-8570-7b9322efe0e3');\n",
              "        const dataTable =\n",
              "          await google.colab.kernel.invokeFunction('convertToInteractive',\n",
              "                                                    [key], {});\n",
              "        if (!dataTable) return;\n",
              "\n",
              "        const docLinkHtml = 'Like what you see? Visit the ' +\n",
              "          '<a target=\"_blank\" href=https://colab.research.google.com/notebooks/data_table.ipynb>data table notebook</a>'\n",
              "          + ' to learn more about interactive tables.';\n",
              "        element.innerHTML = '';\n",
              "        dataTable['output_type'] = 'display_data';\n",
              "        await google.colab.output.renderOutput(dataTable, element);\n",
              "        const docLink = document.createElement('div');\n",
              "        docLink.innerHTML = docLinkHtml;\n",
              "        element.appendChild(docLink);\n",
              "      }\n",
              "    </script>\n",
              "  </div>\n",
              "\n",
              "\n",
              "<div id=\"df-b514a149-dc37-4072-8c34-b2360a6a5817\">\n",
              "  <button class=\"colab-df-quickchart\" onclick=\"quickchart('df-b514a149-dc37-4072-8c34-b2360a6a5817')\"\n",
              "            title=\"Suggest charts\"\n",
              "            style=\"display:none;\">\n",
              "\n",
              "<svg xmlns=\"http://www.w3.org/2000/svg\" height=\"24px\"viewBox=\"0 0 24 24\"\n",
              "     width=\"24px\">\n",
              "    <g>\n",
              "        <path d=\"M19 3H5c-1.1 0-2 .9-2 2v14c0 1.1.9 2 2 2h14c1.1 0 2-.9 2-2V5c0-1.1-.9-2-2-2zM9 17H7v-7h2v7zm4 0h-2V7h2v10zm4 0h-2v-4h2v4z\"/>\n",
              "    </g>\n",
              "</svg>\n",
              "  </button>\n",
              "\n",
              "<style>\n",
              "  .colab-df-quickchart {\n",
              "      --bg-color: #E8F0FE;\n",
              "      --fill-color: #1967D2;\n",
              "      --hover-bg-color: #E2EBFA;\n",
              "      --hover-fill-color: #174EA6;\n",
              "      --disabled-fill-color: #AAA;\n",
              "      --disabled-bg-color: #DDD;\n",
              "  }\n",
              "\n",
              "  [theme=dark] .colab-df-quickchart {\n",
              "      --bg-color: #3B4455;\n",
              "      --fill-color: #D2E3FC;\n",
              "      --hover-bg-color: #434B5C;\n",
              "      --hover-fill-color: #FFFFFF;\n",
              "      --disabled-bg-color: #3B4455;\n",
              "      --disabled-fill-color: #666;\n",
              "  }\n",
              "\n",
              "  .colab-df-quickchart {\n",
              "    background-color: var(--bg-color);\n",
              "    border: none;\n",
              "    border-radius: 50%;\n",
              "    cursor: pointer;\n",
              "    display: none;\n",
              "    fill: var(--fill-color);\n",
              "    height: 32px;\n",
              "    padding: 0;\n",
              "    width: 32px;\n",
              "  }\n",
              "\n",
              "  .colab-df-quickchart:hover {\n",
              "    background-color: var(--hover-bg-color);\n",
              "    box-shadow: 0 1px 2px rgba(60, 64, 67, 0.3), 0 1px 3px 1px rgba(60, 64, 67, 0.15);\n",
              "    fill: var(--button-hover-fill-color);\n",
              "  }\n",
              "\n",
              "  .colab-df-quickchart-complete:disabled,\n",
              "  .colab-df-quickchart-complete:disabled:hover {\n",
              "    background-color: var(--disabled-bg-color);\n",
              "    fill: var(--disabled-fill-color);\n",
              "    box-shadow: none;\n",
              "  }\n",
              "\n",
              "  .colab-df-spinner {\n",
              "    border: 2px solid var(--fill-color);\n",
              "    border-color: transparent;\n",
              "    border-bottom-color: var(--fill-color);\n",
              "    animation:\n",
              "      spin 1s steps(1) infinite;\n",
              "  }\n",
              "\n",
              "  @keyframes spin {\n",
              "    0% {\n",
              "      border-color: transparent;\n",
              "      border-bottom-color: var(--fill-color);\n",
              "      border-left-color: var(--fill-color);\n",
              "    }\n",
              "    20% {\n",
              "      border-color: transparent;\n",
              "      border-left-color: var(--fill-color);\n",
              "      border-top-color: var(--fill-color);\n",
              "    }\n",
              "    30% {\n",
              "      border-color: transparent;\n",
              "      border-left-color: var(--fill-color);\n",
              "      border-top-color: var(--fill-color);\n",
              "      border-right-color: var(--fill-color);\n",
              "    }\n",
              "    40% {\n",
              "      border-color: transparent;\n",
              "      border-right-color: var(--fill-color);\n",
              "      border-top-color: var(--fill-color);\n",
              "    }\n",
              "    60% {\n",
              "      border-color: transparent;\n",
              "      border-right-color: var(--fill-color);\n",
              "    }\n",
              "    80% {\n",
              "      border-color: transparent;\n",
              "      border-right-color: var(--fill-color);\n",
              "      border-bottom-color: var(--fill-color);\n",
              "    }\n",
              "    90% {\n",
              "      border-color: transparent;\n",
              "      border-bottom-color: var(--fill-color);\n",
              "    }\n",
              "  }\n",
              "</style>\n",
              "\n",
              "  <script>\n",
              "    async function quickchart(key) {\n",
              "      const quickchartButtonEl =\n",
              "        document.querySelector('#' + key + ' button');\n",
              "      quickchartButtonEl.disabled = true;  // To prevent multiple clicks.\n",
              "      quickchartButtonEl.classList.add('colab-df-spinner');\n",
              "      try {\n",
              "        const charts = await google.colab.kernel.invokeFunction(\n",
              "            'suggestCharts', [key], {});\n",
              "      } catch (error) {\n",
              "        console.error('Error during call to suggestCharts:', error);\n",
              "      }\n",
              "      quickchartButtonEl.classList.remove('colab-df-spinner');\n",
              "      quickchartButtonEl.classList.add('colab-df-quickchart-complete');\n",
              "    }\n",
              "    (() => {\n",
              "      let quickchartButtonEl =\n",
              "        document.querySelector('#df-b514a149-dc37-4072-8c34-b2360a6a5817 button');\n",
              "      quickchartButtonEl.style.display =\n",
              "        google.colab.kernel.accessAllowed ? 'block' : 'none';\n",
              "    })();\n",
              "  </script>\n",
              "</div>\n",
              "\n",
              "    </div>\n",
              "  </div>\n"
            ]
          },
          "metadata": {},
          "execution_count": 15
        }
      ]
    },
    {
      "cell_type": "code",
      "source": [
        "# Separamos los factores de entrada y la variable de salida:\n",
        "\n",
        "X = df.drop('Attrition', axis=1)\n",
        "y = df['Attrition']"
      ],
      "metadata": {
        "id": "PESHOf-bBher"
      },
      "id": "PESHOf-bBher",
      "execution_count": 45,
      "outputs": []
    },
    {
      "cell_type": "markdown",
      "source": [
        "**a) Despliega la dimensión obtenida de los tres conjuntos: Entrenamiento, Validación y Prueba.**"
      ],
      "metadata": {
        "id": "hsdHK67RwKMj"
      },
      "id": "hsdHK67RwKMj"
    },
    {
      "cell_type": "code",
      "source": [
        "# Dividir los datos en entrenamiento (70%) y temporal (30%) -- Nota: Temporal incluye Validación y Prueba\n",
        "Xtrain, Xtemp, ytrain, ytemp = train_test_split(X, y, test_size=0.3, random_state= None)\n",
        "\n",
        "# Dividir el temporal en validación (50%) y prueba (50%)\n",
        "Xval, Xtest, yval, ytest = train_test_split(Xtemp, ytemp, test_size=0.5, random_state= None)\n",
        "\n",
        "print(\"Entrenamiento X:\", Xtrain.shape,    '%.1f%%' % (100 * Xtrain.shape[0]  / (Xtrain.shape[0] + X_val.shape[0] + Xtest.shape[0] )))\n",
        "print(\"Validación X   :\", Xval.shape,      '%.1f%%' % (100 * Xval.shape[0]    / (Xtrain.shape[0] + X_val.shape[0] + Xtest.shape[0] )))\n",
        "print(\"Prueba X       :\", Xtest.shape,     '%.1f%%' % (100 * Xtest.shape[0]   / (Xtrain.shape[0] + X_val.shape[0] + Xtest.shape[0] )))\n",
        "\n",
        "print(\"Entrenamiento y:\", ytrain.shape,    '%.1f%%' % (100 * ytrain.shape[0]  / (ytrain.shape[0] + yval.shape[0] + ytest.shape[0] )))\n",
        "print(\"Validación y   :\", yval.shape,      '%.1f%%' % (100 * yval.shape[0]    / (ytrain.shape[0] + yval.shape[0] + ytest.shape[0] )))\n",
        "print(\"Prueba y       :\", ytest.shape,     '%.1f%%' % (100 * ytest.shape[0]   / (ytrain.shape[0] + yval.shape[0] + ytest.shape[0] )))"
      ],
      "metadata": {
        "colab": {
          "base_uri": "https://localhost:8080/"
        },
        "id": "O8aMQAFj_x0r",
        "outputId": "b02bd714-209f-4ec9-d231-69c6843e0bcb"
      },
      "id": "O8aMQAFj_x0r",
      "execution_count": 52,
      "outputs": [
        {
          "output_type": "stream",
          "name": "stdout",
          "text": [
            "Entrenamiento X: (1029, 34) 70.0%\n",
            "Validación X   : (220, 34) 15.0%\n",
            "Prueba X       : (221, 34) 15.0%\n",
            "Entrenamiento y: (1029,) 70.0%\n",
            "Validación y   : (220,) 15.0%\n",
            "Prueba y       : (221,) 15.0%\n"
          ]
        }
      ]
    },
    {
      "cell_type": "markdown",
      "source": [
        "**b) Realiza un análisis inicial de todas las variables y elimina aquellas que no estarán aportando información al problema. Indica cuáles y el porqué de las variables que estás eliminando.**"
      ],
      "metadata": {
        "id": "ykTsf6xswOp9"
      },
      "id": "ykTsf6xswOp9"
    },
    {
      "cell_type": "markdown",
      "source": [
        "Buscamos columnas con renglones vacíos"
      ],
      "metadata": {
        "id": "KzHL_bBEGp7Z"
      },
      "id": "KzHL_bBEGp7Z"
    },
    {
      "cell_type": "code",
      "source": [
        "df.isnull().sum()"
      ],
      "metadata": {
        "colab": {
          "base_uri": "https://localhost:8080/"
        },
        "id": "TI_AFxBSGhY6",
        "outputId": "3f58fbec-75bb-4765-d9f6-662ba97762a6"
      },
      "id": "TI_AFxBSGhY6",
      "execution_count": 29,
      "outputs": [
        {
          "output_type": "execute_result",
          "data": {
            "text/plain": [
              "Age                         0\n",
              "BusinessTravel              0\n",
              "DailyRate                   0\n",
              "Department                  0\n",
              "DistanceFromHome            0\n",
              "Education                   0\n",
              "EducationField              0\n",
              "EmployeeCount               0\n",
              "EmployeeNumber              0\n",
              "EnvironmentSatisfaction     0\n",
              "Gender                      0\n",
              "HourlyRate                  0\n",
              "JobInvolvement              0\n",
              "JobLevel                    0\n",
              "JobRole                     0\n",
              "JobSatisfaction             0\n",
              "MaritalStatus               0\n",
              "MonthlyIncome               0\n",
              "MonthlyRate                 0\n",
              "NumCompaniesWorked          0\n",
              "Over18                      0\n",
              "OverTime                    0\n",
              "PercentSalaryHike           0\n",
              "PerformanceRating           0\n",
              "RelationshipSatisfaction    0\n",
              "StandardHours               0\n",
              "StockOptionLevel            0\n",
              "TotalWorkingYears           0\n",
              "TrainingTimesLastYear       0\n",
              "WorkLifeBalance             0\n",
              "YearsAtCompany              0\n",
              "YearsInCurrentRole          0\n",
              "YearsSinceLastPromotion     0\n",
              "YearsWithCurrManager        0\n",
              "Attrition                   0\n",
              "dtype: int64"
            ]
          },
          "metadata": {},
          "execution_count": 29
        }
      ]
    },
    {
      "cell_type": "markdown",
      "source": [
        "Vemos el tipo de dato para cada columna"
      ],
      "metadata": {
        "id": "JC1Jzf6pHLow"
      },
      "id": "JC1Jzf6pHLow"
    },
    {
      "cell_type": "code",
      "source": [
        "df.info()"
      ],
      "metadata": {
        "colab": {
          "base_uri": "https://localhost:8080/"
        },
        "id": "jclTLOzuGbdi",
        "outputId": "c4790a2e-f779-41ba-e6b0-9d971cab1b21"
      },
      "id": "jclTLOzuGbdi",
      "execution_count": 28,
      "outputs": [
        {
          "output_type": "stream",
          "name": "stdout",
          "text": [
            "<class 'pandas.core.frame.DataFrame'>\n",
            "RangeIndex: 1470 entries, 0 to 1469\n",
            "Data columns (total 35 columns):\n",
            " #   Column                    Non-Null Count  Dtype \n",
            "---  ------                    --------------  ----- \n",
            " 0   Age                       1470 non-null   int64 \n",
            " 1   BusinessTravel            1470 non-null   object\n",
            " 2   DailyRate                 1470 non-null   int64 \n",
            " 3   Department                1470 non-null   object\n",
            " 4   DistanceFromHome          1470 non-null   int64 \n",
            " 5   Education                 1470 non-null   int64 \n",
            " 6   EducationField            1470 non-null   object\n",
            " 7   EmployeeCount             1470 non-null   int64 \n",
            " 8   EmployeeNumber            1470 non-null   int64 \n",
            " 9   EnvironmentSatisfaction   1470 non-null   int64 \n",
            " 10  Gender                    1470 non-null   object\n",
            " 11  HourlyRate                1470 non-null   int64 \n",
            " 12  JobInvolvement            1470 non-null   int64 \n",
            " 13  JobLevel                  1470 non-null   int64 \n",
            " 14  JobRole                   1470 non-null   object\n",
            " 15  JobSatisfaction           1470 non-null   int64 \n",
            " 16  MaritalStatus             1470 non-null   object\n",
            " 17  MonthlyIncome             1470 non-null   int64 \n",
            " 18  MonthlyRate               1470 non-null   int64 \n",
            " 19  NumCompaniesWorked        1470 non-null   int64 \n",
            " 20  Over18                    1470 non-null   object\n",
            " 21  OverTime                  1470 non-null   object\n",
            " 22  PercentSalaryHike         1470 non-null   int64 \n",
            " 23  PerformanceRating         1470 non-null   int64 \n",
            " 24  RelationshipSatisfaction  1470 non-null   int64 \n",
            " 25  StandardHours             1470 non-null   int64 \n",
            " 26  StockOptionLevel          1470 non-null   int64 \n",
            " 27  TotalWorkingYears         1470 non-null   int64 \n",
            " 28  TrainingTimesLastYear     1470 non-null   int64 \n",
            " 29  WorkLifeBalance           1470 non-null   int64 \n",
            " 30  YearsAtCompany            1470 non-null   int64 \n",
            " 31  YearsInCurrentRole        1470 non-null   int64 \n",
            " 32  YearsSinceLastPromotion   1470 non-null   int64 \n",
            " 33  YearsWithCurrManager      1470 non-null   int64 \n",
            " 34  Attrition                 1470 non-null   object\n",
            "dtypes: int64(26), object(9)\n",
            "memory usage: 402.1+ KB\n"
          ]
        }
      ]
    },
    {
      "cell_type": "markdown",
      "source": [
        "Hacemos un análisis exploratorio de los datos Categóricos"
      ],
      "metadata": {
        "id": "iAQV0w5pGxOz"
      },
      "id": "iAQV0w5pGxOz"
    },
    {
      "cell_type": "code",
      "source": [
        "#Seleccionar datos categoricos\n",
        "df_categoricos = df[[\"BusinessTravel\", \"Department\", \"EducationField\", \"Gender\", \"JobRole\", \"MaritalStatus\", \"Over18\", \"OverTime\", \"Attrition\"]]\n",
        "df_categoricos.head()"
      ],
      "metadata": {
        "colab": {
          "base_uri": "https://localhost:8080/",
          "height": 206
        },
        "id": "YdUiXrajG4eo",
        "outputId": "3b8f819c-7e1e-4ca1-ed35-93db1a306c09"
      },
      "id": "YdUiXrajG4eo",
      "execution_count": 34,
      "outputs": [
        {
          "output_type": "execute_result",
          "data": {
            "text/plain": [
              "      BusinessTravel              Department EducationField  Gender  \\\n",
              "0      Travel_Rarely                   Sales  Life Sciences  Female   \n",
              "1  Travel_Frequently  Research & Development  Life Sciences    Male   \n",
              "2      Travel_Rarely  Research & Development          Other    Male   \n",
              "3  Travel_Frequently  Research & Development  Life Sciences  Female   \n",
              "4      Travel_Rarely  Research & Development        Medical    Male   \n",
              "\n",
              "                 JobRole MaritalStatus Over18 OverTime Attrition  \n",
              "0        Sales Executive        Single      Y      Yes       Yes  \n",
              "1     Research Scientist       Married      Y       No        No  \n",
              "2  Laboratory Technician        Single      Y      Yes       Yes  \n",
              "3     Research Scientist       Married      Y      Yes        No  \n",
              "4  Laboratory Technician       Married      Y       No        No  "
            ],
            "text/html": [
              "\n",
              "  <div id=\"df-af6b08ff-b617-484c-abe5-1150226de563\" class=\"colab-df-container\">\n",
              "    <div>\n",
              "<style scoped>\n",
              "    .dataframe tbody tr th:only-of-type {\n",
              "        vertical-align: middle;\n",
              "    }\n",
              "\n",
              "    .dataframe tbody tr th {\n",
              "        vertical-align: top;\n",
              "    }\n",
              "\n",
              "    .dataframe thead th {\n",
              "        text-align: right;\n",
              "    }\n",
              "</style>\n",
              "<table border=\"1\" class=\"dataframe\">\n",
              "  <thead>\n",
              "    <tr style=\"text-align: right;\">\n",
              "      <th></th>\n",
              "      <th>BusinessTravel</th>\n",
              "      <th>Department</th>\n",
              "      <th>EducationField</th>\n",
              "      <th>Gender</th>\n",
              "      <th>JobRole</th>\n",
              "      <th>MaritalStatus</th>\n",
              "      <th>Over18</th>\n",
              "      <th>OverTime</th>\n",
              "      <th>Attrition</th>\n",
              "    </tr>\n",
              "  </thead>\n",
              "  <tbody>\n",
              "    <tr>\n",
              "      <th>0</th>\n",
              "      <td>Travel_Rarely</td>\n",
              "      <td>Sales</td>\n",
              "      <td>Life Sciences</td>\n",
              "      <td>Female</td>\n",
              "      <td>Sales Executive</td>\n",
              "      <td>Single</td>\n",
              "      <td>Y</td>\n",
              "      <td>Yes</td>\n",
              "      <td>Yes</td>\n",
              "    </tr>\n",
              "    <tr>\n",
              "      <th>1</th>\n",
              "      <td>Travel_Frequently</td>\n",
              "      <td>Research &amp; Development</td>\n",
              "      <td>Life Sciences</td>\n",
              "      <td>Male</td>\n",
              "      <td>Research Scientist</td>\n",
              "      <td>Married</td>\n",
              "      <td>Y</td>\n",
              "      <td>No</td>\n",
              "      <td>No</td>\n",
              "    </tr>\n",
              "    <tr>\n",
              "      <th>2</th>\n",
              "      <td>Travel_Rarely</td>\n",
              "      <td>Research &amp; Development</td>\n",
              "      <td>Other</td>\n",
              "      <td>Male</td>\n",
              "      <td>Laboratory Technician</td>\n",
              "      <td>Single</td>\n",
              "      <td>Y</td>\n",
              "      <td>Yes</td>\n",
              "      <td>Yes</td>\n",
              "    </tr>\n",
              "    <tr>\n",
              "      <th>3</th>\n",
              "      <td>Travel_Frequently</td>\n",
              "      <td>Research &amp; Development</td>\n",
              "      <td>Life Sciences</td>\n",
              "      <td>Female</td>\n",
              "      <td>Research Scientist</td>\n",
              "      <td>Married</td>\n",
              "      <td>Y</td>\n",
              "      <td>Yes</td>\n",
              "      <td>No</td>\n",
              "    </tr>\n",
              "    <tr>\n",
              "      <th>4</th>\n",
              "      <td>Travel_Rarely</td>\n",
              "      <td>Research &amp; Development</td>\n",
              "      <td>Medical</td>\n",
              "      <td>Male</td>\n",
              "      <td>Laboratory Technician</td>\n",
              "      <td>Married</td>\n",
              "      <td>Y</td>\n",
              "      <td>No</td>\n",
              "      <td>No</td>\n",
              "    </tr>\n",
              "  </tbody>\n",
              "</table>\n",
              "</div>\n",
              "    <div class=\"colab-df-buttons\">\n",
              "\n",
              "  <div class=\"colab-df-container\">\n",
              "    <button class=\"colab-df-convert\" onclick=\"convertToInteractive('df-af6b08ff-b617-484c-abe5-1150226de563')\"\n",
              "            title=\"Convert this dataframe to an interactive table.\"\n",
              "            style=\"display:none;\">\n",
              "\n",
              "  <svg xmlns=\"http://www.w3.org/2000/svg\" height=\"24px\" viewBox=\"0 -960 960 960\">\n",
              "    <path d=\"M120-120v-720h720v720H120Zm60-500h600v-160H180v160Zm220 220h160v-160H400v160Zm0 220h160v-160H400v160ZM180-400h160v-160H180v160Zm440 0h160v-160H620v160ZM180-180h160v-160H180v160Zm440 0h160v-160H620v160Z\"/>\n",
              "  </svg>\n",
              "    </button>\n",
              "\n",
              "  <style>\n",
              "    .colab-df-container {\n",
              "      display:flex;\n",
              "      gap: 12px;\n",
              "    }\n",
              "\n",
              "    .colab-df-convert {\n",
              "      background-color: #E8F0FE;\n",
              "      border: none;\n",
              "      border-radius: 50%;\n",
              "      cursor: pointer;\n",
              "      display: none;\n",
              "      fill: #1967D2;\n",
              "      height: 32px;\n",
              "      padding: 0 0 0 0;\n",
              "      width: 32px;\n",
              "    }\n",
              "\n",
              "    .colab-df-convert:hover {\n",
              "      background-color: #E2EBFA;\n",
              "      box-shadow: 0px 1px 2px rgba(60, 64, 67, 0.3), 0px 1px 3px 1px rgba(60, 64, 67, 0.15);\n",
              "      fill: #174EA6;\n",
              "    }\n",
              "\n",
              "    .colab-df-buttons div {\n",
              "      margin-bottom: 4px;\n",
              "    }\n",
              "\n",
              "    [theme=dark] .colab-df-convert {\n",
              "      background-color: #3B4455;\n",
              "      fill: #D2E3FC;\n",
              "    }\n",
              "\n",
              "    [theme=dark] .colab-df-convert:hover {\n",
              "      background-color: #434B5C;\n",
              "      box-shadow: 0px 1px 3px 1px rgba(0, 0, 0, 0.15);\n",
              "      filter: drop-shadow(0px 1px 2px rgba(0, 0, 0, 0.3));\n",
              "      fill: #FFFFFF;\n",
              "    }\n",
              "  </style>\n",
              "\n",
              "    <script>\n",
              "      const buttonEl =\n",
              "        document.querySelector('#df-af6b08ff-b617-484c-abe5-1150226de563 button.colab-df-convert');\n",
              "      buttonEl.style.display =\n",
              "        google.colab.kernel.accessAllowed ? 'block' : 'none';\n",
              "\n",
              "      async function convertToInteractive(key) {\n",
              "        const element = document.querySelector('#df-af6b08ff-b617-484c-abe5-1150226de563');\n",
              "        const dataTable =\n",
              "          await google.colab.kernel.invokeFunction('convertToInteractive',\n",
              "                                                    [key], {});\n",
              "        if (!dataTable) return;\n",
              "\n",
              "        const docLinkHtml = 'Like what you see? Visit the ' +\n",
              "          '<a target=\"_blank\" href=https://colab.research.google.com/notebooks/data_table.ipynb>data table notebook</a>'\n",
              "          + ' to learn more about interactive tables.';\n",
              "        element.innerHTML = '';\n",
              "        dataTable['output_type'] = 'display_data';\n",
              "        await google.colab.output.renderOutput(dataTable, element);\n",
              "        const docLink = document.createElement('div');\n",
              "        docLink.innerHTML = docLinkHtml;\n",
              "        element.appendChild(docLink);\n",
              "      }\n",
              "    </script>\n",
              "  </div>\n",
              "\n",
              "\n",
              "<div id=\"df-98a3f42a-1b51-4454-985a-f7e17542088c\">\n",
              "  <button class=\"colab-df-quickchart\" onclick=\"quickchart('df-98a3f42a-1b51-4454-985a-f7e17542088c')\"\n",
              "            title=\"Suggest charts\"\n",
              "            style=\"display:none;\">\n",
              "\n",
              "<svg xmlns=\"http://www.w3.org/2000/svg\" height=\"24px\"viewBox=\"0 0 24 24\"\n",
              "     width=\"24px\">\n",
              "    <g>\n",
              "        <path d=\"M19 3H5c-1.1 0-2 .9-2 2v14c0 1.1.9 2 2 2h14c1.1 0 2-.9 2-2V5c0-1.1-.9-2-2-2zM9 17H7v-7h2v7zm4 0h-2V7h2v10zm4 0h-2v-4h2v4z\"/>\n",
              "    </g>\n",
              "</svg>\n",
              "  </button>\n",
              "\n",
              "<style>\n",
              "  .colab-df-quickchart {\n",
              "      --bg-color: #E8F0FE;\n",
              "      --fill-color: #1967D2;\n",
              "      --hover-bg-color: #E2EBFA;\n",
              "      --hover-fill-color: #174EA6;\n",
              "      --disabled-fill-color: #AAA;\n",
              "      --disabled-bg-color: #DDD;\n",
              "  }\n",
              "\n",
              "  [theme=dark] .colab-df-quickchart {\n",
              "      --bg-color: #3B4455;\n",
              "      --fill-color: #D2E3FC;\n",
              "      --hover-bg-color: #434B5C;\n",
              "      --hover-fill-color: #FFFFFF;\n",
              "      --disabled-bg-color: #3B4455;\n",
              "      --disabled-fill-color: #666;\n",
              "  }\n",
              "\n",
              "  .colab-df-quickchart {\n",
              "    background-color: var(--bg-color);\n",
              "    border: none;\n",
              "    border-radius: 50%;\n",
              "    cursor: pointer;\n",
              "    display: none;\n",
              "    fill: var(--fill-color);\n",
              "    height: 32px;\n",
              "    padding: 0;\n",
              "    width: 32px;\n",
              "  }\n",
              "\n",
              "  .colab-df-quickchart:hover {\n",
              "    background-color: var(--hover-bg-color);\n",
              "    box-shadow: 0 1px 2px rgba(60, 64, 67, 0.3), 0 1px 3px 1px rgba(60, 64, 67, 0.15);\n",
              "    fill: var(--button-hover-fill-color);\n",
              "  }\n",
              "\n",
              "  .colab-df-quickchart-complete:disabled,\n",
              "  .colab-df-quickchart-complete:disabled:hover {\n",
              "    background-color: var(--disabled-bg-color);\n",
              "    fill: var(--disabled-fill-color);\n",
              "    box-shadow: none;\n",
              "  }\n",
              "\n",
              "  .colab-df-spinner {\n",
              "    border: 2px solid var(--fill-color);\n",
              "    border-color: transparent;\n",
              "    border-bottom-color: var(--fill-color);\n",
              "    animation:\n",
              "      spin 1s steps(1) infinite;\n",
              "  }\n",
              "\n",
              "  @keyframes spin {\n",
              "    0% {\n",
              "      border-color: transparent;\n",
              "      border-bottom-color: var(--fill-color);\n",
              "      border-left-color: var(--fill-color);\n",
              "    }\n",
              "    20% {\n",
              "      border-color: transparent;\n",
              "      border-left-color: var(--fill-color);\n",
              "      border-top-color: var(--fill-color);\n",
              "    }\n",
              "    30% {\n",
              "      border-color: transparent;\n",
              "      border-left-color: var(--fill-color);\n",
              "      border-top-color: var(--fill-color);\n",
              "      border-right-color: var(--fill-color);\n",
              "    }\n",
              "    40% {\n",
              "      border-color: transparent;\n",
              "      border-right-color: var(--fill-color);\n",
              "      border-top-color: var(--fill-color);\n",
              "    }\n",
              "    60% {\n",
              "      border-color: transparent;\n",
              "      border-right-color: var(--fill-color);\n",
              "    }\n",
              "    80% {\n",
              "      border-color: transparent;\n",
              "      border-right-color: var(--fill-color);\n",
              "      border-bottom-color: var(--fill-color);\n",
              "    }\n",
              "    90% {\n",
              "      border-color: transparent;\n",
              "      border-bottom-color: var(--fill-color);\n",
              "    }\n",
              "  }\n",
              "</style>\n",
              "\n",
              "  <script>\n",
              "    async function quickchart(key) {\n",
              "      const quickchartButtonEl =\n",
              "        document.querySelector('#' + key + ' button');\n",
              "      quickchartButtonEl.disabled = true;  // To prevent multiple clicks.\n",
              "      quickchartButtonEl.classList.add('colab-df-spinner');\n",
              "      try {\n",
              "        const charts = await google.colab.kernel.invokeFunction(\n",
              "            'suggestCharts', [key], {});\n",
              "      } catch (error) {\n",
              "        console.error('Error during call to suggestCharts:', error);\n",
              "      }\n",
              "      quickchartButtonEl.classList.remove('colab-df-spinner');\n",
              "      quickchartButtonEl.classList.add('colab-df-quickchart-complete');\n",
              "    }\n",
              "    (() => {\n",
              "      let quickchartButtonEl =\n",
              "        document.querySelector('#df-98a3f42a-1b51-4454-985a-f7e17542088c button');\n",
              "      quickchartButtonEl.style.display =\n",
              "        google.colab.kernel.accessAllowed ? 'block' : 'none';\n",
              "    })();\n",
              "  </script>\n",
              "</div>\n",
              "\n",
              "    </div>\n",
              "  </div>\n"
            ]
          },
          "metadata": {},
          "execution_count": 34
        }
      ]
    },
    {
      "cell_type": "code",
      "source": [
        "#Creamos la lista sin la variable predictora\n",
        "cat_vars = df[[\"BusinessTravel\", \"Department\", \"EducationField\", \"Gender\", \"JobRole\", \"MaritalStatus\", \"Over18\", \"OverTime\"]]"
      ],
      "metadata": {
        "id": "izkuFCb1K3pW"
      },
      "id": "izkuFCb1K3pW",
      "execution_count": 38,
      "outputs": []
    },
    {
      "cell_type": "markdown",
      "source": [
        "Creamos graficas de barras para analizar como las diferentes opciones categoricas de cada variable se ven afectadas por Attrition"
      ],
      "metadata": {
        "id": "axvBJ8t4K8Gy"
      },
      "id": "axvBJ8t4K8Gy"
    },
    {
      "cell_type": "code",
      "source": [
        "#Crear figuras con subplots\n",
        "fig, axs = plt.subplots(nrows=2, ncols=4, figsize = (20, 10))\n",
        "axs = axs.flatten()\n",
        "\n",
        "#Crear un countplot para cada variable categorica\n",
        "for i, var in enumerate (cat_vars):\n",
        "    sns.countplot(x=var, hue=\"Attrition\", data = df_categoricos, ax=axs[i])\n",
        "    axs[i].set_xticklabels(axs[i].get_xticklabels(), rotation = 90)\n",
        "\n",
        "#Ajustar espacio entre subplots\n",
        "fig.tight_layout()\n",
        "\n",
        "#Mostrar el plot\n",
        "plt.show()"
      ],
      "metadata": {
        "colab": {
          "base_uri": "https://localhost:8080/",
          "height": 1000
        },
        "id": "a60PDm0ZJOoP",
        "outputId": "2a178eec-c6c6-438e-c87d-2e7e2db66cb4"
      },
      "id": "a60PDm0ZJOoP",
      "execution_count": 39,
      "outputs": [
        {
          "output_type": "display_data",
          "data": {
            "text/plain": [
              "<Figure size 2000x1000 with 8 Axes>"
            ],
            "image/png": "[encoded data removed]"
          },
          "metadata": {}
        }
      ]
    },
    {
      "cell_type": "markdown",
      "source": [
        "Creamos histogramas para analizar como las diferentes opciones categoricas de cada variable se ven afectadas por Attrition de un ángulo diferente"
      ],
      "metadata": {
        "id": "Jq1NVvn2LKmX"
      },
      "id": "Jq1NVvn2LKmX"
    },
    {
      "cell_type": "code",
      "source": [
        "#Crear figuras con subplots\n",
        "fig, axs = plt.subplots(nrows=2, ncols=4, figsize=(20, 10))\n",
        "axs = axs.flatten()\n",
        "\n",
        "#Crear histogramas para cada variable categorica\n",
        "for i, var in enumerate (cat_vars):\n",
        "    sns.histplot(x=var, hue=\"Attrition\", data = df_categoricos, ax=axs[i], multiple = \"fill\", kde = False, element = \"bars\", fill= True, stat = \"density\")\n",
        "    axs[i].set_xticklabels(df_categoricos[var].unique(), rotation=90)\n",
        "    axs[i].set_xlabel(var)\n",
        "\n",
        "#Ajustar el especio entre subplots\n",
        "fig.tight_layout()\n",
        "\n",
        "#Mostrar el plot\n",
        "plt.show()"
      ],
      "metadata": {
        "colab": {
          "base_uri": "https://localhost:8080/",
          "height": 1000
        },
        "id": "XbLtWqphKuFJ",
        "outputId": "9bf0460d-6d8f-4e52-ef86-9e014b565287"
      },
      "id": "XbLtWqphKuFJ",
      "execution_count": 41,
      "outputs": [
        {
          "output_type": "display_data",
          "data": {
            "text/plain": [
              "<Figure size 2000x1000 with 8 Axes>"
            ],
            "image/png": "[encoded data removed]"
          },
          "metadata": {}
        }
      ]
    },
    {
      "cell_type": "markdown",
      "source": [
        "\n",
        "Conclusiones de variables categóricas:\n",
        "\n",
        "1.   Podemos entender que la columna Over18, no tiene significancia para nuestro analisis y podremos eliminarlo de la base de datos.\n",
        "2.   prácticamente el Genero también muestra que tanto hombres y mujeres renuncian casi en idéntica proporción, sin embargo la conservaremos para futuros análisis y filtrados.\n",
        "3.   Se observa que los representantes de ventas son los que más renuncian, seguido de personal de RH y técnicos de laboratorios.\n",
        "4.   Impresionantemente los Manager y Directores de Investigación son los que menos renuncian, lo que nos da pistas que otros renuncien y no managers muestra una lógica extraña.\n",
        "5.   También observamos que los solteros son quienes más renuncian y tiene sentido debido a que pueden tomar más riesgos por no tener la misma responsabilidad como los casados y divorciados.\n",
        "6.   Por otra parte observamos que entre más se viaja más probabilidad tienen de renunciar."
      ],
      "metadata": {
        "id": "dyY1QexmLn7e"
      },
      "id": "dyY1QexmLn7e"
    },
    {
      "cell_type": "markdown",
      "source": [
        "Hacemos un análisis exploratorio de los datos Numéricos"
      ],
      "metadata": {
        "id": "L8jK9__MRDIh"
      },
      "id": "L8jK9__MRDIh"
    },
    {
      "cell_type": "code",
      "source": [
        "#Seleccionar datos númericos\n",
        "df_numericos = df[[\"Age\", \"DailyRate\", \"DistanceFromHome\", \"Education\", \"EmployeeCount\", \"EmployeeNumber\", \"EnvironmentSatisfaction\",\n",
        "                           \"HourlyRate\", \"JobInvolvement\", \"JobLevel\", \"JobSatisfaction\", \"MonthlyIncome\", \"MonthlyRate\", \"NumCompaniesWorked\",\n",
        "                           \"PercentSalaryHike\", \"PerformanceRating\", \"RelationshipSatisfaction\", \"StandardHours\", \"StockOptionLevel\",\n",
        "                           \"TotalWorkingYears\", \"TrainingTimesLastYear\", \"WorkLifeBalance\", \"YearsAtCompany\", \"YearsInCurrentRole\",\n",
        "                           \"YearsSinceLastPromotion\", \"YearsWithCurrManager\"]]\n",
        "df_numericos.head()"
      ],
      "metadata": {
        "colab": {
          "base_uri": "https://localhost:8080/",
          "height": 226
        },
        "id": "oQvqXmYAILfR",
        "outputId": "b572b916-e46d-4664-a14b-6ed5a7e99a70"
      },
      "id": "oQvqXmYAILfR",
      "execution_count": 35,
      "outputs": [
        {
          "output_type": "execute_result",
          "data": {
            "text/plain": [
              "   Age  DailyRate  DistanceFromHome  Education  EmployeeCount  EmployeeNumber  \\\n",
              "0   41       1102                 1          2              1               1   \n",
              "1   49        279                 8          1              1               2   \n",
              "2   37       1373                 2          2              1               4   \n",
              "3   33       1392                 3          4              1               5   \n",
              "4   27        591                 2          1              1               7   \n",
              "\n",
              "   EnvironmentSatisfaction  HourlyRate  JobInvolvement  JobLevel  \\\n",
              "0                        2          94               3         2   \n",
              "1                        3          61               2         2   \n",
              "2                        4          92               2         1   \n",
              "3                        4          56               3         1   \n",
              "4                        1          40               3         1   \n",
              "\n",
              "   JobSatisfaction  MonthlyIncome  MonthlyRate  NumCompaniesWorked  \\\n",
              "0                4           5993        19479                   8   \n",
              "1                2           5130        24907                   1   \n",
              "2                3           2090         2396                   6   \n",
              "3                3           2909        23159                   1   \n",
              "4                2           3468        16632                   9   \n",
              "\n",
              "   PercentSalaryHike  PerformanceRating  RelationshipSatisfaction  \\\n",
              "0                 11                  3                         1   \n",
              "1                 23                  4                         4   \n",
              "2                 15                  3                         2   \n",
              "3                 11                  3                         3   \n",
              "4                 12                  3                         4   \n",
              "\n",
              "   StandardHours  StockOptionLevel  TotalWorkingYears  TrainingTimesLastYear  \\\n",
              "0             80                 0                  8                      0   \n",
              "1             80                 1                 10                      3   \n",
              "2             80                 0                  7                      3   \n",
              "3             80                 0                  8                      3   \n",
              "4             80                 1                  6                      3   \n",
              "\n",
              "   WorkLifeBalance  YearsAtCompany  YearsInCurrentRole  \\\n",
              "0                1               6                   4   \n",
              "1                3              10                   7   \n",
              "2                3               0                   0   \n",
              "3                3               8                   7   \n",
              "4                3               2                   2   \n",
              "\n",
              "   YearsSinceLastPromotion  YearsWithCurrManager  \n",
              "0                        0                     5  \n",
              "1                        1                     7  \n",
              "2                        0                     0  \n",
              "3                        3                     0  \n",
              "4                        2                     2  "
            ],
            "text/html": [
              "\n",
              "  <div id=\"df-972e6a51-6a3c-4049-81bf-dddb49c8b665\" class=\"colab-df-container\">\n",
              "    <div>\n",
              "<style scoped>\n",
              "    .dataframe tbody tr th:only-of-type {\n",
              "        vertical-align: middle;\n",
              "    }\n",
              "\n",
              "    .dataframe tbody tr th {\n",
              "        vertical-align: top;\n",
              "    }\n",
              "\n",
              "    .dataframe thead th {\n",
              "        text-align: right;\n",
              "    }\n",
              "</style>\n",
              "<table border=\"1\" class=\"dataframe\">\n",
              "  <thead>\n",
              "    <tr style=\"text-align: right;\">\n",
              "      <th></th>\n",
              "      <th>Age</th>\n",
              "      <th>DailyRate</th>\n",
              "      <th>DistanceFromHome</th>\n",
              "      <th>Education</th>\n",
              "      <th>EmployeeCount</th>\n",
              "      <th>EmployeeNumber</th>\n",
              "      <th>EnvironmentSatisfaction</th>\n",
              "      <th>HourlyRate</th>\n",
              "      <th>JobInvolvement</th>\n",
              "      <th>JobLevel</th>\n",
              "      <th>JobSatisfaction</th>\n",
              "      <th>MonthlyIncome</th>\n",
              "      <th>MonthlyRate</th>\n",
              "      <th>NumCompaniesWorked</th>\n",
              "      <th>PercentSalaryHike</th>\n",
              "      <th>PerformanceRating</th>\n",
              "      <th>RelationshipSatisfaction</th>\n",
              "      <th>StandardHours</th>\n",
              "      <th>StockOptionLevel</th>\n",
              "      <th>TotalWorkingYears</th>\n",
              "      <th>TrainingTimesLastYear</th>\n",
              "      <th>WorkLifeBalance</th>\n",
              "      <th>YearsAtCompany</th>\n",
              "      <th>YearsInCurrentRole</th>\n",
              "      <th>YearsSinceLastPromotion</th>\n",
              "      <th>YearsWithCurrManager</th>\n",
              "    </tr>\n",
              "  </thead>\n",
              "  <tbody>\n",
              "    <tr>\n",
              "      <th>0</th>\n",
              "      <td>41</td>\n",
              "      <td>1102</td>\n",
              "      <td>1</td>\n",
              "      <td>2</td>\n",
              "      <td>1</td>\n",
              "      <td>1</td>\n",
              "      <td>2</td>\n",
              "      <td>94</td>\n",
              "      <td>3</td>\n",
              "      <td>2</td>\n",
              "      <td>4</td>\n",
              "      <td>5993</td>\n",
              "      <td>19479</td>\n",
              "      <td>8</td>\n",
              "      <td>11</td>\n",
              "      <td>3</td>\n",
              "      <td>1</td>\n",
              "      <td>80</td>\n",
              "      <td>0</td>\n",
              "      <td>8</td>\n",
              "      <td>0</td>\n",
              "      <td>1</td>\n",
              "      <td>6</td>\n",
              "      <td>4</td>\n",
              "      <td>0</td>\n",
              "      <td>5</td>\n",
              "    </tr>\n",
              "    <tr>\n",
              "      <th>1</th>\n",
              "      <td>49</td>\n",
              "      <td>279</td>\n",
              "      <td>8</td>\n",
              "      <td>1</td>\n",
              "      <td>1</td>\n",
              "      <td>2</td>\n",
              "      <td>3</td>\n",
              "      <td>61</td>\n",
              "      <td>2</td>\n",
              "      <td>2</td>\n",
              "      <td>2</td>\n",
              "      <td>5130</td>\n",
              "      <td>24907</td>\n",
              "      <td>1</td>\n",
              "      <td>23</td>\n",
              "      <td>4</td>\n",
              "      <td>4</td>\n",
              "      <td>80</td>\n",
              "      <td>1</td>\n",
              "      <td>10</td>\n",
              "      <td>3</td>\n",
              "      <td>3</td>\n",
              "      <td>10</td>\n",
              "      <td>7</td>\n",
              "      <td>1</td>\n",
              "      <td>7</td>\n",
              "    </tr>\n",
              "    <tr>\n",
              "      <th>2</th>\n",
              "      <td>37</td>\n",
              "      <td>1373</td>\n",
              "      <td>2</td>\n",
              "      <td>2</td>\n",
              "      <td>1</td>\n",
              "      <td>4</td>\n",
              "      <td>4</td>\n",
              "      <td>92</td>\n",
              "      <td>2</td>\n",
              "      <td>1</td>\n",
              "      <td>3</td>\n",
              "      <td>2090</td>\n",
              "      <td>2396</td>\n",
              "      <td>6</td>\n",
              "      <td>15</td>\n",
              "      <td>3</td>\n",
              "      <td>2</td>\n",
              "      <td>80</td>\n",
              "      <td>0</td>\n",
              "      <td>7</td>\n",
              "      <td>3</td>\n",
              "      <td>3</td>\n",
              "      <td>0</td>\n",
              "      <td>0</td>\n",
              "      <td>0</td>\n",
              "      <td>0</td>\n",
              "    </tr>\n",
              "    <tr>\n",
              "      <th>3</th>\n",
              "      <td>33</td>\n",
              "      <td>1392</td>\n",
              "      <td>3</td>\n",
              "      <td>4</td>\n",
              "      <td>1</td>\n",
              "      <td>5</td>\n",
              "      <td>4</td>\n",
              "      <td>56</td>\n",
              "      <td>3</td>\n",
              "      <td>1</td>\n",
              "      <td>3</td>\n",
              "      <td>2909</td>\n",
              "      <td>23159</td>\n",
              "      <td>1</td>\n",
              "      <td>11</td>\n",
              "      <td>3</td>\n",
              "      <td>3</td>\n",
              "      <td>80</td>\n",
              "      <td>0</td>\n",
              "      <td>8</td>\n",
              "      <td>3</td>\n",
              "      <td>3</td>\n",
              "      <td>8</td>\n",
              "      <td>7</td>\n",
              "      <td>3</td>\n",
              "      <td>0</td>\n",
              "    </tr>\n",
              "    <tr>\n",
              "      <th>4</th>\n",
              "      <td>27</td>\n",
              "      <td>591</td>\n",
              "      <td>2</td>\n",
              "      <td>1</td>\n",
              "      <td>1</td>\n",
              "      <td>7</td>\n",
              "      <td>1</td>\n",
              "      <td>40</td>\n",
              "      <td>3</td>\n",
              "      <td>1</td>\n",
              "      <td>2</td>\n",
              "      <td>3468</td>\n",
              "      <td>16632</td>\n",
              "      <td>9</td>\n",
              "      <td>12</td>\n",
              "      <td>3</td>\n",
              "      <td>4</td>\n",
              "      <td>80</td>\n",
              "      <td>1</td>\n",
              "      <td>6</td>\n",
              "      <td>3</td>\n",
              "      <td>3</td>\n",
              "      <td>2</td>\n",
              "      <td>2</td>\n",
              "      <td>2</td>\n",
              "      <td>2</td>\n",
              "    </tr>\n",
              "  </tbody>\n",
              "</table>\n",
              "</div>\n",
              "    <div class=\"colab-df-buttons\">\n",
              "\n",
              "  <div class=\"colab-df-container\">\n",
              "    <button class=\"colab-df-convert\" onclick=\"convertToInteractive('df-972e6a51-6a3c-4049-81bf-dddb49c8b665')\"\n",
              "            title=\"Convert this dataframe to an interactive table.\"\n",
              "            style=\"display:none;\">\n",
              "\n",
              "  <svg xmlns=\"http://www.w3.org/2000/svg\" height=\"24px\" viewBox=\"0 -960 960 960\">\n",
              "    <path d=\"M120-120v-720h720v720H120Zm60-500h600v-160H180v160Zm220 220h160v-160H400v160Zm0 220h160v-160H400v160ZM180-400h160v-160H180v160Zm440 0h160v-160H620v160ZM180-180h160v-160H180v160Zm440 0h160v-160H620v160Z\"/>\n",
              "  </svg>\n",
              "    </button>\n",
              "\n",
              "  <style>\n",
              "    .colab-df-container {\n",
              "      display:flex;\n",
              "      gap: 12px;\n",
              "    }\n",
              "\n",
              "    .colab-df-convert {\n",
              "      background-color: #E8F0FE;\n",
              "      border: none;\n",
              "      border-radius: 50%;\n",
              "      cursor: pointer;\n",
              "      display: none;\n",
              "      fill: #1967D2;\n",
              "      height: 32px;\n",
              "      padding: 0 0 0 0;\n",
              "      width: 32px;\n",
              "    }\n",
              "\n",
              "    .colab-df-convert:hover {\n",
              "      background-color: #E2EBFA;\n",
              "      box-shadow: 0px 1px 2px rgba(60, 64, 67, 0.3), 0px 1px 3px 1px rgba(60, 64, 67, 0.15);\n",
              "      fill: #174EA6;\n",
              "    }\n",
              "\n",
              "    .colab-df-buttons div {\n",
              "      margin-bottom: 4px;\n",
              "    }\n",
              "\n",
              "    [theme=dark] .colab-df-convert {\n",
              "      background-color: #3B4455;\n",
              "      fill: #D2E3FC;\n",
              "    }\n",
              "\n",
              "    [theme=dark] .colab-df-convert:hover {\n",
              "      background-color: #434B5C;\n",
              "      box-shadow: 0px 1px 3px 1px rgba(0, 0, 0, 0.15);\n",
              "      filter: drop-shadow(0px 1px 2px rgba(0, 0, 0, 0.3));\n",
              "      fill: #FFFFFF;\n",
              "    }\n",
              "  </style>\n",
              "\n",
              "    <script>\n",
              "      const buttonEl =\n",
              "        document.querySelector('#df-972e6a51-6a3c-4049-81bf-dddb49c8b665 button.colab-df-convert');\n",
              "      buttonEl.style.display =\n",
              "        google.colab.kernel.accessAllowed ? 'block' : 'none';\n",
              "\n",
              "      async function convertToInteractive(key) {\n",
              "        const element = document.querySelector('#df-972e6a51-6a3c-4049-81bf-dddb49c8b665');\n",
              "        const dataTable =\n",
              "          await google.colab.kernel.invokeFunction('convertToInteractive',\n",
              "                                                    [key], {});\n",
              "        if (!dataTable) return;\n",
              "\n",
              "        const docLinkHtml = 'Like what you see? Visit the ' +\n",
              "          '<a target=\"_blank\" href=https://colab.research.google.com/notebooks/data_table.ipynb>data table notebook</a>'\n",
              "          + ' to learn more about interactive tables.';\n",
              "        element.innerHTML = '';\n",
              "        dataTable['output_type'] = 'display_data';\n",
              "        await google.colab.output.renderOutput(dataTable, element);\n",
              "        const docLink = document.createElement('div');\n",
              "        docLink.innerHTML = docLinkHtml;\n",
              "        element.appendChild(docLink);\n",
              "      }\n",
              "    </script>\n",
              "  </div>\n",
              "\n",
              "\n",
              "<div id=\"df-1b7fbeff-226a-4244-bc58-303b50b7ac5b\">\n",
              "  <button class=\"colab-df-quickchart\" onclick=\"quickchart('df-1b7fbeff-226a-4244-bc58-303b50b7ac5b')\"\n",
              "            title=\"Suggest charts\"\n",
              "            style=\"display:none;\">\n",
              "\n",
              "<svg xmlns=\"http://www.w3.org/2000/svg\" height=\"24px\"viewBox=\"0 0 24 24\"\n",
              "     width=\"24px\">\n",
              "    <g>\n",
              "        <path d=\"M19 3H5c-1.1 0-2 .9-2 2v14c0 1.1.9 2 2 2h14c1.1 0 2-.9 2-2V5c0-1.1-.9-2-2-2zM9 17H7v-7h2v7zm4 0h-2V7h2v10zm4 0h-2v-4h2v4z\"/>\n",
              "    </g>\n",
              "</svg>\n",
              "  </button>\n",
              "\n",
              "<style>\n",
              "  .colab-df-quickchart {\n",
              "      --bg-color: #E8F0FE;\n",
              "      --fill-color: #1967D2;\n",
              "      --hover-bg-color: #E2EBFA;\n",
              "      --hover-fill-color: #174EA6;\n",
              "      --disabled-fill-color: #AAA;\n",
              "      --disabled-bg-color: #DDD;\n",
              "  }\n",
              "\n",
              "  [theme=dark] .colab-df-quickchart {\n",
              "      --bg-color: #3B4455;\n",
              "      --fill-color: #D2E3FC;\n",
              "      --hover-bg-color: #434B5C;\n",
              "      --hover-fill-color: #FFFFFF;\n",
              "      --disabled-bg-color: #3B4455;\n",
              "      --disabled-fill-color: #666;\n",
              "  }\n",
              "\n",
              "  .colab-df-quickchart {\n",
              "    background-color: var(--bg-color);\n",
              "    border: none;\n",
              "    border-radius: 50%;\n",
              "    cursor: pointer;\n",
              "    display: none;\n",
              "    fill: var(--fill-color);\n",
              "    height: 32px;\n",
              "    padding: 0;\n",
              "    width: 32px;\n",
              "  }\n",
              "\n",
              "  .colab-df-quickchart:hover {\n",
              "    background-color: var(--hover-bg-color);\n",
              "    box-shadow: 0 1px 2px rgba(60, 64, 67, 0.3), 0 1px 3px 1px rgba(60, 64, 67, 0.15);\n",
              "    fill: var(--button-hover-fill-color);\n",
              "  }\n",
              "\n",
              "  .colab-df-quickchart-complete:disabled,\n",
              "  .colab-df-quickchart-complete:disabled:hover {\n",
              "    background-color: var(--disabled-bg-color);\n",
              "    fill: var(--disabled-fill-color);\n",
              "    box-shadow: none;\n",
              "  }\n",
              "\n",
              "  .colab-df-spinner {\n",
              "    border: 2px solid var(--fill-color);\n",
              "    border-color: transparent;\n",
              "    border-bottom-color: var(--fill-color);\n",
              "    animation:\n",
              "      spin 1s steps(1) infinite;\n",
              "  }\n",
              "\n",
              "  @keyframes spin {\n",
              "    0% {\n",
              "      border-color: transparent;\n",
              "      border-bottom-color: var(--fill-color);\n",
              "      border-left-color: var(--fill-color);\n",
              "    }\n",
              "    20% {\n",
              "      border-color: transparent;\n",
              "      border-left-color: var(--fill-color);\n",
              "      border-top-color: var(--fill-color);\n",
              "    }\n",
              "    30% {\n",
              "      border-color: transparent;\n",
              "      border-left-color: var(--fill-color);\n",
              "      border-top-color: var(--fill-color);\n",
              "      border-right-color: var(--fill-color);\n",
              "    }\n",
              "    40% {\n",
              "      border-color: transparent;\n",
              "      border-right-color: var(--fill-color);\n",
              "      border-top-color: var(--fill-color);\n",
              "    }\n",
              "    60% {\n",
              "      border-color: transparent;\n",
              "      border-right-color: var(--fill-color);\n",
              "    }\n",
              "    80% {\n",
              "      border-color: transparent;\n",
              "      border-right-color: var(--fill-color);\n",
              "      border-bottom-color: var(--fill-color);\n",
              "    }\n",
              "    90% {\n",
              "      border-color: transparent;\n",
              "      border-bottom-color: var(--fill-color);\n",
              "    }\n",
              "  }\n",
              "</style>\n",
              "\n",
              "  <script>\n",
              "    async function quickchart(key) {\n",
              "      const quickchartButtonEl =\n",
              "        document.querySelector('#' + key + ' button');\n",
              "      quickchartButtonEl.disabled = true;  // To prevent multiple clicks.\n",
              "      quickchartButtonEl.classList.add('colab-df-spinner');\n",
              "      try {\n",
              "        const charts = await google.colab.kernel.invokeFunction(\n",
              "            'suggestCharts', [key], {});\n",
              "      } catch (error) {\n",
              "        console.error('Error during call to suggestCharts:', error);\n",
              "      }\n",
              "      quickchartButtonEl.classList.remove('colab-df-spinner');\n",
              "      quickchartButtonEl.classList.add('colab-df-quickchart-complete');\n",
              "    }\n",
              "    (() => {\n",
              "      let quickchartButtonEl =\n",
              "        document.querySelector('#df-1b7fbeff-226a-4244-bc58-303b50b7ac5b button');\n",
              "      quickchartButtonEl.style.display =\n",
              "        google.colab.kernel.accessAllowed ? 'block' : 'none';\n",
              "    })();\n",
              "  </script>\n",
              "</div>\n",
              "\n",
              "    </div>\n",
              "  </div>\n"
            ]
          },
          "metadata": {},
          "execution_count": 35
        }
      ]
    },
    {
      "cell_type": "code",
      "source": [
        "num_vars = df[[\"Age\", \"DailyRate\", \"DistanceFromHome\", \"Education\", \"EmployeeCount\", \"EmployeeNumber\", \"EnvironmentSatisfaction\",\n",
        "                           \"HourlyRate\", \"JobInvolvement\", \"JobLevel\", \"JobSatisfaction\", \"MonthlyIncome\", \"MonthlyRate\", \"NumCompaniesWorked\",\n",
        "                           \"PercentSalaryHike\", \"PerformanceRating\", \"RelationshipSatisfaction\", \"StandardHours\", \"StockOptionLevel\",\n",
        "                           \"TotalWorkingYears\", \"TrainingTimesLastYear\", \"WorkLifeBalance\", \"YearsAtCompany\", \"YearsInCurrentRole\",\n",
        "                           \"YearsSinceLastPromotion\", \"YearsWithCurrManager\"]]"
      ],
      "metadata": {
        "id": "qsK818dqSLXT"
      },
      "id": "qsK818dqSLXT",
      "execution_count": 49,
      "outputs": []
    },
    {
      "cell_type": "code",
      "source": [
        "fig, axs = plt.subplots(nrows=5, ncols=6, figsize=(20, 10))\n",
        "axs = axs.flatten()\n",
        "\n",
        "for i, var in enumerate(num_vars):\n",
        "    sns.boxplot(x=var, data=df, ax=axs[i])\n",
        "\n",
        "fig.tight_layout()\n",
        "\n",
        "plt.show()"
      ],
      "metadata": {
        "colab": {
          "base_uri": "https://localhost:8080/",
          "height": 1000
        },
        "id": "jLF3vs-rRQeh",
        "outputId": "21f634b2-f7af-4ed6-bcce-d35de53d85d5"
      },
      "id": "jLF3vs-rRQeh",
      "execution_count": 51,
      "outputs": [
        {
          "output_type": "display_data",
          "data": {
            "text/plain": [
              "<Figure size 2000x1000 with 30 Axes>"
            ],
            "image/png": "[encoded data removed]"
          },
          "metadata": {}
        }
      ]
    },
    {
      "cell_type": "markdown",
      "source": [
        "**c) Realiza el análisis que consideres adecuado para los datos de tipo numérico y con base a ello y evitando el filtrado de información (data-leakage), aplica las transformaciones que consideras adecuadas a los tres conjuntos . Indica cuáles fueron estas variables y explica el porqué de las transformaciones que aplicaste, en caso de haber aplicado alguna.**"
      ],
      "metadata": {
        "id": "PafF98AWwSDD"
      },
      "id": "PafF98AWwSDD"
    },
    {
      "cell_type": "markdown",
      "source": [
        "**d) Realiza el análisis que consideres adecuado para los datos de tipo categórico binario y con base a ello y evitando el filtrado de información, aplica la transformación LabelEncoder() de sklearn a estas variables.**"
      ],
      "metadata": {
        "id": "Dk1GPrP9wV4a"
      },
      "id": "Dk1GPrP9wV4a"
    },
    {
      "cell_type": "markdown",
      "source": [
        "**e) Realiza el análisis que consideres adecuado para los datos de tipo categórico nominal y con base a ello, aplica la transformación llamada get_dummies() de Pandas a dichas variables. Usa además el argumento “drop_first” para generar “k-1” variables “dummies” a partir de los “k” niveles de cada variable nominal.**"
      ],
      "metadata": {
        "id": "HQt6DZ7CwbRi"
      },
      "id": "HQt6DZ7CwbRi"
    },
    {
      "cell_type": "markdown",
      "source": [
        "**f) Realiza una inspección de las variables categóricas ordinales y determina qué transformaciones aplicar, en caso de aplicar alguna. Indica cuáles son estas variables y justifica la decisión que tomes.**"
      ],
      "metadata": {
        "id": "xaK_EmIKwf0s"
      },
      "id": "xaK_EmIKwf0s"
    },
    {
      "cell_type": "markdown",
      "source": [
        "### **PARTE 2: Análisis exploratorio entre factores**"
      ],
      "metadata": {
        "id": "2XRXCDFqwlpP"
      },
      "id": "2XRXCDFqwlpP"
    },
    {
      "cell_type": "markdown",
      "source": [
        "#### **3) Se pueden analizar una buena cantidad relaciones entre los factores y la variable de salida “Attrition” (la decisión de dejar un puesto). A manera de ejemplos, obtener solo algunas de estas relaciones gráficas:**\n"
      ],
      "metadata": {
        "id": "7ObWj5n3wphT"
      },
      "id": "7ObWj5n3wphT"
    },
    {
      "cell_type": "markdown",
      "source": [
        "**a) Las variables “Age” y “Attrition”.**"
      ],
      "metadata": {
        "id": "3rhBCWRewtlh"
      },
      "id": "3rhBCWRewtlh"
    },
    {
      "cell_type": "markdown",
      "source": [
        "**b) Las variables “Department” y “Attrition”.**"
      ],
      "metadata": {
        "id": "_AEzcdsMwvVe"
      },
      "id": "_AEzcdsMwvVe"
    },
    {
      "cell_type": "markdown",
      "source": [
        "**c) Las variables “Gender” y “Attrition”.**"
      ],
      "metadata": {
        "id": "mzJG7Kxbwwtr"
      },
      "id": "mzJG7Kxbwwtr"
    },
    {
      "cell_type": "markdown",
      "source": [
        "**d) Incluye alguna otra relación o relaciones que consideres relevantes.**\n"
      ],
      "metadata": {
        "id": "duG500BFwywA"
      },
      "id": "duG500BFwywA"
    },
    {
      "cell_type": "markdown",
      "source": [
        "**e) Con base a los gráficos anteriores ¿qué conclusiones puedes generar para entender mejor el problema?**"
      ],
      "metadata": {
        "id": "uFZju_rUwzt7"
      },
      "id": "uFZju_rUwzt7"
    },
    {
      "cell_type": "markdown",
      "source": [
        "*NOTA: Puedes seleccionar el tipo de gráfico que consideres más adecuado, de acuerdo al tipo de variables que estás considerando.*"
      ],
      "metadata": {
        "id": "gsGJ9n4Tw3WB"
      },
      "id": "gsGJ9n4Tw3WB"
    },
    {
      "cell_type": "markdown",
      "source": [
        "### **PARTE 3: Modelado**"
      ],
      "metadata": {
        "id": "T0wXZE4tw7X_"
      },
      "id": "T0wXZE4tw7X_"
    },
    {
      "cell_type": "markdown",
      "source": [
        "#### **4) Utiliza los conjuntos de entrenamiento y validación para generar el mejor modelo no sobreentrenado de regresión logística usando la función LogisticRegression() de sklearn.**"
      ],
      "metadata": {
        "id": "Ad7Y3gDgxA_p"
      },
      "id": "Ad7Y3gDgxA_p"
    },
    {
      "cell_type": "markdown",
      "source": [
        "**a) Despliega los valores de la exactitud (accuracy) de los conjuntos de Entrenamiento y Validación.**"
      ],
      "metadata": {
        "id": "4VayCXdrxM0I"
      },
      "id": "4VayCXdrxM0I"
    },
    {
      "cell_type": "markdown",
      "source": [
        "**b) Utiliza los datos de validación para desplegar la matriz de confusión y el reporte dado por la función classification_report() de sklearn del mejor modelo obtenido.**"
      ],
      "metadata": {
        "id": "qvo-RhT0xPro"
      },
      "id": "qvo-RhT0xPro"
    },
    {
      "cell_type": "markdown",
      "source": [
        "**c) Con base a estos resultados, ¿podemos decir que el modelo está subentrenado (underfitting)? ¿o sobreentrenado (overfitting)? Justifica tu respuesta.**"
      ],
      "metadata": {
        "id": "affPIuB3xR4R"
      },
      "id": "affPIuB3xR4R"
    },
    {
      "cell_type": "markdown",
      "source": [
        "**d) ¿Consideras que tenemos un problema desbalanceado? Justifica tu respuesta.**"
      ],
      "metadata": {
        "id": "VpDfj5rzxUPa"
      },
      "id": "VpDfj5rzxUPa"
    },
    {
      "cell_type": "markdown",
      "source": [
        "**e) Interpreta el valor numérico de la “precisión” de la clase positiva en el contexto del problema de rotación de personal.**"
      ],
      "metadata": {
        "id": "xYXo6EUcxVsO"
      },
      "id": "xYXo6EUcxVsO"
    },
    {
      "cell_type": "markdown",
      "source": [
        "**f) Interpreta el valor numérico del “recall” de la clase positiva en el contexto del problema.**"
      ],
      "metadata": {
        "id": "02zXjdecxXcx"
      },
      "id": "02zXjdecxXcx"
    },
    {
      "cell_type": "markdown",
      "source": [
        "**g) Con base al contexto de este problema de rotación de personal, ¿cuál de las métricas, “precision” o “recall” consideras que es más importante disminuir su valor. Es decir, si no se puede disminuir el valor de ambos al mismo tiempo y debieras sacrificar uno de ellos, ¿cuál sería el que buscarías que fuera más cercano a cero? Justifica tu respuesta con base al contexto del problema.**"
      ],
      "metadata": {
        "id": "n7yUzqEfxYzf"
      },
      "id": "n7yUzqEfxYzf"
    },
    {
      "cell_type": "markdown",
      "source": [
        "#### **5) Utiliza los conjuntos de entrenamiento y validación para generar el mejor modelo no sobreentrenado de los vecinos más cercanos kNN, usando la función KNeighborsClassifier() de sklearn.**"
      ],
      "metadata": {
        "id": "wcX5SeVBxbqg"
      },
      "id": "wcX5SeVBxbqg"
    },
    {
      "cell_type": "markdown",
      "source": [
        "**a) Despliega los valores de la exactitud (accuracy) de los conjuntos de Entrenamiento y Validación.**"
      ],
      "metadata": {
        "id": "1r2IEIE5xf17"
      },
      "id": "1r2IEIE5xf17"
    },
    {
      "cell_type": "markdown",
      "source": [
        "**b) Utiliza los datos de validación para desplegar la matriz de confusión y el reporte dado por la función classification_report() de sklearn.**"
      ],
      "metadata": {
        "id": "9auDZM1Gxh70"
      },
      "id": "9auDZM1Gxh70"
    },
    {
      "cell_type": "markdown",
      "source": [
        "**c) Con base a estos resultados, ¿podemos decir que el modelo está subentrenado (underfitting)? ¿o sobreentrenado (overfitting)? Justifica tu respuesta.**"
      ],
      "metadata": {
        "id": "Qafi_0aLxjfe"
      },
      "id": "Qafi_0aLxjfe"
    },
    {
      "cell_type": "markdown",
      "source": [
        "**d) Interpreta el valor numérico de la “precisión” de la clase positiva.**"
      ],
      "metadata": {
        "id": "y0V4jbmxxk60"
      },
      "id": "y0V4jbmxxk60"
    },
    {
      "cell_type": "markdown",
      "source": [
        "**e) Interpreta el valor numérico del “recall” de la clase positiva.**"
      ],
      "metadata": {
        "id": "NIxd7cyQxmZX"
      },
      "id": "NIxd7cyQxmZX"
    },
    {
      "cell_type": "markdown",
      "source": [
        "**f) Compara los resultados con los del modelo de Regresión Logística y escribe tus conclusiones**"
      ],
      "metadata": {
        "id": "KZnvzQKYxnzr"
      },
      "id": "KZnvzQKYxnzr"
    },
    {
      "cell_type": "markdown",
      "source": [
        "### **PARTE 4: Balanceo de Clases**"
      ],
      "metadata": {
        "id": "Tek3n-UMyhZW"
      },
      "id": "Tek3n-UMyhZW"
    },
    {
      "cell_type": "markdown",
      "source": [
        "#### **6) Utiliza el argumento “class_weight” de la función LogisticRegression() de sklearn y los valores de los hiperparámetros que consideres más adecuados para obtener un modelo no sobreentrenado.**"
      ],
      "metadata": {
        "id": "rKfmatxGylTf"
      },
      "id": "rKfmatxGylTf"
    },
    {
      "cell_type": "markdown",
      "source": [
        "**a) Despliega los valores de la exactitud (accuracy) de los conjuntos de Entrenamiento y Validación.**"
      ],
      "metadata": {
        "id": "_XEjJz0iysnF"
      },
      "id": "_XEjJz0iysnF"
    },
    {
      "cell_type": "markdown",
      "source": [
        "**b) Utiliza los datos de validación para desplegar la matriz de confusión y el reporte dado por la función classification_report() de sklearn.**"
      ],
      "metadata": {
        "id": "X45GkBMGyvQU"
      },
      "id": "X45GkBMGyvQU"
    },
    {
      "cell_type": "markdown",
      "source": [
        "**c) Compara los resultados con los modelos anteriores y escribe tus conclusiones.**"
      ],
      "metadata": {
        "id": "p633jCDYyxpf"
      },
      "id": "p633jCDYyxpf"
    },
    {
      "cell_type": "markdown",
      "source": [
        "#### **7) Utiliza el método SMOTE de la librería “Imbalanced-learn” y los valores de los hiperparámetros que consideres más adecuados para obtener el mejor modelo posible.**"
      ],
      "metadata": {
        "id": "64Nsogi7yz-9"
      },
      "id": "64Nsogi7yz-9"
    },
    {
      "cell_type": "markdown",
      "source": [
        "**a) Despliega los valores de la exactitud (accuracy) de los conjuntos de Entrenamiento y Validación.**"
      ],
      "metadata": {
        "id": "z9T8W23Xy37S"
      },
      "id": "z9T8W23Xy37S"
    },
    {
      "cell_type": "markdown",
      "source": [
        "**b) Utiliza los datos de validación para desplegar la matriz de confusión y el reporte dado por la función classification_report() de sklearn.**"
      ],
      "metadata": {
        "id": "F88gVIhVy6HA"
      },
      "id": "F88gVIhVy6HA"
    },
    {
      "cell_type": "markdown",
      "source": [
        "**c) Compara los resultados con los modelos anteriores y escribe tus conclusiones.**"
      ],
      "metadata": {
        "id": "eXMdR_Qey8Qp"
      },
      "id": "eXMdR_Qey8Qp"
    },
    {
      "cell_type": "markdown",
      "source": [
        "#### **8) Aplica alguno de los modelos combinados de sub y sobre entrenamiento y reporta los resultados del mejor modelo que hayas obtenido. Compáralo con los anteriores e incluye tus conclusiones.**\n",
        "NOTA: https://imbalanced-learn.org/stable/references/combine.html"
      ],
      "metadata": {
        "id": "EnRnQUEky-Or"
      },
      "id": "EnRnQUEky-Or"
    },
    {
      "cell_type": "markdown",
      "source": [
        "### **PARTE 5: La importancia de los factores**"
      ],
      "metadata": {
        "id": "34kK13wlzLhb"
      },
      "id": "34kK13wlzLhb"
    },
    {
      "cell_type": "markdown",
      "source": [
        "#### **9) Con base al mejor modelo de regresión logística obtenido hasta ahora, utiliza la magnitud de los coeficientes como métrica para identificar aquellos factores que se consideran los más importantes al problema de rotación de personal.**\n"
      ],
      "metadata": {
        "id": "UkiD4nXyzRBU"
      },
      "id": "UkiD4nXyzRBU"
    },
    {
      "cell_type": "markdown",
      "source": [
        "**a) Generar un gráfico de barras de los coeficientes indicando el nombre de cada factor asociado a cada barra (bin).**\n"
      ],
      "metadata": {
        "id": "VmJIcjrwzXSh"
      },
      "id": "VmJIcjrwzXSh"
    },
    {
      "cell_type": "markdown",
      "source": [
        "**b) ¿Cuáles factores consideras que son los que influyen mayormente a que un\n",
        "empleado abandone su trabajo (attrition)?**"
      ],
      "metadata": {
        "id": "chl8UMSHzZid"
      },
      "id": "chl8UMSHzZid"
    },
    {
      "cell_type": "markdown",
      "source": [
        "**c) ¿Cuáles factores consideras que son los que influyen mayormente a que un\n",
        "empleado no abandone su trabajo (not attrition)?**"
      ],
      "metadata": {
        "id": "LxoWlFAazbrb"
      },
      "id": "LxoWlFAazbrb"
    },
    {
      "cell_type": "markdown",
      "source": [
        "#### **10) Con base al mejor modelo que hayas obtenido hasta ahora ente regresión logística y el kNN, aplica la técnica de permutación de los factores con el método “permutation_importance()” de sklearn, y con la métrica “f1_weighted” del argumento “scoring” para identificar aquellos factores que se consideran los más importantes al problema de rotación de personal.**\n"
      ],
      "metadata": {
        "id": "JBD6Efhmzdga"
      },
      "id": "JBD6Efhmzdga"
    },
    {
      "cell_type": "markdown",
      "source": [
        "**a) Generar un gráfico de barras de los coeficientes indicando el nombre de cada factor asociado a cada barra (bin).**\n"
      ],
      "metadata": {
        "id": "VWDYm952ziQr"
      },
      "id": "VWDYm952ziQr"
    },
    {
      "cell_type": "markdown",
      "source": [
        "**b) ¿Cuáles factores consideras que son los que influyen mayormente a que un\n",
        "empleado abandone su trabajo (attrition)?**"
      ],
      "metadata": {
        "id": "Q4QG_K4nzkQj"
      },
      "id": "Q4QG_K4nzkQj"
    },
    {
      "cell_type": "markdown",
      "source": [
        "**c) ¿Cuáles factores consideras que son los que influyen mayormente a que un\n",
        "empleado no abandone su trabajo (not attrition)?**"
      ],
      "metadata": {
        "id": "HpKhgptcznQu"
      },
      "id": "HpKhgptcznQu"
    },
    {
      "cell_type": "markdown",
      "source": [
        "**d) Compara los resultados con el ejercicio anterior e incluye tus comentarios. En particular, comenta cuál método te da los mejores factores que tienen mayor impacto en el problema de rotación de personal.**"
      ],
      "metadata": {
        "id": "oIEGCtGxzpRI"
      },
      "id": "oIEGCtGxzpRI"
    },
    {
      "cell_type": "markdown",
      "source": [
        "#### **11) Con base al mejor modelo que hayas obtenido hasta ahora ente regresión logística y el kNN y de los factores de mayor impacto que encontraste en el inciso anterior, así como de la matriz de correlación, utiliza la clase SelectFromModel de sklearn para reducir la cantidad de factores del problema y volver a entrenar el modelo con estos nuevos datos reducidos, de manera que el desempeño con esta cantidad de datos reducida sea aproximadamente la obtenida previamente con todos los factores. No tienen que ser exactamente iguales ambos resultados en dado caso y cada equipo deberá establecer la diferencia que considere adecuada. Recuerda evitar el filtrado de información del conjunto de entrenamiento a los conjuntos de validación y de prueba.**\n"
      ],
      "metadata": {
        "id": "k20t6nJLzsEC"
      },
      "id": "k20t6nJLzsEC"
    },
    {
      "cell_type": "markdown",
      "source": [
        "**a) ¿A cuántos factores pudiste reducir el problema? Indica cuántos tenías y a cuántos se redujo, así como el porcentaje de reducción de factores.**"
      ],
      "metadata": {
        "id": "86Jyh0DKz0jE"
      },
      "id": "86Jyh0DKz0jE"
    },
    {
      "cell_type": "markdown",
      "source": [
        "**b) Despliega la matriz de confusión y el reporte dado por la función classification_report().**"
      ],
      "metadata": {
        "id": "5MN7AJmTz3BQ"
      },
      "id": "5MN7AJmTz3BQ"
    },
    {
      "cell_type": "markdown",
      "source": [
        "### **PARTE 6: Modelo final y conclusiones**"
      ],
      "metadata": {
        "id": "QFr0tUhjz59l"
      },
      "id": "QFr0tUhjz59l"
    },
    {
      "cell_type": "markdown",
      "source": [
        "#### **12) Finalmente, con base a todos los resultados obtenidos hasta ahora, responde a los siguientes incisos para obtener el que consideres el mejor modelo para enfrentar el problema de rotación de personal a partir de los datos históricos iniciales.**\n"
      ],
      "metadata": {
        "id": "G-uedyPpz6jP"
      },
      "id": "G-uedyPpz6jP"
    },
    {
      "cell_type": "markdown",
      "source": [
        "**a) Forma un nuevo conjunto aumentado de Entrenamiento con los mejores conjuntos de entrenamiento y validación que hayas obtenido hasta ahora.**\n"
      ],
      "metadata": {
        "id": "HNX1XdOB0DSN"
      },
      "id": "HNX1XdOB0DSN"
    },
    {
      "cell_type": "markdown",
      "source": [
        "**b) Selecciona el mejor modelo de aprendizaje automático que hayas obtenido hasta ahora, entre regresión logística y kNN y entrena el modelo con el nuevo conjunto de entrenamiento aumentado. Utiliza ahora el conjunto de Prueba (Test) para obtener el desempeño final de tu mejor modelo. Para ello:**\n"
      ],
      "metadata": {
        "id": "GaY_2NN50GG2"
      },
      "id": "GaY_2NN50GG2"
    },
    {
      "cell_type": "markdown",
      "source": [
        "**i. Despliega la exactitud (accuracy) del conjunto de entrenamiento y del conjunto de Prueba para verificar que no esté sub o sobre entrenado.**"
      ],
      "metadata": {
        "id": "3v_5kir20OJZ"
      },
      "id": "3v_5kir20OJZ"
    },
    {
      "cell_type": "markdown",
      "source": [
        "**ii. Despliega la matriz de confusión y el reporte dado por la función classification_report() del conjunto de Prueba.**"
      ],
      "metadata": {
        "id": "KhFrPZbB0Rhb"
      },
      "id": "KhFrPZbB0Rhb"
    },
    {
      "cell_type": "markdown",
      "source": [
        "\n",
        "**iii. Incluye las conclusiones finales de la actividad. En particular interpreta y explica con base al problema de rotación de personal, los resultados obtenidos para las métricas “precision”, “recall” y “f1-score”.**"
      ],
      "metadata": {
        "id": "aAWmSjWr0UbW"
      },
      "id": "aAWmSjWr0UbW"
    },
    {
      "cell_type": "code",
      "execution_count": null,
      "id": "db459de4",
      "metadata": {
        "id": "db459de4"
      },
      "outputs": [],
      "source": [
        "X, y = make_classification(\n",
        "       n_samples=2000,          # Se generan \"n\" registros donde cada factor tiene una distribución gaussiana con varianza 1.\n",
        "       n_classes=2,             # El conjunto de datos generado constará de dos clases diferentes.\n",
        "       n_features=2,            # Habrá 2 variables de entrada (factores o variables independientes)\n",
        "       n_redundant=0,           # No hay factores que sean redundantes, i.e., que uno sea combinación lineal de otros factores.\n",
        "       n_clusters_per_class=1,  # Cada clase se agrupa alrededor de un único centro.\n",
        "       weights=[.9, .1],        # [proporción_clase_negativa(0), proporción_clase_positiva(1)]  : p1=1-p0\n",
        "       flip_y=0.,               # No existen datos mal etiquetados.\n",
        "       class_sep=0.35,           # Valor que indican la distancia entre clases. Más grande, mayor distancia.\n",
        "       random_state=0)"
      ]
    },
    {
      "cell_type": "code",
      "execution_count": null,
      "id": "70992c35",
      "metadata": {
        "colab": {
          "base_uri": "https://localhost:8080/",
          "height": 440
        },
        "id": "70992c35",
        "outputId": "3231d946-0521-4566-afed-b124f0ec1969"
      },
      "outputs": [
        {
          "output_type": "stream",
          "name": "stdout",
          "text": [
            "Dimensión de datos generados:\n",
            "Datos de entrada X: (2000, 2)\n",
            "Variable de salida y: (2000,)\n"
          ]
        },
        {
          "output_type": "display_data",
          "data": {
            "text/plain": [
              "<Figure size 600x400 with 1 Axes>"
            ],
            "image/png": "[encoded data removed]"
          },
          "metadata": {}
        }
      ],
      "source": [
        "print('Dimensión de datos generados:')\n",
        "print('Datos de entrada X:', X.shape)\n",
        "print('Variable de salida y:', y.shape)\n",
        "\n",
        "# Los transformamos en un DataFrame de Pandas:\n",
        "df = pd.DataFrame(X, columns=['x1','x2'])\n",
        "df['y'] = y\n",
        "\n",
        "plt.figure(figsize=(6,4))\n",
        "sns.scatterplot(data=df, x='x1', y='x2', hue='y');"
      ]
    },
    {
      "cell_type": "code",
      "execution_count": null,
      "id": "6fb99a1f",
      "metadata": {
        "id": "6fb99a1f"
      },
      "outputs": [],
      "source": [
        "X_train, Xvt, y_train, yvt = train_test_split(X, y, train_size=0.60, random_state=1, stratify=y)\n",
        "X_val, X_test, y_val, y_test = train_test_split(X, y, test_size=0.50, random_state=1, stratify=y)"
      ]
    },
    {
      "cell_type": "code",
      "execution_count": null,
      "id": "db52aaa8",
      "metadata": {
        "colab": {
          "base_uri": "https://localhost:8080/"
        },
        "id": "db52aaa8",
        "outputId": "38453bff-a121-4539-f620-b5207935f641"
      },
      "outputs": [
        {
          "output_type": "stream",
          "name": "stdout",
          "text": [
            "Porcentaje de la clase minoritaria: 10.00%\n"
          ]
        }
      ],
      "source": [
        "# Verificamos el porcentaje de la clase positiva y negativa, generados:\n",
        "print('Porcentaje de la clase minoritaria: %.2f%%' % (100.*(y_val.sum() / y_val.shape[0])))"
      ]
    },
    {
      "cell_type": "code",
      "execution_count": null,
      "id": "6e3e82c4",
      "metadata": {
        "colab": {
          "base_uri": "https://localhost:8080/"
        },
        "id": "6e3e82c4",
        "outputId": "18bfb35f-49f9-46ae-8a8e-1347ef8320af"
      },
      "outputs": [
        {
          "output_type": "stream",
          "name": "stdout",
          "text": [
            "Exactitud del modelo con los datos de entrenamiento: 90.7%\n",
            "Exactitud del modelo con los datos de validación: 90.4%\n"
          ]
        }
      ],
      "source": [
        "# Utilizemos el modelo de regresión logística:\n",
        "\n",
        "modelo = LogisticRegression()\n",
        "\n",
        "# Entrenamos con los datos de entrenamiento:\n",
        "modelo.fit(X_train, y_train)\n",
        "\n",
        "# Veamos el desempeño en cuanto exactitud (accuracy) del modelo con\n",
        "# los datos de entrenamiento y validación, para verificar si nuestro\n",
        "# modelo está subentrenado o sobreentrenado:\n",
        "print('Exactitud del modelo con los datos de entrenamiento: %.1f%%' % (100*modelo.score(X_train,y_train)))\n",
        "print('Exactitud del modelo con los datos de validación: %.1f%%' % (100*modelo.score(X_val,y_val)))"
      ]
    },
    {
      "cell_type": "markdown",
      "id": "e42232cc",
      "metadata": {
        "id": "e42232cc"
      },
      "source": [
        "Aunque pareciera que tenemos un buen desempeño y que el modelo no está sobre-entrenado, en realidad el modelo está sub-entrenado. Esto ya que se tiene un porcentaje igual al porcentaje de la clase mayoritaria, que es del 90%."
      ]
    },
    {
      "cell_type": "code",
      "execution_count": null,
      "id": "4911b262",
      "metadata": {
        "colab": {
          "base_uri": "https://localhost:8080/"
        },
        "id": "4911b262",
        "outputId": "c1dd97ea-e7a8-454f-bfea-216b04060b1c"
      },
      "outputs": [
        {
          "output_type": "stream",
          "name": "stdout",
          "text": [
            "[[875  25]\n",
            " [ 71  29]]\n",
            "              precision    recall  f1-score   support\n",
            "\n",
            "           0       0.92      0.97      0.95       900\n",
            "           1       0.54      0.29      0.38       100\n",
            "\n",
            "    accuracy                           0.90      1000\n",
            "   macro avg       0.73      0.63      0.66      1000\n",
            "weighted avg       0.89      0.90      0.89      1000\n",
            "\n"
          ]
        }
      ],
      "source": [
        "# Realizamos las predicciones\n",
        "y_hat_val = modelo.predict(X_val)\n",
        "\n",
        "print(confusion_matrix(y_val, y_hat_val))\n",
        "print(classification_report(y_val, y_hat_val))"
      ]
    },
    {
      "cell_type": "markdown",
      "id": "d7cb99a4",
      "metadata": {
        "id": "d7cb99a4"
      },
      "source": [
        "Aquí observamos cómo los valores de las métricas \"precision\", \"recall\" y por lo tanto su promedio armónico \"f1-score\", son bastante bajos. Lo que nos habla de la poca capacidad de poder predecir correctamente los datos de la clase de interés, la clase positiva.\n",
        "\n",
        "Veamos si podemos mejorar el modelo con alguna técnica de sub-entrenamiento o sobre-entrenamiento.\n",
        "\n",
        "Existe una gran variedad de estas técnicas, algunas de las cuales implementaremos de la librería de Imbalanced-learn:\n",
        "\n",
        "https://imbalanced-learn.org/stable/references/under_sampling.html\n",
        "\n",
        "https://imbalanced-learn.org/stable/references/over_sampling.html\n",
        "\n",
        "https://imbalanced-learn.org/stable/references/combine.html"
      ]
    },
    {
      "cell_type": "code",
      "execution_count": null,
      "id": "1b3e6d23",
      "metadata": {
        "id": "1b3e6d23"
      },
      "outputs": [],
      "source": [
        "from imblearn.over_sampling import BorderlineSMOTE"
      ]
    },
    {
      "cell_type": "code",
      "execution_count": null,
      "id": "063196fd",
      "metadata": {
        "colab": {
          "base_uri": "https://localhost:8080/"
        },
        "id": "063196fd",
        "outputId": "be9f149b-f05f-4eb9-8397-1176ed888bbf"
      },
      "outputs": [
        {
          "output_type": "stream",
          "name": "stdout",
          "text": [
            "accuracy-train-balanced 0.95\n",
            "accuracy-val-balanced 0.903\n",
            "[[803  97]\n",
            " [  0 100]]\n",
            "              precision    recall  f1-score   support\n",
            "\n",
            "           0       1.00      0.89      0.94       900\n",
            "           1       0.51      1.00      0.67       100\n",
            "\n",
            "    accuracy                           0.90      1000\n",
            "   macro avg       0.75      0.95      0.81      1000\n",
            "weighted avg       0.95      0.90      0.92      1000\n",
            "\n"
          ]
        }
      ],
      "source": [
        "bsm = BorderlineSMOTE(sampling_strategy=1.,  # porcentaje de nuvoes datos minoritario-vs-mayoritario\n",
        "                      random_state=11)\n",
        "\n",
        "# ajustamos y generamos los datos sobre-muestrados (over-sampling)\n",
        "# con los datos de entrenamiento:\n",
        "Xtrain_BSM, ytrain_BSM = bsm.fit_resample(X_train, y_train)\n",
        "\n",
        "# Entrenamos el modelo con los nuevos datos muestrales de entrenamiento:\n",
        "modeloRL = LogisticRegression(C=10)\n",
        "modeloRL.fit(Xtrain_BSM, np.ravel(ytrain_BSM))\n",
        "\n",
        "print('accuracy-train-balanced', modeloRL.score(Xtrain_BSM, ytrain_BSM))\n",
        "print('accuracy-val-balanced', modeloRL.score(X_val, y_val))\n",
        "\n",
        "y_pred_train = modeloRL.predict(Xtrain_BSM)\n",
        "\n",
        "# Observa que en X_val no se aplica el sobremuestreo,\n",
        "# para evitar el filtrado de información (data-leakage):\n",
        "y_pred_val = modeloRL.predict(X_val)\n",
        "\n",
        "print(confusion_matrix(y_val, y_pred_val))\n",
        "print(classification_report(y_val, y_pred_val))"
      ]
    },
    {
      "cell_type": "markdown",
      "id": "021a612e",
      "metadata": {
        "id": "021a612e"
      },
      "source": [
        "Observa que ahora tenemos un Recall=1.00 en la clase positiva, sin embargo la precision bajo al 50%. Además de quedar sobre-entrenado.\n",
        "\n",
        "Habría que buscar un mejor balance ajustando hiperparámetros del modelo o de la técnica de sobre-muestreo, o bien probar algún otro de los modelos de sub-muestreo y/o sobre-muestreo. Ver los difernentes métodos en las ligas dadas arriba."
      ]
    },
    {
      "cell_type": "markdown",
      "id": "218c4672",
      "metadata": {
        "id": "218c4672"
      },
      "source": [
        "# Importancia de los Factores\n",
        "\n",
        "Existen varias técnicas para evaluar la importancia de los factores en relación al involucramiento que tiene cada factor con la variable de salida.\n",
        "\n",
        "Veamos algunos de ellos."
      ]
    },
    {
      "cell_type": "markdown",
      "id": "adf40d92",
      "metadata": {
        "id": "adf40d92"
      },
      "source": [
        "### Magnitud de los coeficientes.\n",
        "\n",
        "Este es una técnica muy simple que debe aplicarse cuando los factores han sido todos escalados de manera equivalente. Sin embargo, debe tomarse con mucha cautela esta técnica, ya que no necesariamente la magnitud por sí misma es indicio de mayor involucramiento en la predicción de la variable de salidad. Esto porque pueden existir relaciones entre combinación de factores que disminuya la importancia de dicho factor. En dado caso siempre intenta algunas de las otras técnicas que estaremos viendo más adelante. Pero como una primera aproximación, puede considerarse aceptable."
      ]
    },
    {
      "cell_type": "code",
      "execution_count": null,
      "id": "cc15eeb5",
      "metadata": {
        "colab": {
          "base_uri": "https://localhost:8080/"
        },
        "id": "cc15eeb5",
        "outputId": "8ddbaab4-663d-48f3-c802-d423f25ebf1f"
      },
      "outputs": [
        {
          "output_type": "stream",
          "name": "stdout",
          "text": [
            "Feature: 0, Score: 12.49683\n",
            "Feature: 1, Score: -0.26727\n"
          ]
        }
      ],
      "source": [
        "# consideremos los coeficientes obtenidos en el último modelo obtenido:\n",
        "importance = modeloRL.coef_[0]\n",
        "\n",
        "# Veamos la magnitud de nuestro modelo, que en este caso es solo de de factores (features):\n",
        "for i,v in enumerate(importance):\n",
        " print('Feature: %0d, Score: %.5f' % (i,v))"
      ]
    },
    {
      "cell_type": "markdown",
      "id": "6eb7703b",
      "metadata": {
        "id": "6eb7703b"
      },
      "source": [
        "Observamos que definitivamente el factor 0 es el de mayor relevancia para predecir la clase.\n",
        "Geométricamente tiene sentido, porque si observamos la gráfica obtenida al inicio, el factor 0 está asociado al eje horizontal y por lo tanto, y geométricamente observamos que aproximadamente a la izquierda del valor de 0.25 en el eje horizontal se tiene puntos de la clase mayoritaria y a la derecha los de la clase minoritaria.\n",
        "\n",
        "Observa que el signo positivo de los coeficientes nos habla sobre la influencia de dicho coeficiente sobre la clase positiva (minoritaria en este caso) y los coeficientes negativos nos hablaría sobre el impacto de estos sobre la clase negativa.\n",
        "\n",
        "Valores cercanos al cero, como en este caso el factor 1, no tendría mucha influencia sobre el comportamiento de la varible de salida."
      ]
    },
    {
      "cell_type": "markdown",
      "id": "89948ac8",
      "metadata": {
        "id": "89948ac8"
      },
      "source": [
        "# Importancia por Permutación\n",
        "\n",
        "Veamos ahora esta otra técnica más robusta y que aplica también a otros modelos no lineales y no solamente a los modelos de regresión.\n",
        "\n",
        "Puedes revisar la documentación para mayor información:\n",
        "\n",
        "https://scikit-learn.org/stable/modules/generated/sklearn.inspection.permutation_importance.html"
      ]
    },
    {
      "cell_type": "code",
      "execution_count": null,
      "id": "db2f0658",
      "metadata": {
        "id": "db2f0658"
      },
      "outputs": [],
      "source": [
        "from sklearn.inspection import permutation_importance"
      ]
    },
    {
      "cell_type": "code",
      "execution_count": null,
      "id": "d113ab5a",
      "metadata": {
        "colab": {
          "base_uri": "https://localhost:8080/"
        },
        "id": "d113ab5a",
        "outputId": "45a4d582-052c-4b00-b28f-4824a0b18c3e"
      },
      "outputs": [
        {
          "output_type": "stream",
          "name": "stdout",
          "text": [
            "Feature: 0, Score: 0.81800\n",
            "Feature: 1, Score: 0.00200\n"
          ]
        }
      ],
      "source": [
        "# Usemos nuevamente el modelo de regresión logística previamente entrenado:\n",
        "\n",
        "results = permutation_importance(modeloRL, X_val, y_val, scoring='recall')\n",
        "\n",
        "importance = results.importances_mean\n",
        "\n",
        "for i,v in enumerate(importance):\n",
        " print('Feature: %0d, Score: %.5f' % (i,v))"
      ]
    },
    {
      "cell_type": "markdown",
      "id": "b9c40276",
      "metadata": {
        "id": "b9c40276"
      },
      "source": [
        "Además, la ventaja de este método es que nos permite evaluar el impacto de los factores con respecto a diferentes métricas y no solamente el \"accuracy\" o exactitud. En particular, para el caso de clases no balanceadas, como en este ejercicio, es mejor considerar métricas como el recall, la precision, o su promedio armónico f1, o el ponderado, f1_weighted."
      ]
    },
    {
      "cell_type": "markdown",
      "id": "c70cbe51",
      "metadata": {
        "id": "c70cbe51"
      },
      "source": [
        "# Selección de Factores mediante el criterio de la Importancia de los mismos.\n",
        "\n",
        "Puedes consultar su documentación en la siguiente liga:\n",
        "    \n",
        "https://scikit-learn.org/stable/modules/generated/sklearn.feature_selection.SelectFromModel.html"
      ]
    },
    {
      "cell_type": "code",
      "execution_count": null,
      "id": "e5e81bc9",
      "metadata": {
        "id": "e5e81bc9"
      },
      "outputs": [],
      "source": [
        "from sklearn.feature_selection import SelectFromModel"
      ]
    },
    {
      "cell_type": "code",
      "execution_count": null,
      "id": "cb69ac10",
      "metadata": {
        "colab": {
          "base_uri": "https://localhost:8080/"
        },
        "id": "cb69ac10",
        "outputId": "bf39b1cf-1627-43d7-f749-57a1767d2ce3"
      },
      "outputs": [
        {
          "output_type": "stream",
          "name": "stdout",
          "text": [
            "[ True False]\n"
          ]
        }
      ],
      "source": [
        "# Con base a los resultados con las técnicas de Importancia de Factores,\n",
        "# se propone el conjunto de factores que se consideran importantes.\n",
        "# Para nuestro ejemplo muy sencillo obtuvimos que es solo 2 factor:\n",
        "max_f = 1\n",
        "\n",
        "# Indicamos el modelo que se usará para evaluar la importancia de los factores\n",
        "# y la cantidad de ellos que se desean extraer:\n",
        "fs = SelectFromModel(estimator=LogisticRegression(), max_features=max_f)\n",
        "# ajustamos con  los datos de entrenamiento para determinar cuáles se consideran los más relevantes:\n",
        "fs.fit(X_train, np.ravel(y_train))\n",
        "# y ahora obtenemos los factores\n",
        "factor_select = fs.get_support()\n",
        "\n",
        "print(factor_select)"
      ]
    },
    {
      "cell_type": "markdown",
      "id": "ef8688e9",
      "metadata": {
        "id": "ef8688e9"
      },
      "source": [
        "Obtenemos nuevamente que el primer factor es el más relevante en este caso.\n",
        "\n",
        "Y seleccionamos entonces solamente los factores o columnas obtenidas en nuestro DataFrame:"
      ]
    },
    {
      "cell_type": "code",
      "execution_count": null,
      "id": "0a6df1ab",
      "metadata": {
        "id": "0a6df1ab"
      },
      "outputs": [],
      "source": [
        "XtrainT_fs = pd.DataFrame(X_train)[pd.DataFrame(X_train).columns[factor_select]]\n",
        "XvalT_fs = pd.DataFrame(X_val)[pd.DataFrame(X_val).columns[factor_select]]\n",
        "XtestT_fs = pd.DataFrame(X_test)[pd.DataFrame(X_test).columns[factor_select]]"
      ]
    },
    {
      "cell_type": "code",
      "execution_count": null,
      "id": "d058d517",
      "metadata": {
        "colab": {
          "base_uri": "https://localhost:8080/",
          "height": 423
        },
        "id": "d058d517",
        "outputId": "36dd1d71-c61d-40eb-e88f-62ba6586d504"
      },
      "outputs": [
        {
          "output_type": "execute_result",
          "data": {
            "text/plain": [
              "             0\n",
              "0    -0.661456\n",
              "1    -0.131180\n",
              "2    -0.338835\n",
              "3    -0.345142\n",
              "4    -0.254506\n",
              "...        ...\n",
              "1195 -0.480640\n",
              "1196  0.048735\n",
              "1197 -0.017955\n",
              "1198 -0.326542\n",
              "1199 -0.735710\n",
              "\n",
              "[1200 rows x 1 columns]"
            ],
            "text/html": [
              "\n",
              "  <div id=\"df-e11f5756-7e07-4767-befd-541590daec8a\" class=\"colab-df-container\">\n",
              "    <div>\n",
              "<style scoped>\n",
              "    .dataframe tbody tr th:only-of-type {\n",
              "        vertical-align: middle;\n",
              "    }\n",
              "\n",
              "    .dataframe tbody tr th {\n",
              "        vertical-align: top;\n",
              "    }\n",
              "\n",
              "    .dataframe thead th {\n",
              "        text-align: right;\n",
              "    }\n",
              "</style>\n",
              "<table border=\"1\" class=\"dataframe\">\n",
              "  <thead>\n",
              "    <tr style=\"text-align: right;\">\n",
              "      <th></th>\n",
              "      <th>0</th>\n",
              "    </tr>\n",
              "  </thead>\n",
              "  <tbody>\n",
              "    <tr>\n",
              "      <th>0</th>\n",
              "      <td>-0.661456</td>\n",
              "    </tr>\n",
              "    <tr>\n",
              "      <th>1</th>\n",
              "      <td>-0.131180</td>\n",
              "    </tr>\n",
              "    <tr>\n",
              "      <th>2</th>\n",
              "      <td>-0.338835</td>\n",
              "    </tr>\n",
              "    <tr>\n",
              "      <th>3</th>\n",
              "      <td>-0.345142</td>\n",
              "    </tr>\n",
              "    <tr>\n",
              "      <th>4</th>\n",
              "      <td>-0.254506</td>\n",
              "    </tr>\n",
              "    <tr>\n",
              "      <th>...</th>\n",
              "      <td>...</td>\n",
              "    </tr>\n",
              "    <tr>\n",
              "      <th>1195</th>\n",
              "      <td>-0.480640</td>\n",
              "    </tr>\n",
              "    <tr>\n",
              "      <th>1196</th>\n",
              "      <td>0.048735</td>\n",
              "    </tr>\n",
              "    <tr>\n",
              "      <th>1197</th>\n",
              "      <td>-0.017955</td>\n",
              "    </tr>\n",
              "    <tr>\n",
              "      <th>1198</th>\n",
              "      <td>-0.326542</td>\n",
              "    </tr>\n",
              "    <tr>\n",
              "      <th>1199</th>\n",
              "      <td>-0.735710</td>\n",
              "    </tr>\n",
              "  </tbody>\n",
              "</table>\n",
              "<p>1200 rows × 1 columns</p>\n",
              "</div>\n",
              "    <div class=\"colab-df-buttons\">\n",
              "\n",
              "  <div class=\"colab-df-container\">\n",
              "    <button class=\"colab-df-convert\" onclick=\"convertToInteractive('df-e11f5756-7e07-4767-befd-541590daec8a')\"\n",
              "            title=\"Convert this dataframe to an interactive table.\"\n",
              "            style=\"display:none;\">\n",
              "\n",
              "  <svg xmlns=\"http://www.w3.org/2000/svg\" height=\"24px\" viewBox=\"0 -960 960 960\">\n",
              "    <path d=\"M120-120v-720h720v720H120Zm60-500h600v-160H180v160Zm220 220h160v-160H400v160Zm0 220h160v-160H400v160ZM180-400h160v-160H180v160Zm440 0h160v-160H620v160ZM180-180h160v-160H180v160Zm440 0h160v-160H620v160Z\"/>\n",
              "  </svg>\n",
              "    </button>\n",
              "\n",
              "  <style>\n",
              "    .colab-df-container {\n",
              "      display:flex;\n",
              "      gap: 12px;\n",
              "    }\n",
              "\n",
              "    .colab-df-convert {\n",
              "      background-color: #E8F0FE;\n",
              "      border: none;\n",
              "      border-radius: 50%;\n",
              "      cursor: pointer;\n",
              "      display: none;\n",
              "      fill: #1967D2;\n",
              "      height: 32px;\n",
              "      padding: 0 0 0 0;\n",
              "      width: 32px;\n",
              "    }\n",
              "\n",
              "    .colab-df-convert:hover {\n",
              "      background-color: #E2EBFA;\n",
              "      box-shadow: 0px 1px 2px rgba(60, 64, 67, 0.3), 0px 1px 3px 1px rgba(60, 64, 67, 0.15);\n",
              "      fill: #174EA6;\n",
              "    }\n",
              "\n",
              "    .colab-df-buttons div {\n",
              "      margin-bottom: 4px;\n",
              "    }\n",
              "\n",
              "    [theme=dark] .colab-df-convert {\n",
              "      background-color: #3B4455;\n",
              "      fill: #D2E3FC;\n",
              "    }\n",
              "\n",
              "    [theme=dark] .colab-df-convert:hover {\n",
              "      background-color: #434B5C;\n",
              "      box-shadow: 0px 1px 3px 1px rgba(0, 0, 0, 0.15);\n",
              "      filter: drop-shadow(0px 1px 2px rgba(0, 0, 0, 0.3));\n",
              "      fill: #FFFFFF;\n",
              "    }\n",
              "  </style>\n",
              "\n",
              "    <script>\n",
              "      const buttonEl =\n",
              "        document.querySelector('#df-e11f5756-7e07-4767-befd-541590daec8a button.colab-df-convert');\n",
              "      buttonEl.style.display =\n",
              "        google.colab.kernel.accessAllowed ? 'block' : 'none';\n",
              "\n",
              "      async function convertToInteractive(key) {\n",
              "        const element = document.querySelector('#df-e11f5756-7e07-4767-befd-541590daec8a');\n",
              "        const dataTable =\n",
              "          await google.colab.kernel.invokeFunction('convertToInteractive',\n",
              "                                                    [key], {});\n",
              "        if (!dataTable) return;\n",
              "\n",
              "        const docLinkHtml = 'Like what you see? Visit the ' +\n",
              "          '<a target=\"_blank\" href=https://colab.research.google.com/notebooks/data_table.ipynb>data table notebook</a>'\n",
              "          + ' to learn more about interactive tables.';\n",
              "        element.innerHTML = '';\n",
              "        dataTable['output_type'] = 'display_data';\n",
              "        await google.colab.output.renderOutput(dataTable, element);\n",
              "        const docLink = document.createElement('div');\n",
              "        docLink.innerHTML = docLinkHtml;\n",
              "        element.appendChild(docLink);\n",
              "      }\n",
              "    </script>\n",
              "  </div>\n",
              "\n",
              "\n",
              "<div id=\"df-fed8f929-97f8-4eba-bb34-ffc878f6fcab\">\n",
              "  <button class=\"colab-df-quickchart\" onclick=\"quickchart('df-fed8f929-97f8-4eba-bb34-ffc878f6fcab')\"\n",
              "            title=\"Suggest charts\"\n",
              "            style=\"display:none;\">\n",
              "\n",
              "<svg xmlns=\"http://www.w3.org/2000/svg\" height=\"24px\"viewBox=\"0 0 24 24\"\n",
              "     width=\"24px\">\n",
              "    <g>\n",
              "        <path d=\"M19 3H5c-1.1 0-2 .9-2 2v14c0 1.1.9 2 2 2h14c1.1 0 2-.9 2-2V5c0-1.1-.9-2-2-2zM9 17H7v-7h2v7zm4 0h-2V7h2v10zm4 0h-2v-4h2v4z\"/>\n",
              "    </g>\n",
              "</svg>\n",
              "  </button>\n",
              "\n",
              "<style>\n",
              "  .colab-df-quickchart {\n",
              "      --bg-color: #E8F0FE;\n",
              "      --fill-color: #1967D2;\n",
              "      --hover-bg-color: #E2EBFA;\n",
              "      --hover-fill-color: #174EA6;\n",
              "      --disabled-fill-color: #AAA;\n",
              "      --disabled-bg-color: #DDD;\n",
              "  }\n",
              "\n",
              "  [theme=dark] .colab-df-quickchart {\n",
              "      --bg-color: #3B4455;\n",
              "      --fill-color: #D2E3FC;\n",
              "      --hover-bg-color: #434B5C;\n",
              "      --hover-fill-color: #FFFFFF;\n",
              "      --disabled-bg-color: #3B4455;\n",
              "      --disabled-fill-color: #666;\n",
              "  }\n",
              "\n",
              "  .colab-df-quickchart {\n",
              "    background-color: var(--bg-color);\n",
              "    border: none;\n",
              "    border-radius: 50%;\n",
              "    cursor: pointer;\n",
              "    display: none;\n",
              "    fill: var(--fill-color);\n",
              "    height: 32px;\n",
              "    padding: 0;\n",
              "    width: 32px;\n",
              "  }\n",
              "\n",
              "  .colab-df-quickchart:hover {\n",
              "    background-color: var(--hover-bg-color);\n",
              "    box-shadow: 0 1px 2px rgba(60, 64, 67, 0.3), 0 1px 3px 1px rgba(60, 64, 67, 0.15);\n",
              "    fill: var(--button-hover-fill-color);\n",
              "  }\n",
              "\n",
              "  .colab-df-quickchart-complete:disabled,\n",
              "  .colab-df-quickchart-complete:disabled:hover {\n",
              "    background-color: var(--disabled-bg-color);\n",
              "    fill: var(--disabled-fill-color);\n",
              "    box-shadow: none;\n",
              "  }\n",
              "\n",
              "  .colab-df-spinner {\n",
              "    border: 2px solid var(--fill-color);\n",
              "    border-color: transparent;\n",
              "    border-bottom-color: var(--fill-color);\n",
              "    animation:\n",
              "      spin 1s steps(1) infinite;\n",
              "  }\n",
              "\n",
              "  @keyframes spin {\n",
              "    0% {\n",
              "      border-color: transparent;\n",
              "      border-bottom-color: var(--fill-color);\n",
              "      border-left-color: var(--fill-color);\n",
              "    }\n",
              "    20% {\n",
              "      border-color: transparent;\n",
              "      border-left-color: var(--fill-color);\n",
              "      border-top-color: var(--fill-color);\n",
              "    }\n",
              "    30% {\n",
              "      border-color: transparent;\n",
              "      border-left-color: var(--fill-color);\n",
              "      border-top-color: var(--fill-color);\n",
              "      border-right-color: var(--fill-color);\n",
              "    }\n",
              "    40% {\n",
              "      border-color: transparent;\n",
              "      border-right-color: var(--fill-color);\n",
              "      border-top-color: var(--fill-color);\n",
              "    }\n",
              "    60% {\n",
              "      border-color: transparent;\n",
              "      border-right-color: var(--fill-color);\n",
              "    }\n",
              "    80% {\n",
              "      border-color: transparent;\n",
              "      border-right-color: var(--fill-color);\n",
              "      border-bottom-color: var(--fill-color);\n",
              "    }\n",
              "    90% {\n",
              "      border-color: transparent;\n",
              "      border-bottom-color: var(--fill-color);\n",
              "    }\n",
              "  }\n",
              "</style>\n",
              "\n",
              "  <script>\n",
              "    async function quickchart(key) {\n",
              "      const quickchartButtonEl =\n",
              "        document.querySelector('#' + key + ' button');\n",
              "      quickchartButtonEl.disabled = true;  // To prevent multiple clicks.\n",
              "      quickchartButtonEl.classList.add('colab-df-spinner');\n",
              "      try {\n",
              "        const charts = await google.colab.kernel.invokeFunction(\n",
              "            'suggestCharts', [key], {});\n",
              "      } catch (error) {\n",
              "        console.error('Error during call to suggestCharts:', error);\n",
              "      }\n",
              "      quickchartButtonEl.classList.remove('colab-df-spinner');\n",
              "      quickchartButtonEl.classList.add('colab-df-quickchart-complete');\n",
              "    }\n",
              "    (() => {\n",
              "      let quickchartButtonEl =\n",
              "        document.querySelector('#df-fed8f929-97f8-4eba-bb34-ffc878f6fcab button');\n",
              "      quickchartButtonEl.style.display =\n",
              "        google.colab.kernel.accessAllowed ? 'block' : 'none';\n",
              "    })();\n",
              "  </script>\n",
              "</div>\n",
              "\n",
              "  <div id=\"id_1f437467-b8b0-4468-8c29-2ad53146c284\">\n",
              "    <style>\n",
              "      .colab-df-generate {\n",
              "        background-color: #E8F0FE;\n",
              "        border: none;\n",
              "        border-radius: 50%;\n",
              "        cursor: pointer;\n",
              "        display: none;\n",
              "        fill: #1967D2;\n",
              "        height: 32px;\n",
              "        padding: 0 0 0 0;\n",
              "        width: 32px;\n",
              "      }\n",
              "\n",
              "      .colab-df-generate:hover {\n",
              "        background-color: #E2EBFA;\n",
              "        box-shadow: 0px 1px 2px rgba(60, 64, 67, 0.3), 0px 1px 3px 1px rgba(60, 64, 67, 0.15);\n",
              "        fill: #174EA6;\n",
              "      }\n",
              "\n",
              "      [theme=dark] .colab-df-generate {\n",
              "        background-color: #3B4455;\n",
              "        fill: #D2E3FC;\n",
              "      }\n",
              "\n",
              "      [theme=dark] .colab-df-generate:hover {\n",
              "        background-color: #434B5C;\n",
              "        box-shadow: 0px 1px 3px 1px rgba(0, 0, 0, 0.15);\n",
              "        filter: drop-shadow(0px 1px 2px rgba(0, 0, 0, 0.3));\n",
              "        fill: #FFFFFF;\n",
              "      }\n",
              "    </style>\n",
              "    <button class=\"colab-df-generate\" onclick=\"generateWithVariable('XtrainT_fs')\"\n",
              "            title=\"Generate code using this dataframe.\"\n",
              "            style=\"display:none;\">\n",
              "\n",
              "  <svg xmlns=\"http://www.w3.org/2000/svg\" height=\"24px\"viewBox=\"0 0 24 24\"\n",
              "       width=\"24px\">\n",
              "    <path d=\"M7,19H8.4L18.45,9,17,7.55,7,17.6ZM5,21V16.75L18.45,3.32a2,2,0,0,1,2.83,0l1.4,1.43a1.91,1.91,0,0,1,.58,1.4,1.91,1.91,0,0,1-.58,1.4L9.25,21ZM18.45,9,17,7.55Zm-12,3A5.31,5.31,0,0,0,4.9,8.1,5.31,5.31,0,0,0,1,6.5,5.31,5.31,0,0,0,4.9,4.9,5.31,5.31,0,0,0,6.5,1,5.31,5.31,0,0,0,8.1,4.9,5.31,5.31,0,0,0,12,6.5,5.46,5.46,0,0,0,6.5,12Z\"/>\n",
              "  </svg>\n",
              "    </button>\n",
              "    <script>\n",
              "      (() => {\n",
              "      const buttonEl =\n",
              "        document.querySelector('#id_1f437467-b8b0-4468-8c29-2ad53146c284 button.colab-df-generate');\n",
              "      buttonEl.style.display =\n",
              "        google.colab.kernel.accessAllowed ? 'block' : 'none';\n",
              "\n",
              "      buttonEl.onclick = () => {\n",
              "        google.colab.notebook.generateWithVariable('XtrainT_fs');\n",
              "      }\n",
              "      })();\n",
              "    </script>\n",
              "  </div>\n",
              "\n",
              "    </div>\n",
              "  </div>\n"
            ]
          },
          "metadata": {},
          "execution_count": 16
        }
      ],
      "source": [
        "XtrainT_fs # y en este caso solo tenemos una columna o factor en nuestro DataFrame."
      ]
    },
    {
      "cell_type": "code",
      "execution_count": null,
      "id": "805ab50b",
      "metadata": {
        "colab": {
          "base_uri": "https://localhost:8080/"
        },
        "id": "805ab50b",
        "outputId": "b1f361cd-68dd-4ea7-9471-d1d1efdc0bb8"
      },
      "outputs": [
        {
          "output_type": "stream",
          "name": "stdout",
          "text": [
            "R2-Train: 90.08\n",
            "R2-Val: 89.80\n",
            "R2-Test: 89.70\n"
          ]
        }
      ],
      "source": [
        "modeloRL = LogisticRegression()\n",
        "#modeloRL.fit(pd.DataFrame(X_train)[pd.DataFrame(X_train).columns[factor_select]], pd.DataFrame(y_train).values)\n",
        "modeloRL.fit(XtrainT_fs, np.ravel(pd.DataFrame(y_train)))\n",
        "\n",
        "# evaluate the model\n",
        "#ytrainhat = model.predict(Xtrain_fs)\n",
        "#yvalhat = model.predict(Xval_fs)\n",
        "#ytesthat = model.predict(Xtest_fs)\n",
        "\n",
        "# evaluate predictions\n",
        "R2train = modeloRL.score(XtrainT_fs, np.ravel(y_train))\n",
        "R2val = modeloRL.score(XvalT_fs, np.ravel(y_val))\n",
        "R2test = modeloRL.score(XtestT_fs, np.ravel(y_test))\n",
        "\n",
        "print('R2-Train: %.2f' % (R2train*100))\n",
        "print('R2-Val: %.2f' % (R2val*100))\n",
        "print('R2-Test: %.2f' % (R2test*100))"
      ]
    },
    {
      "cell_type": "markdown",
      "id": "21405156",
      "metadata": {
        "id": "21405156"
      },
      "source": [
        "Estos nuevos DataFrame los usaríamos para entrenar un nuevo modelo, con esta reducción de dimensionalidad."
      ]
    },
    {
      "cell_type": "markdown",
      "id": "917959c1",
      "metadata": {
        "id": "917959c1"
      },
      "source": [
        "### **>> Fin del ejemplo de esta semana <<**"
      ]
    }
  ],
  "metadata": {
    "kernelspec": {
      "display_name": "Python 3 (ipykernel)",
      "language": "python",
      "name": "python3"
    },
    "language_info": {
      "codemirror_mode": {
        "name": "ipython",
        "version": 3
      },
      "file_extension": ".py",
      "mimetype": "text/x-python",
      "name": "python",
      "nbconvert_exporter": "python",
      "pygments_lexer": "ipython3",
      "version": "3.9.13"
    },
    "colab": {
      "provenance": [],
      "include_colab_link": true
    }
  },
  "nbformat": 4,
  "nbformat_minor": 5
}