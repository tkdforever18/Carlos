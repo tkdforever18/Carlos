{
  "nbformat": 4,
  "nbformat_minor": 0,
  "metadata": {
    "colab": {
      "provenance": [],
      "authorship_tag": "ABX9TyMDWpl0VSECPKcZBD4jroyX",
      "include_colab_link": true
    },
    "kernelspec": {
      "name": "python3",
      "display_name": "Python 3"
    },
    "language_info": {
      "name": "python"
    }
  },
  "cells": [
    {
      "cell_type": "markdown",
      "metadata": {
        "id": "view-in-github",
        "colab_type": "text"
      },
      "source": [
        "<a href=\"https://colab.research.google.com/github/tkdforever18/Carlos/blob/main/Herramientas_Financieras.ipynb\" target=\"_parent\"><img src=\"https://colab.research.google.com/assets/colab-badge.svg\" alt=\"Open In Colab\"/></a>"
      ]
    },
    {
      "cell_type": "code",
      "execution_count": null,
      "metadata": {
        "id": "NElcYa_WO5k9"
      },
      "outputs": [],
      "source": [
        "def precios(accion, fecha1, fecha2, periodo = '1d'):\n",
        "    nombres_columnas = {\n",
        "        'Date' : 'fecha',\n",
        "        'Adj Close':'cierre_ajustado'\n",
        "    }\n",
        "\n",
        "    fecha1 = datetime.datetime.strptime(fecha1, \"%Y-%m-%d\").strftime('%s')\n",
        "    fecha2 = datetime.datetime.strptime(fecha2, \"%Y-%m-%d\").strftime('%s')\n",
        "\n",
        "    url_ = f'https://query1.finance.yahoo.com/v7/finance/download/{accion}?period1={fecha1}&period2={fecha2}&interval={periodo}&events=history&includeAdjustedClose=true'\n",
        "    df_ = pd.read_csv(url_)\n",
        "    df_.rename(columns=nombres_columnas, inplace=True)\n",
        "    df_['fecha'] = pd.to_datetime(df_['fecha'])\n",
        "    df_.set_index('fecha', inplace=True)\n",
        "\n",
        "    df_.drop(columns=['Open', 'High', 'Low', 'Close'], inplace=True)\n",
        "\n",
        "    return df_"
      ]
    }
  ]
}