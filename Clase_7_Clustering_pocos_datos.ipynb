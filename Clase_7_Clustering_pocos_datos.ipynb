{
  "nbformat": 4,
  "nbformat_minor": 0,
  "metadata": {
    "colab": {
      "provenance": [],
      "authorship_tag": "ABX9TyMviy0hClboudJKLsBTBfYe",
      "include_colab_link": true
    },
    "kernelspec": {
      "name": "python3",
      "display_name": "Python 3"
    },
    "language_info": {
      "name": "python"
    }
  },
  "cells": [
    {
      "cell_type": "markdown",
      "metadata": {
        "id": "view-in-github",
        "colab_type": "text"
      },
      "source": [
        "<a href=\"https://colab.research.google.com/github/tkdforever18/Carlos/blob/main/Clase_7_Clustering_pocos_datos.ipynb\" target=\"_parent\"><img src=\"https://colab.research.google.com/assets/colab-badge.svg\" alt=\"Open In Colab\"/></a>"
      ]
    },
    {
      "cell_type": "markdown",
      "source": [
        "# **Clase #7 - CLUSTERING**\n",
        "Hierarchical clustering; \n",
        "K-means clustering\n",
        "\n",
        "Cluster analisis\n",
        "Is an Unsupervised Machine Learning algorithm - No tiene labels\n",
        "Supervised - tiene labels\n"
      ],
      "metadata": {
        "id": "mezFBPtC0o24"
      }
    },
    {
      "cell_type": "code",
      "source": [
        "path = 'https://raw.githubusercontent.com/tec03/Datasets/main/datasets/reg_data.csv'"
      ],
      "metadata": {
        "id": "ho-HFMlf0oZ9"
      },
      "execution_count": 1,
      "outputs": []
    },
    {
      "cell_type": "code",
      "execution_count": 2,
      "metadata": {
        "id": "_z7qVzZszWPF"
      },
      "outputs": [],
      "source": [
        "import pandas as pd\n",
        "import numpy as np"
      ]
    },
    {
      "cell_type": "code",
      "source": [
        "df = pd.read_csv(path)\n",
        "df"
      ],
      "metadata": {
        "colab": {
          "base_uri": "https://localhost:8080/",
          "height": 645
        },
        "id": "apR0NWMx6Dn_",
        "outputId": "cb8442ca-218b-4d9d-f6d6-484304ab93b0"
      },
      "execution_count": 3,
      "outputs": [
        {
          "output_type": "execute_result",
          "data": {
            "text/plain": [
              "    Gender  Salary   Age       Place  Weight Company   Education  JoinYear\n",
              "0   Female  1300.0  35.0     Chicago    80.0     BMW    Bachelor      2008\n",
              "1   Female  1250.0  33.0     Chicago    82.5    Ford  HighSchool      2010\n",
              "2     Male  2200.0  34.0    New York   100.8     BMW    Bachelor      2004\n",
              "3     Male  2100.0  42.0    New York    90.0     BMW      Master      2000\n",
              "4   Female  1500.0  29.0     Chicago    67.0    Ford      Master      2010\n",
              "5   Female  1700.0  42.0  Washington    60.0    Ford      Master      2000\n",
              "6     Male  3000.0  50.0  Washington    77.0    Ford  HighSchool      2010\n",
              "7     Male  3000.0  55.0  Washington    77.0    Ford    Bachelor      2010\n",
              "8   Female  2800.0  31.0    New York    87.0    Ford    Bachelor      2004\n",
              "9     Male  2900.0  46.0    New York    70.0      GM      Master      2008\n",
              "10  Female  2780.0  36.0  Washington    57.0     BMW  HighSchool      2009\n",
              "11    Male  2550.0  48.0    New York    64.0      GM      Master      2004\n",
              "12  Female     NaN  31.0    New York    87.0    Ford    Bachelor      2009\n",
              "13    Male  2900.0   NaN    New York    70.0      GM      Master      2010\n",
              "14  Female  2780.0  36.0         NaN    57.0     BMW  HighSchool      2010\n",
              "15    Male  2550.0  48.0    New York     NaN      GM      Master      2000\n",
              "16    Male  2550.0  48.0    New York    64.0     NaN      Master      2000\n",
              "17    Male  2550.0  48.0    New York    64.0      GM         NaN      2000\n",
              "18     NaN  2550.0  48.0    New York    64.0      GM      Master      2009"
            ],
            "text/html": [
              "\n",
              "  <div id=\"df-effd3ed9-683e-4c15-ae3f-9747c8df04b4\">\n",
              "    <div class=\"colab-df-container\">\n",
              "      <div>\n",
              "<style scoped>\n",
              "    .dataframe tbody tr th:only-of-type {\n",
              "        vertical-align: middle;\n",
              "    }\n",
              "\n",
              "    .dataframe tbody tr th {\n",
              "        vertical-align: top;\n",
              "    }\n",
              "\n",
              "    .dataframe thead th {\n",
              "        text-align: right;\n",
              "    }\n",
              "</style>\n",
              "<table border=\"1\" class=\"dataframe\">\n",
              "  <thead>\n",
              "    <tr style=\"text-align: right;\">\n",
              "      <th></th>\n",
              "      <th>Gender</th>\n",
              "      <th>Salary</th>\n",
              "      <th>Age</th>\n",
              "      <th>Place</th>\n",
              "      <th>Weight</th>\n",
              "      <th>Company</th>\n",
              "      <th>Education</th>\n",
              "      <th>JoinYear</th>\n",
              "    </tr>\n",
              "  </thead>\n",
              "  <tbody>\n",
              "    <tr>\n",
              "      <th>0</th>\n",
              "      <td>Female</td>\n",
              "      <td>1300.0</td>\n",
              "      <td>35.0</td>\n",
              "      <td>Chicago</td>\n",
              "      <td>80.0</td>\n",
              "      <td>BMW</td>\n",
              "      <td>Bachelor</td>\n",
              "      <td>2008</td>\n",
              "    </tr>\n",
              "    <tr>\n",
              "      <th>1</th>\n",
              "      <td>Female</td>\n",
              "      <td>1250.0</td>\n",
              "      <td>33.0</td>\n",
              "      <td>Chicago</td>\n",
              "      <td>82.5</td>\n",
              "      <td>Ford</td>\n",
              "      <td>HighSchool</td>\n",
              "      <td>2010</td>\n",
              "    </tr>\n",
              "    <tr>\n",
              "      <th>2</th>\n",
              "      <td>Male</td>\n",
              "      <td>2200.0</td>\n",
              "      <td>34.0</td>\n",
              "      <td>New York</td>\n",
              "      <td>100.8</td>\n",
              "      <td>BMW</td>\n",
              "      <td>Bachelor</td>\n",
              "      <td>2004</td>\n",
              "    </tr>\n",
              "    <tr>\n",
              "      <th>3</th>\n",
              "      <td>Male</td>\n",
              "      <td>2100.0</td>\n",
              "      <td>42.0</td>\n",
              "      <td>New York</td>\n",
              "      <td>90.0</td>\n",
              "      <td>BMW</td>\n",
              "      <td>Master</td>\n",
              "      <td>2000</td>\n",
              "    </tr>\n",
              "    <tr>\n",
              "      <th>4</th>\n",
              "      <td>Female</td>\n",
              "      <td>1500.0</td>\n",
              "      <td>29.0</td>\n",
              "      <td>Chicago</td>\n",
              "      <td>67.0</td>\n",
              "      <td>Ford</td>\n",
              "      <td>Master</td>\n",
              "      <td>2010</td>\n",
              "    </tr>\n",
              "    <tr>\n",
              "      <th>5</th>\n",
              "      <td>Female</td>\n",
              "      <td>1700.0</td>\n",
              "      <td>42.0</td>\n",
              "      <td>Washington</td>\n",
              "      <td>60.0</td>\n",
              "      <td>Ford</td>\n",
              "      <td>Master</td>\n",
              "      <td>2000</td>\n",
              "    </tr>\n",
              "    <tr>\n",
              "      <th>6</th>\n",
              "      <td>Male</td>\n",
              "      <td>3000.0</td>\n",
              "      <td>50.0</td>\n",
              "      <td>Washington</td>\n",
              "      <td>77.0</td>\n",
              "      <td>Ford</td>\n",
              "      <td>HighSchool</td>\n",
              "      <td>2010</td>\n",
              "    </tr>\n",
              "    <tr>\n",
              "      <th>7</th>\n",
              "      <td>Male</td>\n",
              "      <td>3000.0</td>\n",
              "      <td>55.0</td>\n",
              "      <td>Washington</td>\n",
              "      <td>77.0</td>\n",
              "      <td>Ford</td>\n",
              "      <td>Bachelor</td>\n",
              "      <td>2010</td>\n",
              "    </tr>\n",
              "    <tr>\n",
              "      <th>8</th>\n",
              "      <td>Female</td>\n",
              "      <td>2800.0</td>\n",
              "      <td>31.0</td>\n",
              "      <td>New York</td>\n",
              "      <td>87.0</td>\n",
              "      <td>Ford</td>\n",
              "      <td>Bachelor</td>\n",
              "      <td>2004</td>\n",
              "    </tr>\n",
              "    <tr>\n",
              "      <th>9</th>\n",
              "      <td>Male</td>\n",
              "      <td>2900.0</td>\n",
              "      <td>46.0</td>\n",
              "      <td>New York</td>\n",
              "      <td>70.0</td>\n",
              "      <td>GM</td>\n",
              "      <td>Master</td>\n",
              "      <td>2008</td>\n",
              "    </tr>\n",
              "    <tr>\n",
              "      <th>10</th>\n",
              "      <td>Female</td>\n",
              "      <td>2780.0</td>\n",
              "      <td>36.0</td>\n",
              "      <td>Washington</td>\n",
              "      <td>57.0</td>\n",
              "      <td>BMW</td>\n",
              "      <td>HighSchool</td>\n",
              "      <td>2009</td>\n",
              "    </tr>\n",
              "    <tr>\n",
              "      <th>11</th>\n",
              "      <td>Male</td>\n",
              "      <td>2550.0</td>\n",
              "      <td>48.0</td>\n",
              "      <td>New York</td>\n",
              "      <td>64.0</td>\n",
              "      <td>GM</td>\n",
              "      <td>Master</td>\n",
              "      <td>2004</td>\n",
              "    </tr>\n",
              "    <tr>\n",
              "      <th>12</th>\n",
              "      <td>Female</td>\n",
              "      <td>NaN</td>\n",
              "      <td>31.0</td>\n",
              "      <td>New York</td>\n",
              "      <td>87.0</td>\n",
              "      <td>Ford</td>\n",
              "      <td>Bachelor</td>\n",
              "      <td>2009</td>\n",
              "    </tr>\n",
              "    <tr>\n",
              "      <th>13</th>\n",
              "      <td>Male</td>\n",
              "      <td>2900.0</td>\n",
              "      <td>NaN</td>\n",
              "      <td>New York</td>\n",
              "      <td>70.0</td>\n",
              "      <td>GM</td>\n",
              "      <td>Master</td>\n",
              "      <td>2010</td>\n",
              "    </tr>\n",
              "    <tr>\n",
              "      <th>14</th>\n",
              "      <td>Female</td>\n",
              "      <td>2780.0</td>\n",
              "      <td>36.0</td>\n",
              "      <td>NaN</td>\n",
              "      <td>57.0</td>\n",
              "      <td>BMW</td>\n",
              "      <td>HighSchool</td>\n",
              "      <td>2010</td>\n",
              "    </tr>\n",
              "    <tr>\n",
              "      <th>15</th>\n",
              "      <td>Male</td>\n",
              "      <td>2550.0</td>\n",
              "      <td>48.0</td>\n",
              "      <td>New York</td>\n",
              "      <td>NaN</td>\n",
              "      <td>GM</td>\n",
              "      <td>Master</td>\n",
              "      <td>2000</td>\n",
              "    </tr>\n",
              "    <tr>\n",
              "      <th>16</th>\n",
              "      <td>Male</td>\n",
              "      <td>2550.0</td>\n",
              "      <td>48.0</td>\n",
              "      <td>New York</td>\n",
              "      <td>64.0</td>\n",
              "      <td>NaN</td>\n",
              "      <td>Master</td>\n",
              "      <td>2000</td>\n",
              "    </tr>\n",
              "    <tr>\n",
              "      <th>17</th>\n",
              "      <td>Male</td>\n",
              "      <td>2550.0</td>\n",
              "      <td>48.0</td>\n",
              "      <td>New York</td>\n",
              "      <td>64.0</td>\n",
              "      <td>GM</td>\n",
              "      <td>NaN</td>\n",
              "      <td>2000</td>\n",
              "    </tr>\n",
              "    <tr>\n",
              "      <th>18</th>\n",
              "      <td>NaN</td>\n",
              "      <td>2550.0</td>\n",
              "      <td>48.0</td>\n",
              "      <td>New York</td>\n",
              "      <td>64.0</td>\n",
              "      <td>GM</td>\n",
              "      <td>Master</td>\n",
              "      <td>2009</td>\n",
              "    </tr>\n",
              "  </tbody>\n",
              "</table>\n",
              "</div>\n",
              "      <button class=\"colab-df-convert\" onclick=\"convertToInteractive('df-effd3ed9-683e-4c15-ae3f-9747c8df04b4')\"\n",
              "              title=\"Convert this dataframe to an interactive table.\"\n",
              "              style=\"display:none;\">\n",
              "        \n",
              "  <svg xmlns=\"http://www.w3.org/2000/svg\" height=\"24px\"viewBox=\"0 0 24 24\"\n",
              "       width=\"24px\">\n",
              "    <path d=\"M0 0h24v24H0V0z\" fill=\"none\"/>\n",
              "    <path d=\"M18.56 5.44l.94 2.06.94-2.06 2.06-.94-2.06-.94-.94-2.06-.94 2.06-2.06.94zm-11 1L8.5 8.5l.94-2.06 2.06-.94-2.06-.94L8.5 2.5l-.94 2.06-2.06.94zm10 10l.94 2.06.94-2.06 2.06-.94-2.06-.94-.94-2.06-.94 2.06-2.06.94z\"/><path d=\"M17.41 7.96l-1.37-1.37c-.4-.4-.92-.59-1.43-.59-.52 0-1.04.2-1.43.59L10.3 9.45l-7.72 7.72c-.78.78-.78 2.05 0 2.83L4 21.41c.39.39.9.59 1.41.59.51 0 1.02-.2 1.41-.59l7.78-7.78 2.81-2.81c.8-.78.8-2.07 0-2.86zM5.41 20L4 18.59l7.72-7.72 1.47 1.35L5.41 20z\"/>\n",
              "  </svg>\n",
              "      </button>\n",
              "      \n",
              "  <style>\n",
              "    .colab-df-container {\n",
              "      display:flex;\n",
              "      flex-wrap:wrap;\n",
              "      gap: 12px;\n",
              "    }\n",
              "\n",
              "    .colab-df-convert {\n",
              "      background-color: #E8F0FE;\n",
              "      border: none;\n",
              "      border-radius: 50%;\n",
              "      cursor: pointer;\n",
              "      display: none;\n",
              "      fill: #1967D2;\n",
              "      height: 32px;\n",
              "      padding: 0 0 0 0;\n",
              "      width: 32px;\n",
              "    }\n",
              "\n",
              "    .colab-df-convert:hover {\n",
              "      background-color: #E2EBFA;\n",
              "      box-shadow: 0px 1px 2px rgba(60, 64, 67, 0.3), 0px 1px 3px 1px rgba(60, 64, 67, 0.15);\n",
              "      fill: #174EA6;\n",
              "    }\n",
              "\n",
              "    [theme=dark] .colab-df-convert {\n",
              "      background-color: #3B4455;\n",
              "      fill: #D2E3FC;\n",
              "    }\n",
              "\n",
              "    [theme=dark] .colab-df-convert:hover {\n",
              "      background-color: #434B5C;\n",
              "      box-shadow: 0px 1px 3px 1px rgba(0, 0, 0, 0.15);\n",
              "      filter: drop-shadow(0px 1px 2px rgba(0, 0, 0, 0.3));\n",
              "      fill: #FFFFFF;\n",
              "    }\n",
              "  </style>\n",
              "\n",
              "      <script>\n",
              "        const buttonEl =\n",
              "          document.querySelector('#df-effd3ed9-683e-4c15-ae3f-9747c8df04b4 button.colab-df-convert');\n",
              "        buttonEl.style.display =\n",
              "          google.colab.kernel.accessAllowed ? 'block' : 'none';\n",
              "\n",
              "        async function convertToInteractive(key) {\n",
              "          const element = document.querySelector('#df-effd3ed9-683e-4c15-ae3f-9747c8df04b4');\n",
              "          const dataTable =\n",
              "            await google.colab.kernel.invokeFunction('convertToInteractive',\n",
              "                                                     [key], {});\n",
              "          if (!dataTable) return;\n",
              "\n",
              "          const docLinkHtml = 'Like what you see? Visit the ' +\n",
              "            '<a target=\"_blank\" href=https://colab.research.google.com/notebooks/data_table.ipynb>data table notebook</a>'\n",
              "            + ' to learn more about interactive tables.';\n",
              "          element.innerHTML = '';\n",
              "          dataTable['output_type'] = 'display_data';\n",
              "          await google.colab.output.renderOutput(dataTable, element);\n",
              "          const docLink = document.createElement('div');\n",
              "          docLink.innerHTML = docLinkHtml;\n",
              "          element.appendChild(docLink);\n",
              "        }\n",
              "      </script>\n",
              "    </div>\n",
              "  </div>\n",
              "  "
            ]
          },
          "metadata": {},
          "execution_count": 3
        }
      ]
    },
    {
      "cell_type": "code",
      "source": [
        "df.dropna(inplace = True) #Para limpiar y hacer una base de datos más pequeña\n",
        "df"
      ],
      "metadata": {
        "colab": {
          "base_uri": "https://localhost:8080/",
          "height": 425
        },
        "id": "diGTNuTf5rK9",
        "outputId": "07872f0e-d8cb-43b1-84a5-03f7bebac8a6"
      },
      "execution_count": 5,
      "outputs": [
        {
          "output_type": "execute_result",
          "data": {
            "text/plain": [
              "    Gender  Salary   Age       Place  Weight Company   Education  JoinYear\n",
              "0   Female  1300.0  35.0     Chicago    80.0     BMW    Bachelor      2008\n",
              "1   Female  1250.0  33.0     Chicago    82.5    Ford  HighSchool      2010\n",
              "2     Male  2200.0  34.0    New York   100.8     BMW    Bachelor      2004\n",
              "3     Male  2100.0  42.0    New York    90.0     BMW      Master      2000\n",
              "4   Female  1500.0  29.0     Chicago    67.0    Ford      Master      2010\n",
              "5   Female  1700.0  42.0  Washington    60.0    Ford      Master      2000\n",
              "6     Male  3000.0  50.0  Washington    77.0    Ford  HighSchool      2010\n",
              "7     Male  3000.0  55.0  Washington    77.0    Ford    Bachelor      2010\n",
              "8   Female  2800.0  31.0    New York    87.0    Ford    Bachelor      2004\n",
              "9     Male  2900.0  46.0    New York    70.0      GM      Master      2008\n",
              "10  Female  2780.0  36.0  Washington    57.0     BMW  HighSchool      2009\n",
              "11    Male  2550.0  48.0    New York    64.0      GM      Master      2004"
            ],
            "text/html": [
              "\n",
              "  <div id=\"df-39e8ef94-3054-4862-8532-7c8d454ce6ed\">\n",
              "    <div class=\"colab-df-container\">\n",
              "      <div>\n",
              "<style scoped>\n",
              "    .dataframe tbody tr th:only-of-type {\n",
              "        vertical-align: middle;\n",
              "    }\n",
              "\n",
              "    .dataframe tbody tr th {\n",
              "        vertical-align: top;\n",
              "    }\n",
              "\n",
              "    .dataframe thead th {\n",
              "        text-align: right;\n",
              "    }\n",
              "</style>\n",
              "<table border=\"1\" class=\"dataframe\">\n",
              "  <thead>\n",
              "    <tr style=\"text-align: right;\">\n",
              "      <th></th>\n",
              "      <th>Gender</th>\n",
              "      <th>Salary</th>\n",
              "      <th>Age</th>\n",
              "      <th>Place</th>\n",
              "      <th>Weight</th>\n",
              "      <th>Company</th>\n",
              "      <th>Education</th>\n",
              "      <th>JoinYear</th>\n",
              "    </tr>\n",
              "  </thead>\n",
              "  <tbody>\n",
              "    <tr>\n",
              "      <th>0</th>\n",
              "      <td>Female</td>\n",
              "      <td>1300.0</td>\n",
              "      <td>35.0</td>\n",
              "      <td>Chicago</td>\n",
              "      <td>80.0</td>\n",
              "      <td>BMW</td>\n",
              "      <td>Bachelor</td>\n",
              "      <td>2008</td>\n",
              "    </tr>\n",
              "    <tr>\n",
              "      <th>1</th>\n",
              "      <td>Female</td>\n",
              "      <td>1250.0</td>\n",
              "      <td>33.0</td>\n",
              "      <td>Chicago</td>\n",
              "      <td>82.5</td>\n",
              "      <td>Ford</td>\n",
              "      <td>HighSchool</td>\n",
              "      <td>2010</td>\n",
              "    </tr>\n",
              "    <tr>\n",
              "      <th>2</th>\n",
              "      <td>Male</td>\n",
              "      <td>2200.0</td>\n",
              "      <td>34.0</td>\n",
              "      <td>New York</td>\n",
              "      <td>100.8</td>\n",
              "      <td>BMW</td>\n",
              "      <td>Bachelor</td>\n",
              "      <td>2004</td>\n",
              "    </tr>\n",
              "    <tr>\n",
              "      <th>3</th>\n",
              "      <td>Male</td>\n",
              "      <td>2100.0</td>\n",
              "      <td>42.0</td>\n",
              "      <td>New York</td>\n",
              "      <td>90.0</td>\n",
              "      <td>BMW</td>\n",
              "      <td>Master</td>\n",
              "      <td>2000</td>\n",
              "    </tr>\n",
              "    <tr>\n",
              "      <th>4</th>\n",
              "      <td>Female</td>\n",
              "      <td>1500.0</td>\n",
              "      <td>29.0</td>\n",
              "      <td>Chicago</td>\n",
              "      <td>67.0</td>\n",
              "      <td>Ford</td>\n",
              "      <td>Master</td>\n",
              "      <td>2010</td>\n",
              "    </tr>\n",
              "    <tr>\n",
              "      <th>5</th>\n",
              "      <td>Female</td>\n",
              "      <td>1700.0</td>\n",
              "      <td>42.0</td>\n",
              "      <td>Washington</td>\n",
              "      <td>60.0</td>\n",
              "      <td>Ford</td>\n",
              "      <td>Master</td>\n",
              "      <td>2000</td>\n",
              "    </tr>\n",
              "    <tr>\n",
              "      <th>6</th>\n",
              "      <td>Male</td>\n",
              "      <td>3000.0</td>\n",
              "      <td>50.0</td>\n",
              "      <td>Washington</td>\n",
              "      <td>77.0</td>\n",
              "      <td>Ford</td>\n",
              "      <td>HighSchool</td>\n",
              "      <td>2010</td>\n",
              "    </tr>\n",
              "    <tr>\n",
              "      <th>7</th>\n",
              "      <td>Male</td>\n",
              "      <td>3000.0</td>\n",
              "      <td>55.0</td>\n",
              "      <td>Washington</td>\n",
              "      <td>77.0</td>\n",
              "      <td>Ford</td>\n",
              "      <td>Bachelor</td>\n",
              "      <td>2010</td>\n",
              "    </tr>\n",
              "    <tr>\n",
              "      <th>8</th>\n",
              "      <td>Female</td>\n",
              "      <td>2800.0</td>\n",
              "      <td>31.0</td>\n",
              "      <td>New York</td>\n",
              "      <td>87.0</td>\n",
              "      <td>Ford</td>\n",
              "      <td>Bachelor</td>\n",
              "      <td>2004</td>\n",
              "    </tr>\n",
              "    <tr>\n",
              "      <th>9</th>\n",
              "      <td>Male</td>\n",
              "      <td>2900.0</td>\n",
              "      <td>46.0</td>\n",
              "      <td>New York</td>\n",
              "      <td>70.0</td>\n",
              "      <td>GM</td>\n",
              "      <td>Master</td>\n",
              "      <td>2008</td>\n",
              "    </tr>\n",
              "    <tr>\n",
              "      <th>10</th>\n",
              "      <td>Female</td>\n",
              "      <td>2780.0</td>\n",
              "      <td>36.0</td>\n",
              "      <td>Washington</td>\n",
              "      <td>57.0</td>\n",
              "      <td>BMW</td>\n",
              "      <td>HighSchool</td>\n",
              "      <td>2009</td>\n",
              "    </tr>\n",
              "    <tr>\n",
              "      <th>11</th>\n",
              "      <td>Male</td>\n",
              "      <td>2550.0</td>\n",
              "      <td>48.0</td>\n",
              "      <td>New York</td>\n",
              "      <td>64.0</td>\n",
              "      <td>GM</td>\n",
              "      <td>Master</td>\n",
              "      <td>2004</td>\n",
              "    </tr>\n",
              "  </tbody>\n",
              "</table>\n",
              "</div>\n",
              "      <button class=\"colab-df-convert\" onclick=\"convertToInteractive('df-39e8ef94-3054-4862-8532-7c8d454ce6ed')\"\n",
              "              title=\"Convert this dataframe to an interactive table.\"\n",
              "              style=\"display:none;\">\n",
              "        \n",
              "  <svg xmlns=\"http://www.w3.org/2000/svg\" height=\"24px\"viewBox=\"0 0 24 24\"\n",
              "       width=\"24px\">\n",
              "    <path d=\"M0 0h24v24H0V0z\" fill=\"none\"/>\n",
              "    <path d=\"M18.56 5.44l.94 2.06.94-2.06 2.06-.94-2.06-.94-.94-2.06-.94 2.06-2.06.94zm-11 1L8.5 8.5l.94-2.06 2.06-.94-2.06-.94L8.5 2.5l-.94 2.06-2.06.94zm10 10l.94 2.06.94-2.06 2.06-.94-2.06-.94-.94-2.06-.94 2.06-2.06.94z\"/><path d=\"M17.41 7.96l-1.37-1.37c-.4-.4-.92-.59-1.43-.59-.52 0-1.04.2-1.43.59L10.3 9.45l-7.72 7.72c-.78.78-.78 2.05 0 2.83L4 21.41c.39.39.9.59 1.41.59.51 0 1.02-.2 1.41-.59l7.78-7.78 2.81-2.81c.8-.78.8-2.07 0-2.86zM5.41 20L4 18.59l7.72-7.72 1.47 1.35L5.41 20z\"/>\n",
              "  </svg>\n",
              "      </button>\n",
              "      \n",
              "  <style>\n",
              "    .colab-df-container {\n",
              "      display:flex;\n",
              "      flex-wrap:wrap;\n",
              "      gap: 12px;\n",
              "    }\n",
              "\n",
              "    .colab-df-convert {\n",
              "      background-color: #E8F0FE;\n",
              "      border: none;\n",
              "      border-radius: 50%;\n",
              "      cursor: pointer;\n",
              "      display: none;\n",
              "      fill: #1967D2;\n",
              "      height: 32px;\n",
              "      padding: 0 0 0 0;\n",
              "      width: 32px;\n",
              "    }\n",
              "\n",
              "    .colab-df-convert:hover {\n",
              "      background-color: #E2EBFA;\n",
              "      box-shadow: 0px 1px 2px rgba(60, 64, 67, 0.3), 0px 1px 3px 1px rgba(60, 64, 67, 0.15);\n",
              "      fill: #174EA6;\n",
              "    }\n",
              "\n",
              "    [theme=dark] .colab-df-convert {\n",
              "      background-color: #3B4455;\n",
              "      fill: #D2E3FC;\n",
              "    }\n",
              "\n",
              "    [theme=dark] .colab-df-convert:hover {\n",
              "      background-color: #434B5C;\n",
              "      box-shadow: 0px 1px 3px 1px rgba(0, 0, 0, 0.15);\n",
              "      filter: drop-shadow(0px 1px 2px rgba(0, 0, 0, 0.3));\n",
              "      fill: #FFFFFF;\n",
              "    }\n",
              "  </style>\n",
              "\n",
              "      <script>\n",
              "        const buttonEl =\n",
              "          document.querySelector('#df-39e8ef94-3054-4862-8532-7c8d454ce6ed button.colab-df-convert');\n",
              "        buttonEl.style.display =\n",
              "          google.colab.kernel.accessAllowed ? 'block' : 'none';\n",
              "\n",
              "        async function convertToInteractive(key) {\n",
              "          const element = document.querySelector('#df-39e8ef94-3054-4862-8532-7c8d454ce6ed');\n",
              "          const dataTable =\n",
              "            await google.colab.kernel.invokeFunction('convertToInteractive',\n",
              "                                                     [key], {});\n",
              "          if (!dataTable) return;\n",
              "\n",
              "          const docLinkHtml = 'Like what you see? Visit the ' +\n",
              "            '<a target=\"_blank\" href=https://colab.research.google.com/notebooks/data_table.ipynb>data table notebook</a>'\n",
              "            + ' to learn more about interactive tables.';\n",
              "          element.innerHTML = '';\n",
              "          dataTable['output_type'] = 'display_data';\n",
              "          await google.colab.output.renderOutput(dataTable, element);\n",
              "          const docLink = document.createElement('div');\n",
              "          docLink.innerHTML = docLinkHtml;\n",
              "          element.appendChild(docLink);\n",
              "        }\n",
              "      </script>\n",
              "    </div>\n",
              "  </div>\n",
              "  "
            ]
          },
          "metadata": {},
          "execution_count": 5
        }
      ]
    },
    {
      "cell_type": "markdown",
      "source": [
        "# Vamos a hacer clustering con 2 variables es decir 2 columnas para éste ejercicio (X y Y)"
      ],
      "metadata": {
        "id": "VG88vkl24nNZ"
      }
    },
    {
      "cell_type": "code",
      "source": [
        "ndf = df[['Age','Weight']]\n",
        "ndf.shape"
      ],
      "metadata": {
        "colab": {
          "base_uri": "https://localhost:8080/"
        },
        "id": "CP1Q-fxX4OMH",
        "outputId": "0fb9067c-eb8d-4387-c69e-2a7d9d30cbbc"
      },
      "execution_count": 6,
      "outputs": [
        {
          "output_type": "execute_result",
          "data": {
            "text/plain": [
              "(12, 2)"
            ]
          },
          "metadata": {},
          "execution_count": 6
        }
      ]
    },
    {
      "cell_type": "code",
      "source": [
        "ndf"
      ],
      "metadata": {
        "colab": {
          "base_uri": "https://localhost:8080/",
          "height": 425
        },
        "id": "kOg0PUT65Gby",
        "outputId": "668f0f81-6662-49e0-b839-21cc4ccd5c6e"
      },
      "execution_count": 7,
      "outputs": [
        {
          "output_type": "execute_result",
          "data": {
            "text/plain": [
              "     Age  Weight\n",
              "0   35.0    80.0\n",
              "1   33.0    82.5\n",
              "2   34.0   100.8\n",
              "3   42.0    90.0\n",
              "4   29.0    67.0\n",
              "5   42.0    60.0\n",
              "6   50.0    77.0\n",
              "7   55.0    77.0\n",
              "8   31.0    87.0\n",
              "9   46.0    70.0\n",
              "10  36.0    57.0\n",
              "11  48.0    64.0"
            ],
            "text/html": [
              "\n",
              "  <div id=\"df-673e689b-df1c-4354-aa35-3e9bb57e0db4\">\n",
              "    <div class=\"colab-df-container\">\n",
              "      <div>\n",
              "<style scoped>\n",
              "    .dataframe tbody tr th:only-of-type {\n",
              "        vertical-align: middle;\n",
              "    }\n",
              "\n",
              "    .dataframe tbody tr th {\n",
              "        vertical-align: top;\n",
              "    }\n",
              "\n",
              "    .dataframe thead th {\n",
              "        text-align: right;\n",
              "    }\n",
              "</style>\n",
              "<table border=\"1\" class=\"dataframe\">\n",
              "  <thead>\n",
              "    <tr style=\"text-align: right;\">\n",
              "      <th></th>\n",
              "      <th>Age</th>\n",
              "      <th>Weight</th>\n",
              "    </tr>\n",
              "  </thead>\n",
              "  <tbody>\n",
              "    <tr>\n",
              "      <th>0</th>\n",
              "      <td>35.0</td>\n",
              "      <td>80.0</td>\n",
              "    </tr>\n",
              "    <tr>\n",
              "      <th>1</th>\n",
              "      <td>33.0</td>\n",
              "      <td>82.5</td>\n",
              "    </tr>\n",
              "    <tr>\n",
              "      <th>2</th>\n",
              "      <td>34.0</td>\n",
              "      <td>100.8</td>\n",
              "    </tr>\n",
              "    <tr>\n",
              "      <th>3</th>\n",
              "      <td>42.0</td>\n",
              "      <td>90.0</td>\n",
              "    </tr>\n",
              "    <tr>\n",
              "      <th>4</th>\n",
              "      <td>29.0</td>\n",
              "      <td>67.0</td>\n",
              "    </tr>\n",
              "    <tr>\n",
              "      <th>5</th>\n",
              "      <td>42.0</td>\n",
              "      <td>60.0</td>\n",
              "    </tr>\n",
              "    <tr>\n",
              "      <th>6</th>\n",
              "      <td>50.0</td>\n",
              "      <td>77.0</td>\n",
              "    </tr>\n",
              "    <tr>\n",
              "      <th>7</th>\n",
              "      <td>55.0</td>\n",
              "      <td>77.0</td>\n",
              "    </tr>\n",
              "    <tr>\n",
              "      <th>8</th>\n",
              "      <td>31.0</td>\n",
              "      <td>87.0</td>\n",
              "    </tr>\n",
              "    <tr>\n",
              "      <th>9</th>\n",
              "      <td>46.0</td>\n",
              "      <td>70.0</td>\n",
              "    </tr>\n",
              "    <tr>\n",
              "      <th>10</th>\n",
              "      <td>36.0</td>\n",
              "      <td>57.0</td>\n",
              "    </tr>\n",
              "    <tr>\n",
              "      <th>11</th>\n",
              "      <td>48.0</td>\n",
              "      <td>64.0</td>\n",
              "    </tr>\n",
              "  </tbody>\n",
              "</table>\n",
              "</div>\n",
              "      <button class=\"colab-df-convert\" onclick=\"convertToInteractive('df-673e689b-df1c-4354-aa35-3e9bb57e0db4')\"\n",
              "              title=\"Convert this dataframe to an interactive table.\"\n",
              "              style=\"display:none;\">\n",
              "        \n",
              "  <svg xmlns=\"http://www.w3.org/2000/svg\" height=\"24px\"viewBox=\"0 0 24 24\"\n",
              "       width=\"24px\">\n",
              "    <path d=\"M0 0h24v24H0V0z\" fill=\"none\"/>\n",
              "    <path d=\"M18.56 5.44l.94 2.06.94-2.06 2.06-.94-2.06-.94-.94-2.06-.94 2.06-2.06.94zm-11 1L8.5 8.5l.94-2.06 2.06-.94-2.06-.94L8.5 2.5l-.94 2.06-2.06.94zm10 10l.94 2.06.94-2.06 2.06-.94-2.06-.94-.94-2.06-.94 2.06-2.06.94z\"/><path d=\"M17.41 7.96l-1.37-1.37c-.4-.4-.92-.59-1.43-.59-.52 0-1.04.2-1.43.59L10.3 9.45l-7.72 7.72c-.78.78-.78 2.05 0 2.83L4 21.41c.39.39.9.59 1.41.59.51 0 1.02-.2 1.41-.59l7.78-7.78 2.81-2.81c.8-.78.8-2.07 0-2.86zM5.41 20L4 18.59l7.72-7.72 1.47 1.35L5.41 20z\"/>\n",
              "  </svg>\n",
              "      </button>\n",
              "      \n",
              "  <style>\n",
              "    .colab-df-container {\n",
              "      display:flex;\n",
              "      flex-wrap:wrap;\n",
              "      gap: 12px;\n",
              "    }\n",
              "\n",
              "    .colab-df-convert {\n",
              "      background-color: #E8F0FE;\n",
              "      border: none;\n",
              "      border-radius: 50%;\n",
              "      cursor: pointer;\n",
              "      display: none;\n",
              "      fill: #1967D2;\n",
              "      height: 32px;\n",
              "      padding: 0 0 0 0;\n",
              "      width: 32px;\n",
              "    }\n",
              "\n",
              "    .colab-df-convert:hover {\n",
              "      background-color: #E2EBFA;\n",
              "      box-shadow: 0px 1px 2px rgba(60, 64, 67, 0.3), 0px 1px 3px 1px rgba(60, 64, 67, 0.15);\n",
              "      fill: #174EA6;\n",
              "    }\n",
              "\n",
              "    [theme=dark] .colab-df-convert {\n",
              "      background-color: #3B4455;\n",
              "      fill: #D2E3FC;\n",
              "    }\n",
              "\n",
              "    [theme=dark] .colab-df-convert:hover {\n",
              "      background-color: #434B5C;\n",
              "      box-shadow: 0px 1px 3px 1px rgba(0, 0, 0, 0.15);\n",
              "      filter: drop-shadow(0px 1px 2px rgba(0, 0, 0, 0.3));\n",
              "      fill: #FFFFFF;\n",
              "    }\n",
              "  </style>\n",
              "\n",
              "      <script>\n",
              "        const buttonEl =\n",
              "          document.querySelector('#df-673e689b-df1c-4354-aa35-3e9bb57e0db4 button.colab-df-convert');\n",
              "        buttonEl.style.display =\n",
              "          google.colab.kernel.accessAllowed ? 'block' : 'none';\n",
              "\n",
              "        async function convertToInteractive(key) {\n",
              "          const element = document.querySelector('#df-673e689b-df1c-4354-aa35-3e9bb57e0db4');\n",
              "          const dataTable =\n",
              "            await google.colab.kernel.invokeFunction('convertToInteractive',\n",
              "                                                     [key], {});\n",
              "          if (!dataTable) return;\n",
              "\n",
              "          const docLinkHtml = 'Like what you see? Visit the ' +\n",
              "            '<a target=\"_blank\" href=https://colab.research.google.com/notebooks/data_table.ipynb>data table notebook</a>'\n",
              "            + ' to learn more about interactive tables.';\n",
              "          element.innerHTML = '';\n",
              "          dataTable['output_type'] = 'display_data';\n",
              "          await google.colab.output.renderOutput(dataTable, element);\n",
              "          const docLink = document.createElement('div');\n",
              "          docLink.innerHTML = docLinkHtml;\n",
              "          element.appendChild(docLink);\n",
              "        }\n",
              "      </script>\n",
              "    </div>\n",
              "  </div>\n",
              "  "
            ]
          },
          "metadata": {},
          "execution_count": 7
        }
      ]
    },
    {
      "cell_type": "code",
      "source": [
        "import matplotlib.pyplot as plt\n",
        "import seaborn as sns"
      ],
      "metadata": {
        "id": "L9b-WmmR5A76"
      },
      "execution_count": 9,
      "outputs": []
    },
    {
      "cell_type": "code",
      "source": [
        "plt.figure(figsize=(10, 5))\n",
        "\n",
        "pp = sns.scatterplot(x = ndf['Age'], \n",
        "                     y = ndf['Weight'],\n",
        "                     #hue='D', \n",
        "                     marker='x',\n",
        "                     s=100,#size of markers\n",
        "                     cmap=\"nipy_spectral\"\n",
        "                    )\n",
        "\n",
        "\n",
        "#pp.set_facecolor(\"yellow\")\n",
        "pp.set_xlabel('Age', size = 15)\n",
        "pp.set_ylabel('Weight', size = 15)\n",
        "\n",
        "plt.xticks(fontsize =15)\n",
        "plt.yticks(fontsize =15)\n",
        "\n",
        "\n",
        "pp.set_title(\"Scatter plot of Age vs Weight\", size = 17)\n",
        "plt.show()"
      ],
      "metadata": {
        "colab": {
          "base_uri": "https://localhost:8080/",
          "height": 364
        },
        "id": "snZw0G9A6p0H",
        "outputId": "eea0f881-baa7-4202-c5be-a545b56dd9a3"
      },
      "execution_count": 10,
      "outputs": [
        {
          "output_type": "display_data",
          "data": {
            "text/plain": [
              "<Figure size 720x360 with 1 Axes>"
            ],
            "image/png": "[encoded data removed]"
          },
          "metadata": {
            "needs_background": "light"
          }
        }
      ]
    },
    {
      "cell_type": "code",
      "source": [
        "from sklearn.cluster import KMeans"
      ],
      "metadata": {
        "id": "MNZDAltX6xKJ"
      },
      "execution_count": 11,
      "outputs": []
    },
    {
      "cell_type": "code",
      "source": [
        "km = KMeans(n_clusters = 3,  #Centroid = 3, solo tenemos 3 cluster\n",
        "            random_state = 0 #para que los puntos no se muevan, ya que si no se pone se pueden mover poquito\n",
        "            )\n",
        "km.fit(ndf)"
      ],
      "metadata": {
        "colab": {
          "base_uri": "https://localhost:8080/"
        },
        "id": "Sq3FyzTz60dO",
        "outputId": "dcaea1f5-b3a6-424b-a21a-ac312044087c"
      },
      "execution_count": 17,
      "outputs": [
        {
          "output_type": "execute_result",
          "data": {
            "text/plain": [
              "KMeans(n_clusters=3, random_state=0)"
            ]
          },
          "metadata": {},
          "execution_count": 17
        }
      ]
    },
    {
      "cell_type": "code",
      "source": [
        "print('Centroids are ', km.cluster_centers_)\n",
        "print('Inertia is ', km.inertia_)"
      ],
      "metadata": {
        "colab": {
          "base_uri": "https://localhost:8080/"
        },
        "id": "n_NB7K9R7Boc",
        "outputId": "b9cbc8d2-828f-4ee9-9494-cf6b97a91c25"
      },
      "execution_count": 18,
      "outputs": [
        {
          "output_type": "stream",
          "name": "stdout",
          "text": [
            "Centroids are  [[35.         88.06      ]\n",
            " [49.75       72.        ]\n",
            " [35.66666667 61.33333333]]\n",
            "Inertia is  633.1553333333333\n"
          ]
        }
      ]
    },
    {
      "cell_type": "markdown",
      "source": [
        "Centroids are  [[40.08333333 76.025     ]] = Es una lista y es un solo cluster\n",
        "Eje x = 40.08333 , Eje y = 76.025\n",
        "\n",
        "Inertia is  2631.1991666666663"
      ],
      "metadata": {
        "id": "W_F420z27bJ1"
      }
    },
    {
      "cell_type": "code",
      "source": [
        "km.labels_  # que tantos diferentes números hay? si solo hay ceros, primer renglón es cluster 0, segundo renglón cluster 0, etc...\n",
        "#Indica a que cluster pertenece cada renglón."
      ],
      "metadata": {
        "colab": {
          "base_uri": "https://localhost:8080/"
        },
        "id": "8ciWZp2D7Wg2",
        "outputId": "c8b2698d-6318-4080-b3ca-375305e14de6"
      },
      "execution_count": 19,
      "outputs": [
        {
          "output_type": "execute_result",
          "data": {
            "text/plain": [
              "array([0, 0, 0, 0, 2, 2, 1, 1, 0, 1, 2, 1], dtype=int32)"
            ]
          },
          "metadata": {},
          "execution_count": 19
        }
      ]
    },
    {
      "cell_type": "markdown",
      "source": [
        "Vamos a graficar los centroids: que vienen de km.cluster_centers_"
      ],
      "metadata": {
        "id": "Pc19xQPI8HsS"
      }
    },
    {
      "cell_type": "code",
      "source": [
        "km.cluster_centers_[ : , 0]  # para llamar los centroids respectivos del eje X de todos los renglones"
      ],
      "metadata": {
        "colab": {
          "base_uri": "https://localhost:8080/"
        },
        "id": "dgRuI9F-8G5R",
        "outputId": "f2868513-cedd-4677-835e-b51d645cc48b"
      },
      "execution_count": 28,
      "outputs": [
        {
          "output_type": "execute_result",
          "data": {
            "text/plain": [
              "array([35.        , 49.75      , 35.66666667])"
            ]
          },
          "metadata": {},
          "execution_count": 28
        }
      ]
    },
    {
      "cell_type": "code",
      "source": [
        "km.cluster_centers_[: , 1]"
      ],
      "metadata": {
        "colab": {
          "base_uri": "https://localhost:8080/"
        },
        "id": "Ap5U-C1V88fe",
        "outputId": "922150d5-022e-46d1-bb09-190374979f59"
      },
      "execution_count": 27,
      "outputs": [
        {
          "output_type": "execute_result",
          "data": {
            "text/plain": [
              "array([88.06      , 72.        , 61.33333333])"
            ]
          },
          "metadata": {},
          "execution_count": 27
        }
      ]
    },
    {
      "cell_type": "code",
      "source": [
        "x_cords = km.cluster_centers_[: , 0]\n",
        "y_cords = km.cluster_centers_[: , 1]"
      ],
      "metadata": {
        "id": "MBiJKZYu7m2S"
      },
      "execution_count": 29,
      "outputs": []
    },
    {
      "cell_type": "code",
      "source": [
        "print(x_cords)\n",
        "print(y_cords)"
      ],
      "metadata": {
        "colab": {
          "base_uri": "https://localhost:8080/"
        },
        "id": "0iGK1NcP846E",
        "outputId": "46ae8d10-a396-43d4-d8af-0a23365a3cb7"
      },
      "execution_count": 30,
      "outputs": [
        {
          "output_type": "stream",
          "name": "stdout",
          "text": [
            "[35.         49.75       35.66666667]\n",
            "[88.06       72.         61.33333333]\n"
          ]
        }
      ]
    },
    {
      "cell_type": "code",
      "source": [
        "pp = sns.scatterplot(x = ndf['Age'], \n",
        "                     y = ndf['Weight'],\n",
        "                     #hue='D', \n",
        "                     marker='x',\n",
        "                     s=100,#size of markers\n",
        "                     cmap=\"nipy_spectral\"\n",
        "                    )\n",
        "\n",
        "pp = sns.scatterplot(x = x_cords, \n",
        "                     y = y_cords,\n",
        "                     #hue='D', \n",
        "                     marker='o',\n",
        "                     s=150,#size of markers\n",
        "                     cmap=\"nipy_spectral\",\n",
        "                     color = 'red',\n",
        "                     label = 'Centroids'\n",
        "                    )"
      ],
      "metadata": {
        "colab": {
          "base_uri": "https://localhost:8080/",
          "height": 279
        },
        "id": "lPe5NA0c9aPq",
        "outputId": "db996cec-c330-45a4-9450-292ee76d862f"
      },
      "execution_count": 35,
      "outputs": [
        {
          "output_type": "display_data",
          "data": {
            "text/plain": [
              "<Figure size 432x288 with 1 Axes>"
            ],
            "image/png": "[encoded data removed]"
          },
          "metadata": {
            "needs_background": "light"
          }
        }
      ]
    },
    {
      "cell_type": "markdown",
      "source": [
        "Para saber el cluster ideal hay que verificar la distancia (Inertia)\n",
        "Inertia is  633.1553333333333\n"
      ],
      "metadata": {
        "id": "SvhrocVK-QZF"
      }
    },
    {
      "cell_type": "markdown",
      "source": [
        "Vamos a verificar si hay 12 datos y 12 clusters, en teoría la distancia de cada punto a en 12 clusters es = 0"
      ],
      "metadata": {
        "id": "IMUoVNhw-_sV"
      }
    },
    {
      "cell_type": "code",
      "source": [
        "df.shape"
      ],
      "metadata": {
        "colab": {
          "base_uri": "https://localhost:8080/"
        },
        "id": "0fTmAdpR_QrG",
        "outputId": "158f75c4-a1c9-4792-a27d-16140c540887"
      },
      "execution_count": 38,
      "outputs": [
        {
          "output_type": "execute_result",
          "data": {
            "text/plain": [
              "(12, 8)"
            ]
          },
          "metadata": {},
          "execution_count": 38
        }
      ]
    },
    {
      "cell_type": "code",
      "source": [
        "df.shape[0] # para llamar el 12 solamente"
      ],
      "metadata": {
        "colab": {
          "base_uri": "https://localhost:8080/"
        },
        "id": "Fk0hQhIY_Jfi",
        "outputId": "525d80c1-0f8e-4fd9-cd54-5ad36dafd3a8"
      },
      "execution_count": 37,
      "outputs": [
        {
          "output_type": "execute_result",
          "data": {
            "text/plain": [
              "12"
            ]
          },
          "metadata": {},
          "execution_count": 37
        }
      ]
    },
    {
      "cell_type": "code",
      "source": [
        "wcss = []\n",
        "max_centroid = df.shape[0]+1\n",
        "\n",
        "for i in range (1, max_centroid): #max_centroid = 12\n",
        "  km = KMeans(n_clusters = i,\n",
        "              random_state = 0,\n",
        "              init = 'k-means++'   #inizializations, cada vez está reiniciando el i, es un for loop\n",
        "              )\n",
        "  km.fit(ndf)\n",
        "  wcss.append(km.inertia_)\n",
        "  print('for i = {}, \\t inertia is ={}'.format(i, km.inertia_))"
      ],
      "metadata": {
        "colab": {
          "base_uri": "https://localhost:8080/"
        },
        "id": "8OleKwZ8-_c-",
        "outputId": "0acc2fb8-3dd7-4cdb-da03-a5587572b155"
      },
      "execution_count": 45,
      "outputs": [
        {
          "output_type": "stream",
          "name": "stdout",
          "text": [
            "for i = 1, \t inertia is =2631.1991666666663\n",
            "for i = 2, \t inertia is =1168.214857142857\n",
            "for i = 3, \t inertia is =633.1553333333333\n",
            "for i = 4, \t inertia is =423.56999999999994\n",
            "for i = 5, \t inertia is =297.31999999999994\n",
            "for i = 6, \t inertia is =178.48666666666662\n",
            "for i = 7, \t inertia is =88.16666666666666\n",
            "for i = 8, \t inertia is =60.125\n",
            "for i = 9, \t inertia is =37.625\n",
            "for i = 10, \t inertia is =17.625\n",
            "for i = 11, \t inertia is =5.125\n",
            "for i = 12, \t inertia is =0.0\n"
          ]
        }
      ]
    },
    {
      "cell_type": "code",
      "source": [
        "print('my value i is ',i)"
      ],
      "metadata": {
        "colab": {
          "base_uri": "https://localhost:8080/"
        },
        "id": "f-uPogwC9ze6",
        "outputId": "0d05c6d7-8e5e-49d1-a4fa-b1411706b28a"
      },
      "execution_count": 46,
      "outputs": [
        {
          "output_type": "stream",
          "name": "stdout",
          "text": [
            "my value i is  12\n"
          ]
        }
      ]
    },
    {
      "cell_type": "code",
      "source": [
        "print('for i = {} clusters, \\t inertia is ={}'.format(i, km.inertia_))"
      ],
      "metadata": {
        "colab": {
          "base_uri": "https://localhost:8080/"
        },
        "id": "gm9iRtC__wRQ",
        "outputId": "e1c564ac-ea23-4c18-cde7-867195cc7630"
      },
      "execution_count": 47,
      "outputs": [
        {
          "output_type": "stream",
          "name": "stdout",
          "text": [
            "for i = 12 clusters, \t inertia is =0.0\n"
          ]
        }
      ]
    },
    {
      "cell_type": "code",
      "source": [
        "import matplotlib.pyplot as plt"
      ],
      "metadata": {
        "id": "f36rEiWiBYi3"
      },
      "execution_count": 48,
      "outputs": []
    },
    {
      "cell_type": "code",
      "source": [
        "sns.lineplot(x = range(1, max_centroid),\n",
        "             y = wcss,\n",
        "             marker = 'o',\n",
        ")       "
      ],
      "metadata": {
        "colab": {
          "base_uri": "https://localhost:8080/",
          "height": 282
        },
        "id": "GpK4oSxrB9Pd",
        "outputId": "da601279-4630-4f83-cba7-07f7415703b8"
      },
      "execution_count": 50,
      "outputs": [
        {
          "output_type": "execute_result",
          "data": {
            "text/plain": [
              "<AxesSubplot:>"
            ]
          },
          "metadata": {},
          "execution_count": 50
        },
        {
          "output_type": "display_data",
          "data": {
            "text/plain": [
              "<Figure size 432x288 with 1 Axes>"
            ],
            "image/png": "[encoded data removed]"
          },
          "metadata": {
            "needs_background": "light"
          }
        }
      ]
    },
    {
      "cell_type": "markdown",
      "source": [
        "el codo es el tercer cluster, por lo que el ideal sería 3 clusters\n",
        "\n"
      ],
      "metadata": {
        "id": "brppBRXLCP3e"
      }
    },
    {
      "cell_type": "markdown",
      "source": [
        "Nos traemos nuevamente la gráfica que hicimos anteriormente"
      ],
      "metadata": {
        "id": "6KQRYL0CCkpY"
      }
    },
    {
      "cell_type": "code",
      "source": [
        "pp = sns.scatterplot(x = ndf['Age'], \n",
        "                     y = ndf['Weight'],\n",
        "                     #hue='D', \n",
        "                     marker='x',\n",
        "                     s=100,#size of markers\n",
        "                     cmap=\"nipy_spectral\"\n",
        "                    )\n",
        "\n",
        "pp = sns.scatterplot(x = x_cords, \n",
        "                     y = y_cords,\n",
        "                     #hue='D', \n",
        "                     marker='o',\n",
        "                     s=150,#size of markers\n",
        "                     cmap=\"nipy_spectral\",\n",
        "                     color = 'red',\n",
        "                     label = 'Centroids'\n",
        "                    )"
      ],
      "metadata": {
        "colab": {
          "base_uri": "https://localhost:8080/",
          "height": 279
        },
        "id": "BD6ckT90CKJR",
        "outputId": "f979e64f-609b-408d-cf9e-b6ba3b34e8de"
      },
      "execution_count": 51,
      "outputs": [
        {
          "output_type": "display_data",
          "data": {
            "text/plain": [
              "<Figure size 432x288 with 1 Axes>"
            ],
            "image/png": "[encoded data removed]"
          },
          "metadata": {
            "needs_background": "light"
          }
        }
      ]
    },
    {
      "cell_type": "markdown",
      "source": [
        "vamos a pintar las tachitas del color del cluster correspondiente"
      ],
      "metadata": {
        "id": "kii2DzbmCaaw"
      }
    },
    {
      "cell_type": "code",
      "source": [],
      "metadata": {
        "id": "71Mi3fwWCZhe"
      },
      "execution_count": null,
      "outputs": []
    }
  ]
}